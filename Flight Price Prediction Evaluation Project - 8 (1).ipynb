{
 "cells": [
  {
   "cell_type": "markdown",
   "metadata": {},
   "source": [
    "# Flight Price Prediction"
   ]
  },
  {
   "cell_type": "markdown",
   "metadata": {},
   "source": [
    "## Problem Statement:"
   ]
  },
  {
   "cell_type": "markdown",
   "metadata": {},
   "source": [
    "Flight ticket prices can be something hard to guess, today we might see a price, check out the price of the same flight tomorrow, it will be a different story. We might have often heard travellers saying that flight ticket prices are so unpredictable. Here you will be provided with prices of flight tickets for various airlines between the months of March and June of 2019 and between various cities.\n",
    "\n",
    "Size of training set: 10683 records\n",
    "\n",
    "Size of test set: 2671 records\n",
    "\n",
    "FEATURES:\n",
    "Airline: The name of the airline.\n",
    "\n",
    "Date_of_Journey: The date of the journey\n",
    "\n",
    "Source: The source from which the service begins.\n",
    "\n",
    "Destination: The destination where the service ends.\n",
    "\n",
    "Route: The route taken by the flight to reach the destination.\n",
    "\n",
    "Dep_Time: The time when the journey starts from the source.\n",
    "\n",
    "Arrival_Time: Time of arrival at the destination.\n",
    "\n",
    "Duration: Total duration of the flight.\n",
    "\n",
    "Total_Stops: Total stops between the source and destination.\n",
    "\n",
    "Additional_Info: Additional information about the flight\n",
    "\n",
    "Price: The price of the ticket"
   ]
  },
  {
   "cell_type": "markdown",
   "metadata": {},
   "source": [
    "## Importing the required libraries:"
   ]
  },
  {
   "cell_type": "code",
   "execution_count": 2142,
   "metadata": {},
   "outputs": [],
   "source": [
    "import pandas as pd\n",
    "import numpy as np\n",
    "import seaborn as sns\n",
    "import matplotlib.pyplot as plt\n",
    "import sklearn\n",
    "from sklearn.model_selection import train_test_split,cross_val_score,GridSearchCV,RandomizedSearchCV\n",
    "from sklearn.ensemble import RandomForestRegressor,AdaBoostRegressor\n",
    "from sklearn.linear_model import LinearRegression,ElasticNet\n",
    "from sklearn.svm import SVR\n",
    "from sklearn.tree import DecisionTreeRegressor\n",
    "from sklearn.neighbors import KNeighborsRegressor\n",
    "from sklearn.metrics import mean_absolute_error,mean_squared_error,r2_score\n",
    "from sklearn.preprocessing import MinMaxScaler,power_transform,LabelEncoder,OrdinalEncoder,StandardScaler\n",
    "from sklearn.decomposition import PCA\n",
    "from scipy.stats import zscore\n",
    "import warnings\n",
    "warnings.filterwarnings('ignore')"
   ]
  },
  {
   "cell_type": "markdown",
   "metadata": {},
   "source": [
    "## Loading the dataset:"
   ]
  },
  {
   "cell_type": "code",
   "execution_count": 2143,
   "metadata": {},
   "outputs": [],
   "source": [
    "#since we checked that \"Date_of_Journey\",\"Dep_Time\"and \"Arrival_Time\" are date columns, so loading them as date\n",
    "\n",
    "train_dataset = pd.read_excel('flight_train.xlsx',parse_dates= [\"Date_of_Journey\",\"Dep_Time\",\"Arrival_Time\"])\n",
    "test_dataset = pd.read_excel('flight_test.xlsx',parse_dates= [\"Date_of_Journey\",\"Dep_Time\",\"Arrival_Time\"])"
   ]
  },
  {
   "cell_type": "code",
   "execution_count": 2144,
   "metadata": {},
   "outputs": [
    {
     "data": {
      "text/html": [
       "<div>\n",
       "<style scoped>\n",
       "    .dataframe tbody tr th:only-of-type {\n",
       "        vertical-align: middle;\n",
       "    }\n",
       "\n",
       "    .dataframe tbody tr th {\n",
       "        vertical-align: top;\n",
       "    }\n",
       "\n",
       "    .dataframe thead th {\n",
       "        text-align: right;\n",
       "    }\n",
       "</style>\n",
       "<table border=\"1\" class=\"dataframe\">\n",
       "  <thead>\n",
       "    <tr style=\"text-align: right;\">\n",
       "      <th></th>\n",
       "      <th>Airline</th>\n",
       "      <th>Date_of_Journey</th>\n",
       "      <th>Source</th>\n",
       "      <th>Destination</th>\n",
       "      <th>Route</th>\n",
       "      <th>Dep_Time</th>\n",
       "      <th>Arrival_Time</th>\n",
       "      <th>Duration</th>\n",
       "      <th>Total_Stops</th>\n",
       "      <th>Additional_Info</th>\n",
       "      <th>Price</th>\n",
       "    </tr>\n",
       "  </thead>\n",
       "  <tbody>\n",
       "    <tr>\n",
       "      <td>0</td>\n",
       "      <td>IndiGo</td>\n",
       "      <td>2019-03-24</td>\n",
       "      <td>Banglore</td>\n",
       "      <td>New Delhi</td>\n",
       "      <td>BLR → DEL</td>\n",
       "      <td>2021-05-26 22:20:00</td>\n",
       "      <td>2021-03-22 01:10:00</td>\n",
       "      <td>2h 50m</td>\n",
       "      <td>non-stop</td>\n",
       "      <td>No info</td>\n",
       "      <td>3897</td>\n",
       "    </tr>\n",
       "    <tr>\n",
       "      <td>1</td>\n",
       "      <td>Air India</td>\n",
       "      <td>2019-01-05</td>\n",
       "      <td>Kolkata</td>\n",
       "      <td>Banglore</td>\n",
       "      <td>CCU → IXR → BBI → BLR</td>\n",
       "      <td>2021-05-26 05:50:00</td>\n",
       "      <td>2021-05-26 13:15:00</td>\n",
       "      <td>7h 25m</td>\n",
       "      <td>2 stops</td>\n",
       "      <td>No info</td>\n",
       "      <td>7662</td>\n",
       "    </tr>\n",
       "    <tr>\n",
       "      <td>2</td>\n",
       "      <td>Jet Airways</td>\n",
       "      <td>2019-09-06</td>\n",
       "      <td>Delhi</td>\n",
       "      <td>Cochin</td>\n",
       "      <td>DEL → LKO → BOM → COK</td>\n",
       "      <td>2021-05-26 09:25:00</td>\n",
       "      <td>2021-06-10 04:25:00</td>\n",
       "      <td>19h</td>\n",
       "      <td>2 stops</td>\n",
       "      <td>No info</td>\n",
       "      <td>13882</td>\n",
       "    </tr>\n",
       "    <tr>\n",
       "      <td>3</td>\n",
       "      <td>IndiGo</td>\n",
       "      <td>2019-12-05</td>\n",
       "      <td>Kolkata</td>\n",
       "      <td>Banglore</td>\n",
       "      <td>CCU → NAG → BLR</td>\n",
       "      <td>2021-05-26 18:05:00</td>\n",
       "      <td>2021-05-26 23:30:00</td>\n",
       "      <td>5h 25m</td>\n",
       "      <td>1 stop</td>\n",
       "      <td>No info</td>\n",
       "      <td>6218</td>\n",
       "    </tr>\n",
       "    <tr>\n",
       "      <td>4</td>\n",
       "      <td>IndiGo</td>\n",
       "      <td>2019-01-03</td>\n",
       "      <td>Banglore</td>\n",
       "      <td>New Delhi</td>\n",
       "      <td>BLR → NAG → DEL</td>\n",
       "      <td>2021-05-26 16:50:00</td>\n",
       "      <td>2021-05-26 21:35:00</td>\n",
       "      <td>4h 45m</td>\n",
       "      <td>1 stop</td>\n",
       "      <td>No info</td>\n",
       "      <td>13302</td>\n",
       "    </tr>\n",
       "  </tbody>\n",
       "</table>\n",
       "</div>"
      ],
      "text/plain": [
       "       Airline Date_of_Journey    Source Destination                  Route  \\\n",
       "0       IndiGo      2019-03-24  Banglore   New Delhi              BLR → DEL   \n",
       "1    Air India      2019-01-05   Kolkata    Banglore  CCU → IXR → BBI → BLR   \n",
       "2  Jet Airways      2019-09-06     Delhi      Cochin  DEL → LKO → BOM → COK   \n",
       "3       IndiGo      2019-12-05   Kolkata    Banglore        CCU → NAG → BLR   \n",
       "4       IndiGo      2019-01-03  Banglore   New Delhi        BLR → NAG → DEL   \n",
       "\n",
       "             Dep_Time        Arrival_Time Duration Total_Stops  \\\n",
       "0 2021-05-26 22:20:00 2021-03-22 01:10:00   2h 50m    non-stop   \n",
       "1 2021-05-26 05:50:00 2021-05-26 13:15:00   7h 25m     2 stops   \n",
       "2 2021-05-26 09:25:00 2021-06-10 04:25:00      19h     2 stops   \n",
       "3 2021-05-26 18:05:00 2021-05-26 23:30:00   5h 25m      1 stop   \n",
       "4 2021-05-26 16:50:00 2021-05-26 21:35:00   4h 45m      1 stop   \n",
       "\n",
       "  Additional_Info  Price  \n",
       "0         No info   3897  \n",
       "1         No info   7662  \n",
       "2         No info  13882  \n",
       "3         No info   6218  \n",
       "4         No info  13302  "
      ]
     },
     "execution_count": 2144,
     "metadata": {},
     "output_type": "execute_result"
    }
   ],
   "source": [
    "train_dataset.head()"
   ]
  },
  {
   "cell_type": "code",
   "execution_count": 2145,
   "metadata": {},
   "outputs": [
    {
     "data": {
      "text/html": [
       "<div>\n",
       "<style scoped>\n",
       "    .dataframe tbody tr th:only-of-type {\n",
       "        vertical-align: middle;\n",
       "    }\n",
       "\n",
       "    .dataframe tbody tr th {\n",
       "        vertical-align: top;\n",
       "    }\n",
       "\n",
       "    .dataframe thead th {\n",
       "        text-align: right;\n",
       "    }\n",
       "</style>\n",
       "<table border=\"1\" class=\"dataframe\">\n",
       "  <thead>\n",
       "    <tr style=\"text-align: right;\">\n",
       "      <th></th>\n",
       "      <th>Airline</th>\n",
       "      <th>Date_of_Journey</th>\n",
       "      <th>Source</th>\n",
       "      <th>Destination</th>\n",
       "      <th>Route</th>\n",
       "      <th>Dep_Time</th>\n",
       "      <th>Arrival_Time</th>\n",
       "      <th>Duration</th>\n",
       "      <th>Total_Stops</th>\n",
       "      <th>Additional_Info</th>\n",
       "    </tr>\n",
       "  </thead>\n",
       "  <tbody>\n",
       "    <tr>\n",
       "      <td>0</td>\n",
       "      <td>Jet Airways</td>\n",
       "      <td>2019-06-06</td>\n",
       "      <td>Delhi</td>\n",
       "      <td>Cochin</td>\n",
       "      <td>DEL → BOM → COK</td>\n",
       "      <td>2021-05-26 17:30:00</td>\n",
       "      <td>2021-06-07 04:25:00</td>\n",
       "      <td>10h 55m</td>\n",
       "      <td>1 stop</td>\n",
       "      <td>No info</td>\n",
       "    </tr>\n",
       "    <tr>\n",
       "      <td>1</td>\n",
       "      <td>IndiGo</td>\n",
       "      <td>2019-12-05</td>\n",
       "      <td>Kolkata</td>\n",
       "      <td>Banglore</td>\n",
       "      <td>CCU → MAA → BLR</td>\n",
       "      <td>2021-05-26 06:20:00</td>\n",
       "      <td>2021-05-26 10:20:00</td>\n",
       "      <td>4h</td>\n",
       "      <td>1 stop</td>\n",
       "      <td>No info</td>\n",
       "    </tr>\n",
       "    <tr>\n",
       "      <td>2</td>\n",
       "      <td>Jet Airways</td>\n",
       "      <td>2019-05-21</td>\n",
       "      <td>Delhi</td>\n",
       "      <td>Cochin</td>\n",
       "      <td>DEL → BOM → COK</td>\n",
       "      <td>2021-05-26 19:15:00</td>\n",
       "      <td>2021-05-22 19:00:00</td>\n",
       "      <td>23h 45m</td>\n",
       "      <td>1 stop</td>\n",
       "      <td>In-flight meal not included</td>\n",
       "    </tr>\n",
       "    <tr>\n",
       "      <td>3</td>\n",
       "      <td>Multiple carriers</td>\n",
       "      <td>2019-05-21</td>\n",
       "      <td>Delhi</td>\n",
       "      <td>Cochin</td>\n",
       "      <td>DEL → BOM → COK</td>\n",
       "      <td>2021-05-26 08:00:00</td>\n",
       "      <td>2021-05-26 21:00:00</td>\n",
       "      <td>13h</td>\n",
       "      <td>1 stop</td>\n",
       "      <td>No info</td>\n",
       "    </tr>\n",
       "    <tr>\n",
       "      <td>4</td>\n",
       "      <td>Air Asia</td>\n",
       "      <td>2019-06-24</td>\n",
       "      <td>Banglore</td>\n",
       "      <td>Delhi</td>\n",
       "      <td>BLR → DEL</td>\n",
       "      <td>2021-05-26 23:55:00</td>\n",
       "      <td>2021-06-25 02:45:00</td>\n",
       "      <td>2h 50m</td>\n",
       "      <td>non-stop</td>\n",
       "      <td>No info</td>\n",
       "    </tr>\n",
       "  </tbody>\n",
       "</table>\n",
       "</div>"
      ],
      "text/plain": [
       "             Airline Date_of_Journey    Source Destination            Route  \\\n",
       "0        Jet Airways      2019-06-06     Delhi      Cochin  DEL → BOM → COK   \n",
       "1             IndiGo      2019-12-05   Kolkata    Banglore  CCU → MAA → BLR   \n",
       "2        Jet Airways      2019-05-21     Delhi      Cochin  DEL → BOM → COK   \n",
       "3  Multiple carriers      2019-05-21     Delhi      Cochin  DEL → BOM → COK   \n",
       "4           Air Asia      2019-06-24  Banglore       Delhi        BLR → DEL   \n",
       "\n",
       "             Dep_Time        Arrival_Time Duration Total_Stops  \\\n",
       "0 2021-05-26 17:30:00 2021-06-07 04:25:00  10h 55m      1 stop   \n",
       "1 2021-05-26 06:20:00 2021-05-26 10:20:00       4h      1 stop   \n",
       "2 2021-05-26 19:15:00 2021-05-22 19:00:00  23h 45m      1 stop   \n",
       "3 2021-05-26 08:00:00 2021-05-26 21:00:00      13h      1 stop   \n",
       "4 2021-05-26 23:55:00 2021-06-25 02:45:00   2h 50m    non-stop   \n",
       "\n",
       "               Additional_Info  \n",
       "0                      No info  \n",
       "1                      No info  \n",
       "2  In-flight meal not included  \n",
       "3                      No info  \n",
       "4                      No info  "
      ]
     },
     "execution_count": 2145,
     "metadata": {},
     "output_type": "execute_result"
    }
   ],
   "source": [
    "test_dataset.head()"
   ]
  },
  {
   "cell_type": "code",
   "execution_count": 2146,
   "metadata": {},
   "outputs": [
    {
     "data": {
      "text/plain": [
       "(10683, 11)"
      ]
     },
     "execution_count": 2146,
     "metadata": {},
     "output_type": "execute_result"
    }
   ],
   "source": [
    "train_dataset.shape"
   ]
  },
  {
   "cell_type": "markdown",
   "metadata": {},
   "source": [
    "We have target variable in train dataset which is price"
   ]
  },
  {
   "cell_type": "code",
   "execution_count": 2147,
   "metadata": {},
   "outputs": [
    {
     "data": {
      "text/plain": [
       "(2671, 10)"
      ]
     },
     "execution_count": 2147,
     "metadata": {},
     "output_type": "execute_result"
    }
   ],
   "source": [
    "test_dataset.shape"
   ]
  },
  {
   "cell_type": "markdown",
   "metadata": {},
   "source": [
    "No target variable in test dataset"
   ]
  },
  {
   "cell_type": "markdown",
   "metadata": {},
   "source": [
    "## Lets combine these datasets for data preprocessing"
   ]
  },
  {
   "cell_type": "code",
   "execution_count": 2148,
   "metadata": {},
   "outputs": [
    {
     "data": {
      "text/html": [
       "<div>\n",
       "<style scoped>\n",
       "    .dataframe tbody tr th:only-of-type {\n",
       "        vertical-align: middle;\n",
       "    }\n",
       "\n",
       "    .dataframe tbody tr th {\n",
       "        vertical-align: top;\n",
       "    }\n",
       "\n",
       "    .dataframe thead th {\n",
       "        text-align: right;\n",
       "    }\n",
       "</style>\n",
       "<table border=\"1\" class=\"dataframe\">\n",
       "  <thead>\n",
       "    <tr style=\"text-align: right;\">\n",
       "      <th></th>\n",
       "      <th>Additional_Info</th>\n",
       "      <th>Airline</th>\n",
       "      <th>Arrival_Time</th>\n",
       "      <th>Date_of_Journey</th>\n",
       "      <th>Dep_Time</th>\n",
       "      <th>Destination</th>\n",
       "      <th>Duration</th>\n",
       "      <th>Price</th>\n",
       "      <th>Route</th>\n",
       "      <th>Source</th>\n",
       "      <th>Temp</th>\n",
       "      <th>Total_Stops</th>\n",
       "    </tr>\n",
       "  </thead>\n",
       "  <tbody>\n",
       "    <tr>\n",
       "      <td>0</td>\n",
       "      <td>No info</td>\n",
       "      <td>IndiGo</td>\n",
       "      <td>2021-03-22 01:10:00</td>\n",
       "      <td>2019-03-24</td>\n",
       "      <td>2021-05-26 22:20:00</td>\n",
       "      <td>New Delhi</td>\n",
       "      <td>2h 50m</td>\n",
       "      <td>3897.0</td>\n",
       "      <td>BLR → DEL</td>\n",
       "      <td>Banglore</td>\n",
       "      <td>Train</td>\n",
       "      <td>non-stop</td>\n",
       "    </tr>\n",
       "    <tr>\n",
       "      <td>1</td>\n",
       "      <td>No info</td>\n",
       "      <td>Air India</td>\n",
       "      <td>2021-05-26 13:15:00</td>\n",
       "      <td>2019-01-05</td>\n",
       "      <td>2021-05-26 05:50:00</td>\n",
       "      <td>Banglore</td>\n",
       "      <td>7h 25m</td>\n",
       "      <td>7662.0</td>\n",
       "      <td>CCU → IXR → BBI → BLR</td>\n",
       "      <td>Kolkata</td>\n",
       "      <td>Train</td>\n",
       "      <td>2 stops</td>\n",
       "    </tr>\n",
       "    <tr>\n",
       "      <td>2</td>\n",
       "      <td>No info</td>\n",
       "      <td>Jet Airways</td>\n",
       "      <td>2021-06-10 04:25:00</td>\n",
       "      <td>2019-09-06</td>\n",
       "      <td>2021-05-26 09:25:00</td>\n",
       "      <td>Cochin</td>\n",
       "      <td>19h</td>\n",
       "      <td>13882.0</td>\n",
       "      <td>DEL → LKO → BOM → COK</td>\n",
       "      <td>Delhi</td>\n",
       "      <td>Train</td>\n",
       "      <td>2 stops</td>\n",
       "    </tr>\n",
       "    <tr>\n",
       "      <td>3</td>\n",
       "      <td>No info</td>\n",
       "      <td>IndiGo</td>\n",
       "      <td>2021-05-26 23:30:00</td>\n",
       "      <td>2019-12-05</td>\n",
       "      <td>2021-05-26 18:05:00</td>\n",
       "      <td>Banglore</td>\n",
       "      <td>5h 25m</td>\n",
       "      <td>6218.0</td>\n",
       "      <td>CCU → NAG → BLR</td>\n",
       "      <td>Kolkata</td>\n",
       "      <td>Train</td>\n",
       "      <td>1 stop</td>\n",
       "    </tr>\n",
       "    <tr>\n",
       "      <td>4</td>\n",
       "      <td>No info</td>\n",
       "      <td>IndiGo</td>\n",
       "      <td>2021-05-26 21:35:00</td>\n",
       "      <td>2019-01-03</td>\n",
       "      <td>2021-05-26 16:50:00</td>\n",
       "      <td>New Delhi</td>\n",
       "      <td>4h 45m</td>\n",
       "      <td>13302.0</td>\n",
       "      <td>BLR → NAG → DEL</td>\n",
       "      <td>Banglore</td>\n",
       "      <td>Train</td>\n",
       "      <td>1 stop</td>\n",
       "    </tr>\n",
       "    <tr>\n",
       "      <td>...</td>\n",
       "      <td>...</td>\n",
       "      <td>...</td>\n",
       "      <td>...</td>\n",
       "      <td>...</td>\n",
       "      <td>...</td>\n",
       "      <td>...</td>\n",
       "      <td>...</td>\n",
       "      <td>...</td>\n",
       "      <td>...</td>\n",
       "      <td>...</td>\n",
       "      <td>...</td>\n",
       "      <td>...</td>\n",
       "    </tr>\n",
       "    <tr>\n",
       "      <td>13349</td>\n",
       "      <td>No info</td>\n",
       "      <td>Air India</td>\n",
       "      <td>2021-06-07 20:25:00</td>\n",
       "      <td>2019-06-06</td>\n",
       "      <td>2021-05-26 20:30:00</td>\n",
       "      <td>Banglore</td>\n",
       "      <td>23h 55m</td>\n",
       "      <td>NaN</td>\n",
       "      <td>CCU → DEL → BLR</td>\n",
       "      <td>Kolkata</td>\n",
       "      <td>Test</td>\n",
       "      <td>1 stop</td>\n",
       "    </tr>\n",
       "    <tr>\n",
       "      <td>13350</td>\n",
       "      <td>No info</td>\n",
       "      <td>IndiGo</td>\n",
       "      <td>2021-05-26 16:55:00</td>\n",
       "      <td>2019-03-27</td>\n",
       "      <td>2021-05-26 14:20:00</td>\n",
       "      <td>Banglore</td>\n",
       "      <td>2h 35m</td>\n",
       "      <td>NaN</td>\n",
       "      <td>CCU → BLR</td>\n",
       "      <td>Kolkata</td>\n",
       "      <td>Test</td>\n",
       "      <td>non-stop</td>\n",
       "    </tr>\n",
       "    <tr>\n",
       "      <td>13351</td>\n",
       "      <td>No info</td>\n",
       "      <td>Jet Airways</td>\n",
       "      <td>2021-03-07 04:25:00</td>\n",
       "      <td>2019-06-03</td>\n",
       "      <td>2021-05-26 21:50:00</td>\n",
       "      <td>Cochin</td>\n",
       "      <td>6h 35m</td>\n",
       "      <td>NaN</td>\n",
       "      <td>DEL → BOM → COK</td>\n",
       "      <td>Delhi</td>\n",
       "      <td>Test</td>\n",
       "      <td>1 stop</td>\n",
       "    </tr>\n",
       "    <tr>\n",
       "      <td>13352</td>\n",
       "      <td>No info</td>\n",
       "      <td>Air India</td>\n",
       "      <td>2021-05-26 19:15:00</td>\n",
       "      <td>2019-06-03</td>\n",
       "      <td>2021-05-26 04:00:00</td>\n",
       "      <td>Cochin</td>\n",
       "      <td>15h 15m</td>\n",
       "      <td>NaN</td>\n",
       "      <td>DEL → BOM → COK</td>\n",
       "      <td>Delhi</td>\n",
       "      <td>Test</td>\n",
       "      <td>1 stop</td>\n",
       "    </tr>\n",
       "    <tr>\n",
       "      <td>13353</td>\n",
       "      <td>No info</td>\n",
       "      <td>Multiple carriers</td>\n",
       "      <td>2021-05-26 19:15:00</td>\n",
       "      <td>2019-06-15</td>\n",
       "      <td>2021-05-26 04:55:00</td>\n",
       "      <td>Cochin</td>\n",
       "      <td>14h 20m</td>\n",
       "      <td>NaN</td>\n",
       "      <td>DEL → BOM → COK</td>\n",
       "      <td>Delhi</td>\n",
       "      <td>Test</td>\n",
       "      <td>1 stop</td>\n",
       "    </tr>\n",
       "  </tbody>\n",
       "</table>\n",
       "<p>13354 rows × 12 columns</p>\n",
       "</div>"
      ],
      "text/plain": [
       "      Additional_Info            Airline        Arrival_Time Date_of_Journey  \\\n",
       "0             No info             IndiGo 2021-03-22 01:10:00      2019-03-24   \n",
       "1             No info          Air India 2021-05-26 13:15:00      2019-01-05   \n",
       "2             No info        Jet Airways 2021-06-10 04:25:00      2019-09-06   \n",
       "3             No info             IndiGo 2021-05-26 23:30:00      2019-12-05   \n",
       "4             No info             IndiGo 2021-05-26 21:35:00      2019-01-03   \n",
       "...               ...                ...                 ...             ...   \n",
       "13349         No info          Air India 2021-06-07 20:25:00      2019-06-06   \n",
       "13350         No info             IndiGo 2021-05-26 16:55:00      2019-03-27   \n",
       "13351         No info        Jet Airways 2021-03-07 04:25:00      2019-06-03   \n",
       "13352         No info          Air India 2021-05-26 19:15:00      2019-06-03   \n",
       "13353         No info  Multiple carriers 2021-05-26 19:15:00      2019-06-15   \n",
       "\n",
       "                 Dep_Time Destination Duration    Price  \\\n",
       "0     2021-05-26 22:20:00   New Delhi   2h 50m   3897.0   \n",
       "1     2021-05-26 05:50:00    Banglore   7h 25m   7662.0   \n",
       "2     2021-05-26 09:25:00      Cochin      19h  13882.0   \n",
       "3     2021-05-26 18:05:00    Banglore   5h 25m   6218.0   \n",
       "4     2021-05-26 16:50:00   New Delhi   4h 45m  13302.0   \n",
       "...                   ...         ...      ...      ...   \n",
       "13349 2021-05-26 20:30:00    Banglore  23h 55m      NaN   \n",
       "13350 2021-05-26 14:20:00    Banglore   2h 35m      NaN   \n",
       "13351 2021-05-26 21:50:00      Cochin   6h 35m      NaN   \n",
       "13352 2021-05-26 04:00:00      Cochin  15h 15m      NaN   \n",
       "13353 2021-05-26 04:55:00      Cochin  14h 20m      NaN   \n",
       "\n",
       "                       Route    Source   Temp Total_Stops  \n",
       "0                  BLR → DEL  Banglore  Train    non-stop  \n",
       "1      CCU → IXR → BBI → BLR   Kolkata  Train     2 stops  \n",
       "2      DEL → LKO → BOM → COK     Delhi  Train     2 stops  \n",
       "3            CCU → NAG → BLR   Kolkata  Train      1 stop  \n",
       "4            BLR → NAG → DEL  Banglore  Train      1 stop  \n",
       "...                      ...       ...    ...         ...  \n",
       "13349        CCU → DEL → BLR   Kolkata   Test      1 stop  \n",
       "13350              CCU → BLR   Kolkata   Test    non-stop  \n",
       "13351        DEL → BOM → COK     Delhi   Test      1 stop  \n",
       "13352        DEL → BOM → COK     Delhi   Test      1 stop  \n",
       "13353        DEL → BOM → COK     Delhi   Test      1 stop  \n",
       "\n",
       "[13354 rows x 12 columns]"
      ]
     },
     "execution_count": 2148,
     "metadata": {},
     "output_type": "execute_result"
    }
   ],
   "source": [
    "#lets make temperory column called temp which will show train and test dataset in future.\n",
    "train_dataset['Temp']=\"Train\"\n",
    "test_dataset['Temp']=\"Test\"\n",
    "df = pd.concat([train_dataset,test_dataset],ignore_index=True)\n",
    "df"
   ]
  },
  {
   "cell_type": "markdown",
   "metadata": {},
   "source": [
    "Now we have 13354 rows and 12 columns including temparory column, which will be removed later"
   ]
  },
  {
   "cell_type": "markdown",
   "metadata": {},
   "source": [
    "We don't have target variable in the rows where Test is present in temparory column"
   ]
  },
  {
   "cell_type": "markdown",
   "metadata": {},
   "source": [
    "## EDA (Exploratory Data Analysis)"
   ]
  },
  {
   "cell_type": "code",
   "execution_count": 2149,
   "metadata": {},
   "outputs": [
    {
     "data": {
      "text/plain": [
       "(13354, 12)"
      ]
     },
     "execution_count": 2149,
     "metadata": {},
     "output_type": "execute_result"
    }
   ],
   "source": [
    "df.shape"
   ]
  },
  {
   "cell_type": "markdown",
   "metadata": {},
   "source": [
    "Now we have 13354 rows and 12 columns"
   ]
  },
  {
   "cell_type": "code",
   "execution_count": 2150,
   "metadata": {},
   "outputs": [
    {
     "data": {
      "text/plain": [
       "Index(['Additional_Info', 'Airline', 'Arrival_Time', 'Date_of_Journey',\n",
       "       'Dep_Time', 'Destination', 'Duration', 'Price', 'Route', 'Source',\n",
       "       'Temp', 'Total_Stops'],\n",
       "      dtype='object')"
      ]
     },
     "execution_count": 2150,
     "metadata": {},
     "output_type": "execute_result"
    }
   ],
   "source": [
    "df.columns"
   ]
  },
  {
   "cell_type": "markdown",
   "metadata": {},
   "source": [
    "Price the target columns, Temp is Temporary columns, Rest all columns are indepenedent columns"
   ]
  },
  {
   "cell_type": "code",
   "execution_count": 2151,
   "metadata": {},
   "outputs": [
    {
     "data": {
      "text/plain": [
       "Additional_Info            object\n",
       "Airline                    object\n",
       "Arrival_Time       datetime64[ns]\n",
       "Date_of_Journey    datetime64[ns]\n",
       "Dep_Time           datetime64[ns]\n",
       "Destination                object\n",
       "Duration                   object\n",
       "Price                     float64\n",
       "Route                      object\n",
       "Source                     object\n",
       "Temp                       object\n",
       "Total_Stops                object\n",
       "dtype: object"
      ]
     },
     "execution_count": 2151,
     "metadata": {},
     "output_type": "execute_result"
    }
   ],
   "source": [
    "df.dtypes"
   ]
  },
  {
   "cell_type": "markdown",
   "metadata": {},
   "source": [
    "Excepet our target variable (price), all the columns are object data type"
   ]
  },
  {
   "cell_type": "code",
   "execution_count": 2152,
   "metadata": {},
   "outputs": [
    {
     "data": {
      "text/plain": [
       "Additional_Info       0\n",
       "Airline               0\n",
       "Arrival_Time          0\n",
       "Date_of_Journey       0\n",
       "Dep_Time              0\n",
       "Destination           0\n",
       "Duration              0\n",
       "Price              2671\n",
       "Route                 1\n",
       "Source                0\n",
       "Temp                  0\n",
       "Total_Stops           1\n",
       "dtype: int64"
      ]
     },
     "execution_count": 2152,
     "metadata": {},
     "output_type": "execute_result"
    }
   ],
   "source": [
    "#lets check for null values\n",
    "df.isnull().sum()"
   ]
  },
  {
   "cell_type": "markdown",
   "metadata": {},
   "source": [
    "we have 2671 null values in price column, which is not provided to us"
   ]
  },
  {
   "cell_type": "markdown",
   "metadata": {},
   "source": [
    "We also have 1 null value in route and 1 null value in total stop column"
   ]
  },
  {
   "cell_type": "code",
   "execution_count": 2153,
   "metadata": {},
   "outputs": [
    {
     "name": "stdout",
     "output_type": "stream",
     "text": [
      "Additional_Info 10\n",
      "Airline 12\n",
      "Destination 6\n",
      "Duration 374\n",
      "Route 133\n",
      "Source 5\n",
      "Temp 2\n",
      "Total_Stops 6\n"
     ]
    }
   ],
   "source": [
    "#lets print out the columns with unique values\n",
    "for i in df.columns:\n",
    "    if df[i].dtype == 'object':\n",
    "        print(i,len(pd.unique(df[i])))"
   ]
  },
  {
   "cell_type": "markdown",
   "metadata": {},
   "source": [
    "We can see the counr of unique values in all object coulmns"
   ]
  },
  {
   "cell_type": "code",
   "execution_count": 2154,
   "metadata": {},
   "outputs": [
    {
     "name": "stdout",
     "output_type": "stream",
     "text": [
      "\n",
      "\n",
      "Additional_Info No info                         10493\n",
      "In-flight meal not included      2426\n",
      "No check-in baggage included      396\n",
      "1 Long layover                     20\n",
      "Change airports                     8\n",
      "Business class                      5\n",
      "No Info                             3\n",
      "2 Long layover                      1\n",
      "1 Short layover                     1\n",
      "Red-eye flight                      1\n",
      "Name: Additional_Info, dtype: int64\n",
      "\n",
      "\n",
      "Airline Jet Airways                          4746\n",
      "IndiGo                               2564\n",
      "Air India                            2192\n",
      "Multiple carriers                    1543\n",
      "SpiceJet                             1026\n",
      "Vistara                               608\n",
      "Air Asia                              405\n",
      "GoAir                                 240\n",
      "Multiple carriers Premium economy      16\n",
      "Jet Airways Business                    8\n",
      "Vistara Premium economy                 5\n",
      "Trujet                                  1\n",
      "Name: Airline, dtype: int64\n",
      "\n",
      "\n",
      "Destination Cochin       5682\n",
      "Banglore     3581\n",
      "Delhi        1582\n",
      "New Delhi    1170\n",
      "Hyderabad     883\n",
      "Kolkata       456\n",
      "Name: Destination, dtype: int64\n",
      "\n",
      "\n",
      "Duration 2h 50m     672\n",
      "1h 30m     493\n",
      "2h 45m     432\n",
      "2h 55m     418\n",
      "2h 35m     399\n",
      "          ... \n",
      "31h 10m      1\n",
      "22h 50m      1\n",
      "31h 50m      1\n",
      "40h 20m      1\n",
      "3h 45m       1\n",
      "Name: Duration, Length: 374, dtype: int64\n",
      "\n",
      "\n",
      "Route DEL → BOM → COK                3000\n",
      "BLR → DEL                      1941\n",
      "CCU → BOM → BLR                1232\n",
      "CCU → BLR                       896\n",
      "BOM → HYD                       785\n",
      "                               ... \n",
      "BOM → JDH → JAI → DEL → HYD       1\n",
      "CCU → RPR → HYD → BLR             1\n",
      "CCU → VTZ → BLR                   1\n",
      "BOM → BBI → HYD                   1\n",
      "BOM → COK → MAA → HYD             1\n",
      "Name: Route, Length: 132, dtype: int64\n",
      "\n",
      "\n",
      "Source Delhi       5682\n",
      "Kolkata     3581\n",
      "Banglore    2752\n",
      "Mumbai       883\n",
      "Chennai      456\n",
      "Name: Source, dtype: int64\n",
      "\n",
      "\n",
      "Temp Train    10683\n",
      "Test      2671\n",
      "Name: Temp, dtype: int64\n",
      "\n",
      "\n",
      "Total_Stops 1 stop      7056\n",
      "non-stop    4340\n",
      "2 stops     1899\n",
      "3 stops       56\n",
      "4 stops        2\n",
      "Name: Total_Stops, dtype: int64\n"
     ]
    }
   ],
   "source": [
    "#lets print out the columns with unique values\n",
    "for i in df.columns:\n",
    "    if df[i].dtype == 'object':\n",
    "        print('\\n')\n",
    "        print(i,df[i].value_counts())"
   ]
  },
  {
   "cell_type": "markdown",
   "metadata": {},
   "source": [
    "## Data Preprocessing"
   ]
  },
  {
   "cell_type": "markdown",
   "metadata": {},
   "source": [
    "### Handling the Null values in the dataset"
   ]
  },
  {
   "cell_type": "code",
   "execution_count": 2155,
   "metadata": {},
   "outputs": [
    {
     "data": {
      "text/plain": [
       "Additional_Info       0\n",
       "Airline               0\n",
       "Arrival_Time          0\n",
       "Date_of_Journey       0\n",
       "Dep_Time              0\n",
       "Destination           0\n",
       "Duration              0\n",
       "Price              2671\n",
       "Route                 1\n",
       "Source                0\n",
       "Temp                  0\n",
       "Total_Stops           1\n",
       "dtype: int64"
      ]
     },
     "execution_count": 2155,
     "metadata": {},
     "output_type": "execute_result"
    }
   ],
   "source": [
    "df.isnull().sum()"
   ]
  },
  {
   "cell_type": "code",
   "execution_count": 2156,
   "metadata": {},
   "outputs": [
    {
     "data": {
      "text/plain": [
       "1"
      ]
     },
     "execution_count": 2156,
     "metadata": {},
     "output_type": "execute_result"
    }
   ],
   "source": [
    "#Route column\n",
    "df.Route.isnull().sum()"
   ]
  },
  {
   "cell_type": "markdown",
   "metadata": {},
   "source": [
    "we have only one null value"
   ]
  },
  {
   "cell_type": "code",
   "execution_count": 2157,
   "metadata": {},
   "outputs": [
    {
     "data": {
      "text/html": [
       "<div>\n",
       "<style scoped>\n",
       "    .dataframe tbody tr th:only-of-type {\n",
       "        vertical-align: middle;\n",
       "    }\n",
       "\n",
       "    .dataframe tbody tr th {\n",
       "        vertical-align: top;\n",
       "    }\n",
       "\n",
       "    .dataframe thead th {\n",
       "        text-align: right;\n",
       "    }\n",
       "</style>\n",
       "<table border=\"1\" class=\"dataframe\">\n",
       "  <thead>\n",
       "    <tr style=\"text-align: right;\">\n",
       "      <th></th>\n",
       "      <th>Additional_Info</th>\n",
       "      <th>Airline</th>\n",
       "      <th>Arrival_Time</th>\n",
       "      <th>Date_of_Journey</th>\n",
       "      <th>Dep_Time</th>\n",
       "      <th>Destination</th>\n",
       "      <th>Duration</th>\n",
       "      <th>Price</th>\n",
       "      <th>Route</th>\n",
       "      <th>Source</th>\n",
       "      <th>Temp</th>\n",
       "      <th>Total_Stops</th>\n",
       "    </tr>\n",
       "  </thead>\n",
       "  <tbody>\n",
       "    <tr>\n",
       "      <td>9039</td>\n",
       "      <td>No info</td>\n",
       "      <td>Air India</td>\n",
       "      <td>2021-05-07 09:25:00</td>\n",
       "      <td>2019-06-05</td>\n",
       "      <td>2021-05-26 09:45:00</td>\n",
       "      <td>Cochin</td>\n",
       "      <td>23h 40m</td>\n",
       "      <td>7480.0</td>\n",
       "      <td>NaN</td>\n",
       "      <td>Delhi</td>\n",
       "      <td>Train</td>\n",
       "      <td>NaN</td>\n",
       "    </tr>\n",
       "  </tbody>\n",
       "</table>\n",
       "</div>"
      ],
      "text/plain": [
       "     Additional_Info    Airline        Arrival_Time Date_of_Journey  \\\n",
       "9039         No info  Air India 2021-05-07 09:25:00      2019-06-05   \n",
       "\n",
       "                Dep_Time Destination Duration   Price Route Source   Temp  \\\n",
       "9039 2021-05-26 09:45:00      Cochin  23h 40m  7480.0   NaN  Delhi  Train   \n",
       "\n",
       "     Total_Stops  \n",
       "9039         NaN  "
      ]
     },
     "execution_count": 2157,
     "metadata": {},
     "output_type": "execute_result"
    }
   ],
   "source": [
    "#lets check that out\n",
    "df.loc[df.Route.isnull()]"
   ]
  },
  {
   "cell_type": "markdown",
   "metadata": {},
   "source": [
    "lets replace this mode, since it is a object datatype"
   ]
  },
  {
   "cell_type": "code",
   "execution_count": 2158,
   "metadata": {},
   "outputs": [],
   "source": [
    "#replace the nan value with mode\n",
    "df['Route'] = df['Route'].fillna(df['Route'].mode()[0])"
   ]
  },
  {
   "cell_type": "code",
   "execution_count": 2159,
   "metadata": {},
   "outputs": [
    {
     "data": {
      "text/plain": [
       "0"
      ]
     },
     "execution_count": 2159,
     "metadata": {},
     "output_type": "execute_result"
    }
   ],
   "source": [
    "#now there are no null values\n",
    "df.Route.isnull().sum()"
   ]
  },
  {
   "cell_type": "code",
   "execution_count": 2160,
   "metadata": {},
   "outputs": [
    {
     "data": {
      "text/plain": [
       "1"
      ]
     },
     "execution_count": 2160,
     "metadata": {},
     "output_type": "execute_result"
    }
   ],
   "source": [
    "#total stops column\n",
    "df.Total_Stops.isnull().sum()"
   ]
  },
  {
   "cell_type": "markdown",
   "metadata": {},
   "source": [
    "we have only one null value"
   ]
  },
  {
   "cell_type": "code",
   "execution_count": 2161,
   "metadata": {},
   "outputs": [
    {
     "data": {
      "text/html": [
       "<div>\n",
       "<style scoped>\n",
       "    .dataframe tbody tr th:only-of-type {\n",
       "        vertical-align: middle;\n",
       "    }\n",
       "\n",
       "    .dataframe tbody tr th {\n",
       "        vertical-align: top;\n",
       "    }\n",
       "\n",
       "    .dataframe thead th {\n",
       "        text-align: right;\n",
       "    }\n",
       "</style>\n",
       "<table border=\"1\" class=\"dataframe\">\n",
       "  <thead>\n",
       "    <tr style=\"text-align: right;\">\n",
       "      <th></th>\n",
       "      <th>Additional_Info</th>\n",
       "      <th>Airline</th>\n",
       "      <th>Arrival_Time</th>\n",
       "      <th>Date_of_Journey</th>\n",
       "      <th>Dep_Time</th>\n",
       "      <th>Destination</th>\n",
       "      <th>Duration</th>\n",
       "      <th>Price</th>\n",
       "      <th>Route</th>\n",
       "      <th>Source</th>\n",
       "      <th>Temp</th>\n",
       "      <th>Total_Stops</th>\n",
       "    </tr>\n",
       "  </thead>\n",
       "  <tbody>\n",
       "    <tr>\n",
       "      <td>9039</td>\n",
       "      <td>No info</td>\n",
       "      <td>Air India</td>\n",
       "      <td>2021-05-07 09:25:00</td>\n",
       "      <td>2019-06-05</td>\n",
       "      <td>2021-05-26 09:45:00</td>\n",
       "      <td>Cochin</td>\n",
       "      <td>23h 40m</td>\n",
       "      <td>7480.0</td>\n",
       "      <td>DEL → BOM → COK</td>\n",
       "      <td>Delhi</td>\n",
       "      <td>Train</td>\n",
       "      <td>NaN</td>\n",
       "    </tr>\n",
       "  </tbody>\n",
       "</table>\n",
       "</div>"
      ],
      "text/plain": [
       "     Additional_Info    Airline        Arrival_Time Date_of_Journey  \\\n",
       "9039         No info  Air India 2021-05-07 09:25:00      2019-06-05   \n",
       "\n",
       "                Dep_Time Destination Duration   Price            Route Source  \\\n",
       "9039 2021-05-26 09:45:00      Cochin  23h 40m  7480.0  DEL → BOM → COK  Delhi   \n",
       "\n",
       "       Temp Total_Stops  \n",
       "9039  Train         NaN  "
      ]
     },
     "execution_count": 2161,
     "metadata": {},
     "output_type": "execute_result"
    }
   ],
   "source": [
    "#lets check that out\n",
    "df.loc[df.Total_Stops.isnull()]"
   ]
  },
  {
   "cell_type": "code",
   "execution_count": 2162,
   "metadata": {},
   "outputs": [],
   "source": [
    "#replacing the nan value with mode\n",
    "df['Total_Stops'] = df['Total_Stops'].fillna(df['Total_Stops'].mode()[0])"
   ]
  },
  {
   "cell_type": "code",
   "execution_count": 2163,
   "metadata": {},
   "outputs": [
    {
     "data": {
      "text/html": [
       "<div>\n",
       "<style scoped>\n",
       "    .dataframe tbody tr th:only-of-type {\n",
       "        vertical-align: middle;\n",
       "    }\n",
       "\n",
       "    .dataframe tbody tr th {\n",
       "        vertical-align: top;\n",
       "    }\n",
       "\n",
       "    .dataframe thead th {\n",
       "        text-align: right;\n",
       "    }\n",
       "</style>\n",
       "<table border=\"1\" class=\"dataframe\">\n",
       "  <thead>\n",
       "    <tr style=\"text-align: right;\">\n",
       "      <th></th>\n",
       "      <th>Additional_Info</th>\n",
       "      <th>Airline</th>\n",
       "      <th>Arrival_Time</th>\n",
       "      <th>Date_of_Journey</th>\n",
       "      <th>Dep_Time</th>\n",
       "      <th>Destination</th>\n",
       "      <th>Duration</th>\n",
       "      <th>Price</th>\n",
       "      <th>Route</th>\n",
       "      <th>Source</th>\n",
       "      <th>Temp</th>\n",
       "      <th>Total_Stops</th>\n",
       "    </tr>\n",
       "  </thead>\n",
       "  <tbody>\n",
       "  </tbody>\n",
       "</table>\n",
       "</div>"
      ],
      "text/plain": [
       "Empty DataFrame\n",
       "Columns: [Additional_Info, Airline, Arrival_Time, Date_of_Journey, Dep_Time, Destination, Duration, Price, Route, Source, Temp, Total_Stops]\n",
       "Index: []"
      ]
     },
     "execution_count": 2163,
     "metadata": {},
     "output_type": "execute_result"
    }
   ],
   "source": [
    "#lets check that out\n",
    "df.loc[df.Total_Stops.isnull()]"
   ]
  },
  {
   "cell_type": "markdown",
   "metadata": {},
   "source": [
    " Now there are no null values in this dataset"
   ]
  },
  {
   "cell_type": "markdown",
   "metadata": {},
   "source": [
    "## Feature Enginerring"
   ]
  },
  {
   "cell_type": "code",
   "execution_count": 2164,
   "metadata": {},
   "outputs": [
    {
     "data": {
      "text/plain": [
       "0    2h 50m\n",
       "1    7h 25m\n",
       "2       19h\n",
       "3    5h 25m\n",
       "4    4h 45m\n",
       "Name: Duration, dtype: object"
      ]
     },
     "execution_count": 2164,
     "metadata": {},
     "output_type": "execute_result"
    }
   ],
   "source": [
    "#lets check out the duration column\n",
    "df.Duration.head()"
   ]
  },
  {
   "cell_type": "markdown",
   "metadata": {},
   "source": [
    "Duration column should have been in int or float format"
   ]
  },
  {
   "cell_type": "markdown",
   "metadata": {},
   "source": [
    "lets remove h and m from that column, and get use full data"
   ]
  },
  {
   "cell_type": "code",
   "execution_count": 2165,
   "metadata": {},
   "outputs": [],
   "source": [
    "#lets create a new column called duration and extract use full data in minutes\n",
    "df['duration'] = (pd.to_timedelta(df['Duration']).dt.seconds // 60).astype(str).astype(float)"
   ]
  },
  {
   "cell_type": "code",
   "execution_count": 2166,
   "metadata": {},
   "outputs": [
    {
     "data": {
      "text/html": [
       "<div>\n",
       "<style scoped>\n",
       "    .dataframe tbody tr th:only-of-type {\n",
       "        vertical-align: middle;\n",
       "    }\n",
       "\n",
       "    .dataframe tbody tr th {\n",
       "        vertical-align: top;\n",
       "    }\n",
       "\n",
       "    .dataframe thead th {\n",
       "        text-align: right;\n",
       "    }\n",
       "</style>\n",
       "<table border=\"1\" class=\"dataframe\">\n",
       "  <thead>\n",
       "    <tr style=\"text-align: right;\">\n",
       "      <th></th>\n",
       "      <th>Duration</th>\n",
       "      <th>duration</th>\n",
       "    </tr>\n",
       "  </thead>\n",
       "  <tbody>\n",
       "    <tr>\n",
       "      <td>0</td>\n",
       "      <td>2h 50m</td>\n",
       "      <td>170.0</td>\n",
       "    </tr>\n",
       "    <tr>\n",
       "      <td>1</td>\n",
       "      <td>7h 25m</td>\n",
       "      <td>445.0</td>\n",
       "    </tr>\n",
       "    <tr>\n",
       "      <td>2</td>\n",
       "      <td>19h</td>\n",
       "      <td>1140.0</td>\n",
       "    </tr>\n",
       "    <tr>\n",
       "      <td>3</td>\n",
       "      <td>5h 25m</td>\n",
       "      <td>325.0</td>\n",
       "    </tr>\n",
       "    <tr>\n",
       "      <td>4</td>\n",
       "      <td>4h 45m</td>\n",
       "      <td>285.0</td>\n",
       "    </tr>\n",
       "    <tr>\n",
       "      <td>...</td>\n",
       "      <td>...</td>\n",
       "      <td>...</td>\n",
       "    </tr>\n",
       "    <tr>\n",
       "      <td>13349</td>\n",
       "      <td>23h 55m</td>\n",
       "      <td>1435.0</td>\n",
       "    </tr>\n",
       "    <tr>\n",
       "      <td>13350</td>\n",
       "      <td>2h 35m</td>\n",
       "      <td>155.0</td>\n",
       "    </tr>\n",
       "    <tr>\n",
       "      <td>13351</td>\n",
       "      <td>6h 35m</td>\n",
       "      <td>395.0</td>\n",
       "    </tr>\n",
       "    <tr>\n",
       "      <td>13352</td>\n",
       "      <td>15h 15m</td>\n",
       "      <td>915.0</td>\n",
       "    </tr>\n",
       "    <tr>\n",
       "      <td>13353</td>\n",
       "      <td>14h 20m</td>\n",
       "      <td>860.0</td>\n",
       "    </tr>\n",
       "  </tbody>\n",
       "</table>\n",
       "<p>13354 rows × 2 columns</p>\n",
       "</div>"
      ],
      "text/plain": [
       "      Duration  duration\n",
       "0       2h 50m     170.0\n",
       "1       7h 25m     445.0\n",
       "2          19h    1140.0\n",
       "3       5h 25m     325.0\n",
       "4       4h 45m     285.0\n",
       "...        ...       ...\n",
       "13349  23h 55m    1435.0\n",
       "13350   2h 35m     155.0\n",
       "13351   6h 35m     395.0\n",
       "13352  15h 15m     915.0\n",
       "13353  14h 20m     860.0\n",
       "\n",
       "[13354 rows x 2 columns]"
      ]
     },
     "execution_count": 2166,
     "metadata": {},
     "output_type": "execute_result"
    }
   ],
   "source": [
    "#comparing both, Now duration is in minutes\n",
    "df.loc[:,['Duration','duration']]"
   ]
  },
  {
   "cell_type": "code",
   "execution_count": 2167,
   "metadata": {},
   "outputs": [
    {
     "data": {
      "text/plain": [
       "0"
      ]
     },
     "execution_count": 2167,
     "metadata": {},
     "output_type": "execute_result"
    }
   ],
   "source": [
    "#checking for null values in new column\n",
    "df.duration.isnull().sum()"
   ]
  },
  {
   "cell_type": "code",
   "execution_count": 2168,
   "metadata": {},
   "outputs": [],
   "source": [
    "#lets drop old duration column, as we extraced usefull information\n",
    "df.drop('Duration',axis = 1, inplace = True)"
   ]
  },
  {
   "cell_type": "code",
   "execution_count": 2169,
   "metadata": {},
   "outputs": [
    {
     "data": {
      "text/html": [
       "<div>\n",
       "<style scoped>\n",
       "    .dataframe tbody tr th:only-of-type {\n",
       "        vertical-align: middle;\n",
       "    }\n",
       "\n",
       "    .dataframe tbody tr th {\n",
       "        vertical-align: top;\n",
       "    }\n",
       "\n",
       "    .dataframe thead th {\n",
       "        text-align: right;\n",
       "    }\n",
       "</style>\n",
       "<table border=\"1\" class=\"dataframe\">\n",
       "  <thead>\n",
       "    <tr style=\"text-align: right;\">\n",
       "      <th></th>\n",
       "      <th>Additional_Info</th>\n",
       "      <th>Airline</th>\n",
       "      <th>Arrival_Time</th>\n",
       "      <th>Date_of_Journey</th>\n",
       "      <th>Dep_Time</th>\n",
       "      <th>Destination</th>\n",
       "      <th>Price</th>\n",
       "      <th>Route</th>\n",
       "      <th>Source</th>\n",
       "      <th>Temp</th>\n",
       "      <th>Total_Stops</th>\n",
       "      <th>duration</th>\n",
       "    </tr>\n",
       "  </thead>\n",
       "  <tbody>\n",
       "    <tr>\n",
       "      <td>0</td>\n",
       "      <td>No info</td>\n",
       "      <td>IndiGo</td>\n",
       "      <td>2021-03-22 01:10:00</td>\n",
       "      <td>2019-03-24</td>\n",
       "      <td>2021-05-26 22:20:00</td>\n",
       "      <td>New Delhi</td>\n",
       "      <td>3897.0</td>\n",
       "      <td>BLR → DEL</td>\n",
       "      <td>Banglore</td>\n",
       "      <td>Train</td>\n",
       "      <td>non-stop</td>\n",
       "      <td>170.0</td>\n",
       "    </tr>\n",
       "    <tr>\n",
       "      <td>1</td>\n",
       "      <td>No info</td>\n",
       "      <td>Air India</td>\n",
       "      <td>2021-05-26 13:15:00</td>\n",
       "      <td>2019-01-05</td>\n",
       "      <td>2021-05-26 05:50:00</td>\n",
       "      <td>Banglore</td>\n",
       "      <td>7662.0</td>\n",
       "      <td>CCU → IXR → BBI → BLR</td>\n",
       "      <td>Kolkata</td>\n",
       "      <td>Train</td>\n",
       "      <td>2 stops</td>\n",
       "      <td>445.0</td>\n",
       "    </tr>\n",
       "    <tr>\n",
       "      <td>2</td>\n",
       "      <td>No info</td>\n",
       "      <td>Jet Airways</td>\n",
       "      <td>2021-06-10 04:25:00</td>\n",
       "      <td>2019-09-06</td>\n",
       "      <td>2021-05-26 09:25:00</td>\n",
       "      <td>Cochin</td>\n",
       "      <td>13882.0</td>\n",
       "      <td>DEL → LKO → BOM → COK</td>\n",
       "      <td>Delhi</td>\n",
       "      <td>Train</td>\n",
       "      <td>2 stops</td>\n",
       "      <td>1140.0</td>\n",
       "    </tr>\n",
       "    <tr>\n",
       "      <td>3</td>\n",
       "      <td>No info</td>\n",
       "      <td>IndiGo</td>\n",
       "      <td>2021-05-26 23:30:00</td>\n",
       "      <td>2019-12-05</td>\n",
       "      <td>2021-05-26 18:05:00</td>\n",
       "      <td>Banglore</td>\n",
       "      <td>6218.0</td>\n",
       "      <td>CCU → NAG → BLR</td>\n",
       "      <td>Kolkata</td>\n",
       "      <td>Train</td>\n",
       "      <td>1 stop</td>\n",
       "      <td>325.0</td>\n",
       "    </tr>\n",
       "    <tr>\n",
       "      <td>4</td>\n",
       "      <td>No info</td>\n",
       "      <td>IndiGo</td>\n",
       "      <td>2021-05-26 21:35:00</td>\n",
       "      <td>2019-01-03</td>\n",
       "      <td>2021-05-26 16:50:00</td>\n",
       "      <td>New Delhi</td>\n",
       "      <td>13302.0</td>\n",
       "      <td>BLR → NAG → DEL</td>\n",
       "      <td>Banglore</td>\n",
       "      <td>Train</td>\n",
       "      <td>1 stop</td>\n",
       "      <td>285.0</td>\n",
       "    </tr>\n",
       "  </tbody>\n",
       "</table>\n",
       "</div>"
      ],
      "text/plain": [
       "  Additional_Info      Airline        Arrival_Time Date_of_Journey  \\\n",
       "0         No info       IndiGo 2021-03-22 01:10:00      2019-03-24   \n",
       "1         No info    Air India 2021-05-26 13:15:00      2019-01-05   \n",
       "2         No info  Jet Airways 2021-06-10 04:25:00      2019-09-06   \n",
       "3         No info       IndiGo 2021-05-26 23:30:00      2019-12-05   \n",
       "4         No info       IndiGo 2021-05-26 21:35:00      2019-01-03   \n",
       "\n",
       "             Dep_Time Destination    Price                  Route    Source  \\\n",
       "0 2021-05-26 22:20:00   New Delhi   3897.0              BLR → DEL  Banglore   \n",
       "1 2021-05-26 05:50:00    Banglore   7662.0  CCU → IXR → BBI → BLR   Kolkata   \n",
       "2 2021-05-26 09:25:00      Cochin  13882.0  DEL → LKO → BOM → COK     Delhi   \n",
       "3 2021-05-26 18:05:00    Banglore   6218.0        CCU → NAG → BLR   Kolkata   \n",
       "4 2021-05-26 16:50:00   New Delhi  13302.0        BLR → NAG → DEL  Banglore   \n",
       "\n",
       "    Temp Total_Stops  duration  \n",
       "0  Train    non-stop     170.0  \n",
       "1  Train     2 stops     445.0  \n",
       "2  Train     2 stops    1140.0  \n",
       "3  Train      1 stop     325.0  \n",
       "4  Train      1 stop     285.0  "
      ]
     },
     "execution_count": 2169,
     "metadata": {},
     "output_type": "execute_result"
    }
   ],
   "source": [
    "df.head()"
   ]
  },
  {
   "cell_type": "markdown",
   "metadata": {},
   "source": [
    "## Extarcting the usefull information Departure time  and Arrival time column"
   ]
  },
  {
   "cell_type": "raw",
   "metadata": {},
   "source": [
    "we can extract below inofrmation from Departure time column :\n",
    "\n",
    "1.year\n",
    "2.month\n",
    "3.day\n",
    "4.time of the day"
   ]
  },
  {
   "cell_type": "code",
   "execution_count": 2170,
   "metadata": {},
   "outputs": [
    {
     "data": {
      "text/plain": [
       "2021    13354\n",
       "Name: Dep_Time, dtype: int64"
      ]
     },
     "execution_count": 2170,
     "metadata": {},
     "output_type": "execute_result"
    }
   ],
   "source": [
    "#all the data provided is of year 2021, so no use in extracting year from this column\n",
    "df.Dep_Time.dt.year.value_counts()"
   ]
  },
  {
   "cell_type": "code",
   "execution_count": 2171,
   "metadata": {},
   "outputs": [
    {
     "data": {
      "text/plain": [
       "5    13354\n",
       "Name: Dep_Time, dtype: int64"
      ]
     },
     "execution_count": 2171,
     "metadata": {},
     "output_type": "execute_result"
    }
   ],
   "source": [
    "#all the data provided is of month MAY, so no use in extracting month from this column\n",
    "df.Dep_Time.dt.month.value_counts()"
   ]
  },
  {
   "cell_type": "code",
   "execution_count": 2172,
   "metadata": {},
   "outputs": [
    {
     "data": {
      "text/plain": [
       "Wednesday    13354\n",
       "Name: Dep_Time, dtype: int64"
      ]
     },
     "execution_count": 2172,
     "metadata": {},
     "output_type": "execute_result"
    }
   ],
   "source": [
    "#all the data provided is of day Tuesday, so no use in extracting day from this column\n",
    "df.Dep_Time.dt.day_name().value_counts()"
   ]
  },
  {
   "cell_type": "code",
   "execution_count": 2173,
   "metadata": {},
   "outputs": [],
   "source": [
    "#lets extract hour the departue time column from \n",
    "df['Dep_hour'] = df['Dep_Time'].dt.hour"
   ]
  },
  {
   "cell_type": "code",
   "execution_count": 2174,
   "metadata": {},
   "outputs": [],
   "source": [
    "#lets extract the time of the day from this column Dep_hour column\n",
    "#lets write a function for this\n",
    "def part_of_the_day(x):\n",
    "    if (x > 4) and (x <= 8):\n",
    "        return 'Early Morning'\n",
    "    elif (x > 8) and (x <= 12 ):\n",
    "        return 'Morning'\n",
    "    elif (x > 12) and (x <= 16):\n",
    "        return'Noon'\n",
    "    elif (x > 16) and (x <= 20) :\n",
    "        return 'Eve'\n",
    "    elif (x > 20) and (x <= 24):\n",
    "        return'Night'\n",
    "    elif (x <= 4):\n",
    "        return'Late Night'"
   ]
  },
  {
   "cell_type": "code",
   "execution_count": 2175,
   "metadata": {},
   "outputs": [],
   "source": [
    "#applying the above fuction to get part of the day column\n",
    "df['Dep_Part_of_the_day'] = df['Dep_hour'].apply(part_of_the_day)"
   ]
  },
  {
   "cell_type": "code",
   "execution_count": 2176,
   "metadata": {},
   "outputs": [
    {
     "data": {
      "text/html": [
       "<div>\n",
       "<style scoped>\n",
       "    .dataframe tbody tr th:only-of-type {\n",
       "        vertical-align: middle;\n",
       "    }\n",
       "\n",
       "    .dataframe tbody tr th {\n",
       "        vertical-align: top;\n",
       "    }\n",
       "\n",
       "    .dataframe thead th {\n",
       "        text-align: right;\n",
       "    }\n",
       "</style>\n",
       "<table border=\"1\" class=\"dataframe\">\n",
       "  <thead>\n",
       "    <tr style=\"text-align: right;\">\n",
       "      <th></th>\n",
       "      <th>Dep_Part_of_the_day</th>\n",
       "      <th>Dep_hour</th>\n",
       "    </tr>\n",
       "  </thead>\n",
       "  <tbody>\n",
       "    <tr>\n",
       "      <td>0</td>\n",
       "      <td>Night</td>\n",
       "      <td>22</td>\n",
       "    </tr>\n",
       "    <tr>\n",
       "      <td>1</td>\n",
       "      <td>Early Morning</td>\n",
       "      <td>5</td>\n",
       "    </tr>\n",
       "    <tr>\n",
       "      <td>2</td>\n",
       "      <td>Morning</td>\n",
       "      <td>9</td>\n",
       "    </tr>\n",
       "    <tr>\n",
       "      <td>3</td>\n",
       "      <td>Eve</td>\n",
       "      <td>18</td>\n",
       "    </tr>\n",
       "    <tr>\n",
       "      <td>4</td>\n",
       "      <td>Noon</td>\n",
       "      <td>16</td>\n",
       "    </tr>\n",
       "    <tr>\n",
       "      <td>...</td>\n",
       "      <td>...</td>\n",
       "      <td>...</td>\n",
       "    </tr>\n",
       "    <tr>\n",
       "      <td>13349</td>\n",
       "      <td>Eve</td>\n",
       "      <td>20</td>\n",
       "    </tr>\n",
       "    <tr>\n",
       "      <td>13350</td>\n",
       "      <td>Noon</td>\n",
       "      <td>14</td>\n",
       "    </tr>\n",
       "    <tr>\n",
       "      <td>13351</td>\n",
       "      <td>Night</td>\n",
       "      <td>21</td>\n",
       "    </tr>\n",
       "    <tr>\n",
       "      <td>13352</td>\n",
       "      <td>Late Night</td>\n",
       "      <td>4</td>\n",
       "    </tr>\n",
       "    <tr>\n",
       "      <td>13353</td>\n",
       "      <td>Late Night</td>\n",
       "      <td>4</td>\n",
       "    </tr>\n",
       "  </tbody>\n",
       "</table>\n",
       "<p>13354 rows × 2 columns</p>\n",
       "</div>"
      ],
      "text/plain": [
       "      Dep_Part_of_the_day  Dep_hour\n",
       "0                   Night        22\n",
       "1           Early Morning         5\n",
       "2                 Morning         9\n",
       "3                     Eve        18\n",
       "4                    Noon        16\n",
       "...                   ...       ...\n",
       "13349                 Eve        20\n",
       "13350                Noon        14\n",
       "13351               Night        21\n",
       "13352          Late Night         4\n",
       "13353          Late Night         4\n",
       "\n",
       "[13354 rows x 2 columns]"
      ]
     },
     "execution_count": 2176,
     "metadata": {},
     "output_type": "execute_result"
    }
   ],
   "source": [
    "#comparing both the columns\n",
    "df.loc[:,['Dep_Part_of_the_day','Dep_hour']]"
   ]
  },
  {
   "cell_type": "code",
   "execution_count": 2177,
   "metadata": {},
   "outputs": [],
   "source": [
    "#lets drop the departue time column, as we extracted the usefull information\n",
    "# and also dropping dep_hour which we created in the process of feature extraction\n",
    "df.drop(['Dep_hour','Dep_Time'],axis = 1, inplace = True)"
   ]
  },
  {
   "cell_type": "code",
   "execution_count": 2178,
   "metadata": {},
   "outputs": [
    {
     "data": {
      "text/html": [
       "<div>\n",
       "<style scoped>\n",
       "    .dataframe tbody tr th:only-of-type {\n",
       "        vertical-align: middle;\n",
       "    }\n",
       "\n",
       "    .dataframe tbody tr th {\n",
       "        vertical-align: top;\n",
       "    }\n",
       "\n",
       "    .dataframe thead th {\n",
       "        text-align: right;\n",
       "    }\n",
       "</style>\n",
       "<table border=\"1\" class=\"dataframe\">\n",
       "  <thead>\n",
       "    <tr style=\"text-align: right;\">\n",
       "      <th></th>\n",
       "      <th>Additional_Info</th>\n",
       "      <th>Airline</th>\n",
       "      <th>Arrival_Time</th>\n",
       "      <th>Date_of_Journey</th>\n",
       "      <th>Destination</th>\n",
       "      <th>Price</th>\n",
       "      <th>Route</th>\n",
       "      <th>Source</th>\n",
       "      <th>Temp</th>\n",
       "      <th>Total_Stops</th>\n",
       "      <th>duration</th>\n",
       "      <th>Dep_Part_of_the_day</th>\n",
       "    </tr>\n",
       "  </thead>\n",
       "  <tbody>\n",
       "    <tr>\n",
       "      <td>0</td>\n",
       "      <td>No info</td>\n",
       "      <td>IndiGo</td>\n",
       "      <td>2021-03-22 01:10:00</td>\n",
       "      <td>2019-03-24</td>\n",
       "      <td>New Delhi</td>\n",
       "      <td>3897.0</td>\n",
       "      <td>BLR → DEL</td>\n",
       "      <td>Banglore</td>\n",
       "      <td>Train</td>\n",
       "      <td>non-stop</td>\n",
       "      <td>170.0</td>\n",
       "      <td>Night</td>\n",
       "    </tr>\n",
       "    <tr>\n",
       "      <td>1</td>\n",
       "      <td>No info</td>\n",
       "      <td>Air India</td>\n",
       "      <td>2021-05-26 13:15:00</td>\n",
       "      <td>2019-01-05</td>\n",
       "      <td>Banglore</td>\n",
       "      <td>7662.0</td>\n",
       "      <td>CCU → IXR → BBI → BLR</td>\n",
       "      <td>Kolkata</td>\n",
       "      <td>Train</td>\n",
       "      <td>2 stops</td>\n",
       "      <td>445.0</td>\n",
       "      <td>Early Morning</td>\n",
       "    </tr>\n",
       "    <tr>\n",
       "      <td>2</td>\n",
       "      <td>No info</td>\n",
       "      <td>Jet Airways</td>\n",
       "      <td>2021-06-10 04:25:00</td>\n",
       "      <td>2019-09-06</td>\n",
       "      <td>Cochin</td>\n",
       "      <td>13882.0</td>\n",
       "      <td>DEL → LKO → BOM → COK</td>\n",
       "      <td>Delhi</td>\n",
       "      <td>Train</td>\n",
       "      <td>2 stops</td>\n",
       "      <td>1140.0</td>\n",
       "      <td>Morning</td>\n",
       "    </tr>\n",
       "    <tr>\n",
       "      <td>3</td>\n",
       "      <td>No info</td>\n",
       "      <td>IndiGo</td>\n",
       "      <td>2021-05-26 23:30:00</td>\n",
       "      <td>2019-12-05</td>\n",
       "      <td>Banglore</td>\n",
       "      <td>6218.0</td>\n",
       "      <td>CCU → NAG → BLR</td>\n",
       "      <td>Kolkata</td>\n",
       "      <td>Train</td>\n",
       "      <td>1 stop</td>\n",
       "      <td>325.0</td>\n",
       "      <td>Eve</td>\n",
       "    </tr>\n",
       "    <tr>\n",
       "      <td>4</td>\n",
       "      <td>No info</td>\n",
       "      <td>IndiGo</td>\n",
       "      <td>2021-05-26 21:35:00</td>\n",
       "      <td>2019-01-03</td>\n",
       "      <td>New Delhi</td>\n",
       "      <td>13302.0</td>\n",
       "      <td>BLR → NAG → DEL</td>\n",
       "      <td>Banglore</td>\n",
       "      <td>Train</td>\n",
       "      <td>1 stop</td>\n",
       "      <td>285.0</td>\n",
       "      <td>Noon</td>\n",
       "    </tr>\n",
       "  </tbody>\n",
       "</table>\n",
       "</div>"
      ],
      "text/plain": [
       "  Additional_Info      Airline        Arrival_Time Date_of_Journey  \\\n",
       "0         No info       IndiGo 2021-03-22 01:10:00      2019-03-24   \n",
       "1         No info    Air India 2021-05-26 13:15:00      2019-01-05   \n",
       "2         No info  Jet Airways 2021-06-10 04:25:00      2019-09-06   \n",
       "3         No info       IndiGo 2021-05-26 23:30:00      2019-12-05   \n",
       "4         No info       IndiGo 2021-05-26 21:35:00      2019-01-03   \n",
       "\n",
       "  Destination    Price                  Route    Source   Temp Total_Stops  \\\n",
       "0   New Delhi   3897.0              BLR → DEL  Banglore  Train    non-stop   \n",
       "1    Banglore   7662.0  CCU → IXR → BBI → BLR   Kolkata  Train     2 stops   \n",
       "2      Cochin  13882.0  DEL → LKO → BOM → COK     Delhi  Train     2 stops   \n",
       "3    Banglore   6218.0        CCU → NAG → BLR   Kolkata  Train      1 stop   \n",
       "4   New Delhi  13302.0        BLR → NAG → DEL  Banglore  Train      1 stop   \n",
       "\n",
       "   duration Dep_Part_of_the_day  \n",
       "0     170.0               Night  \n",
       "1     445.0       Early Morning  \n",
       "2    1140.0             Morning  \n",
       "3     325.0                 Eve  \n",
       "4     285.0                Noon  "
      ]
     },
     "execution_count": 2178,
     "metadata": {},
     "output_type": "execute_result"
    }
   ],
   "source": [
    "df.head()"
   ]
  },
  {
   "cell_type": "markdown",
   "metadata": {},
   "source": [
    "### Extracting part of the day from Arrival time column"
   ]
  },
  {
   "cell_type": "code",
   "execution_count": 2179,
   "metadata": {},
   "outputs": [],
   "source": [
    "#lets extract the hour from the arrival time column\n",
    "df['Arrival_hour'] = df['Arrival_Time'].dt.hour"
   ]
  },
  {
   "cell_type": "code",
   "execution_count": 2180,
   "metadata": {},
   "outputs": [],
   "source": [
    "#applying the above fuction to get part of the day column\n",
    "df['Arrival_Part_of_the_day'] = df['Arrival_hour'].apply(part_of_the_day)"
   ]
  },
  {
   "cell_type": "code",
   "execution_count": 2181,
   "metadata": {},
   "outputs": [
    {
     "data": {
      "text/html": [
       "<div>\n",
       "<style scoped>\n",
       "    .dataframe tbody tr th:only-of-type {\n",
       "        vertical-align: middle;\n",
       "    }\n",
       "\n",
       "    .dataframe tbody tr th {\n",
       "        vertical-align: top;\n",
       "    }\n",
       "\n",
       "    .dataframe thead th {\n",
       "        text-align: right;\n",
       "    }\n",
       "</style>\n",
       "<table border=\"1\" class=\"dataframe\">\n",
       "  <thead>\n",
       "    <tr style=\"text-align: right;\">\n",
       "      <th></th>\n",
       "      <th>Arrival_Part_of_the_day</th>\n",
       "      <th>Arrival_hour</th>\n",
       "    </tr>\n",
       "  </thead>\n",
       "  <tbody>\n",
       "    <tr>\n",
       "      <td>0</td>\n",
       "      <td>Late Night</td>\n",
       "      <td>1</td>\n",
       "    </tr>\n",
       "    <tr>\n",
       "      <td>1</td>\n",
       "      <td>Noon</td>\n",
       "      <td>13</td>\n",
       "    </tr>\n",
       "    <tr>\n",
       "      <td>2</td>\n",
       "      <td>Late Night</td>\n",
       "      <td>4</td>\n",
       "    </tr>\n",
       "    <tr>\n",
       "      <td>3</td>\n",
       "      <td>Night</td>\n",
       "      <td>23</td>\n",
       "    </tr>\n",
       "    <tr>\n",
       "      <td>4</td>\n",
       "      <td>Night</td>\n",
       "      <td>21</td>\n",
       "    </tr>\n",
       "    <tr>\n",
       "      <td>...</td>\n",
       "      <td>...</td>\n",
       "      <td>...</td>\n",
       "    </tr>\n",
       "    <tr>\n",
       "      <td>13349</td>\n",
       "      <td>Eve</td>\n",
       "      <td>20</td>\n",
       "    </tr>\n",
       "    <tr>\n",
       "      <td>13350</td>\n",
       "      <td>Noon</td>\n",
       "      <td>16</td>\n",
       "    </tr>\n",
       "    <tr>\n",
       "      <td>13351</td>\n",
       "      <td>Late Night</td>\n",
       "      <td>4</td>\n",
       "    </tr>\n",
       "    <tr>\n",
       "      <td>13352</td>\n",
       "      <td>Eve</td>\n",
       "      <td>19</td>\n",
       "    </tr>\n",
       "    <tr>\n",
       "      <td>13353</td>\n",
       "      <td>Eve</td>\n",
       "      <td>19</td>\n",
       "    </tr>\n",
       "  </tbody>\n",
       "</table>\n",
       "<p>13354 rows × 2 columns</p>\n",
       "</div>"
      ],
      "text/plain": [
       "      Arrival_Part_of_the_day  Arrival_hour\n",
       "0                  Late Night             1\n",
       "1                        Noon            13\n",
       "2                  Late Night             4\n",
       "3                       Night            23\n",
       "4                       Night            21\n",
       "...                       ...           ...\n",
       "13349                     Eve            20\n",
       "13350                    Noon            16\n",
       "13351              Late Night             4\n",
       "13352                     Eve            19\n",
       "13353                     Eve            19\n",
       "\n",
       "[13354 rows x 2 columns]"
      ]
     },
     "execution_count": 2181,
     "metadata": {},
     "output_type": "execute_result"
    }
   ],
   "source": [
    "#comparing both the columns\n",
    "df.loc[:,['Arrival_Part_of_the_day','Arrival_hour']]"
   ]
  },
  {
   "cell_type": "code",
   "execution_count": 2182,
   "metadata": {},
   "outputs": [],
   "source": [
    "#lets drop the arrival time column, as we extracted the usefull information\n",
    "# and also dropping arrival_hour which we created in the process of feature extraction\n",
    "df.drop(['Arrival_hour','Arrival_Time'],axis = 1, inplace = True)"
   ]
  },
  {
   "cell_type": "code",
   "execution_count": 2183,
   "metadata": {},
   "outputs": [
    {
     "data": {
      "text/html": [
       "<div>\n",
       "<style scoped>\n",
       "    .dataframe tbody tr th:only-of-type {\n",
       "        vertical-align: middle;\n",
       "    }\n",
       "\n",
       "    .dataframe tbody tr th {\n",
       "        vertical-align: top;\n",
       "    }\n",
       "\n",
       "    .dataframe thead th {\n",
       "        text-align: right;\n",
       "    }\n",
       "</style>\n",
       "<table border=\"1\" class=\"dataframe\">\n",
       "  <thead>\n",
       "    <tr style=\"text-align: right;\">\n",
       "      <th></th>\n",
       "      <th>Additional_Info</th>\n",
       "      <th>Airline</th>\n",
       "      <th>Date_of_Journey</th>\n",
       "      <th>Destination</th>\n",
       "      <th>Price</th>\n",
       "      <th>Route</th>\n",
       "      <th>Source</th>\n",
       "      <th>Temp</th>\n",
       "      <th>Total_Stops</th>\n",
       "      <th>duration</th>\n",
       "      <th>Dep_Part_of_the_day</th>\n",
       "      <th>Arrival_Part_of_the_day</th>\n",
       "    </tr>\n",
       "  </thead>\n",
       "  <tbody>\n",
       "    <tr>\n",
       "      <td>0</td>\n",
       "      <td>No info</td>\n",
       "      <td>IndiGo</td>\n",
       "      <td>2019-03-24</td>\n",
       "      <td>New Delhi</td>\n",
       "      <td>3897.0</td>\n",
       "      <td>BLR → DEL</td>\n",
       "      <td>Banglore</td>\n",
       "      <td>Train</td>\n",
       "      <td>non-stop</td>\n",
       "      <td>170.0</td>\n",
       "      <td>Night</td>\n",
       "      <td>Late Night</td>\n",
       "    </tr>\n",
       "    <tr>\n",
       "      <td>1</td>\n",
       "      <td>No info</td>\n",
       "      <td>Air India</td>\n",
       "      <td>2019-01-05</td>\n",
       "      <td>Banglore</td>\n",
       "      <td>7662.0</td>\n",
       "      <td>CCU → IXR → BBI → BLR</td>\n",
       "      <td>Kolkata</td>\n",
       "      <td>Train</td>\n",
       "      <td>2 stops</td>\n",
       "      <td>445.0</td>\n",
       "      <td>Early Morning</td>\n",
       "      <td>Noon</td>\n",
       "    </tr>\n",
       "    <tr>\n",
       "      <td>2</td>\n",
       "      <td>No info</td>\n",
       "      <td>Jet Airways</td>\n",
       "      <td>2019-09-06</td>\n",
       "      <td>Cochin</td>\n",
       "      <td>13882.0</td>\n",
       "      <td>DEL → LKO → BOM → COK</td>\n",
       "      <td>Delhi</td>\n",
       "      <td>Train</td>\n",
       "      <td>2 stops</td>\n",
       "      <td>1140.0</td>\n",
       "      <td>Morning</td>\n",
       "      <td>Late Night</td>\n",
       "    </tr>\n",
       "    <tr>\n",
       "      <td>3</td>\n",
       "      <td>No info</td>\n",
       "      <td>IndiGo</td>\n",
       "      <td>2019-12-05</td>\n",
       "      <td>Banglore</td>\n",
       "      <td>6218.0</td>\n",
       "      <td>CCU → NAG → BLR</td>\n",
       "      <td>Kolkata</td>\n",
       "      <td>Train</td>\n",
       "      <td>1 stop</td>\n",
       "      <td>325.0</td>\n",
       "      <td>Eve</td>\n",
       "      <td>Night</td>\n",
       "    </tr>\n",
       "    <tr>\n",
       "      <td>4</td>\n",
       "      <td>No info</td>\n",
       "      <td>IndiGo</td>\n",
       "      <td>2019-01-03</td>\n",
       "      <td>New Delhi</td>\n",
       "      <td>13302.0</td>\n",
       "      <td>BLR → NAG → DEL</td>\n",
       "      <td>Banglore</td>\n",
       "      <td>Train</td>\n",
       "      <td>1 stop</td>\n",
       "      <td>285.0</td>\n",
       "      <td>Noon</td>\n",
       "      <td>Night</td>\n",
       "    </tr>\n",
       "  </tbody>\n",
       "</table>\n",
       "</div>"
      ],
      "text/plain": [
       "  Additional_Info      Airline Date_of_Journey Destination    Price  \\\n",
       "0         No info       IndiGo      2019-03-24   New Delhi   3897.0   \n",
       "1         No info    Air India      2019-01-05    Banglore   7662.0   \n",
       "2         No info  Jet Airways      2019-09-06      Cochin  13882.0   \n",
       "3         No info       IndiGo      2019-12-05    Banglore   6218.0   \n",
       "4         No info       IndiGo      2019-01-03   New Delhi  13302.0   \n",
       "\n",
       "                   Route    Source   Temp Total_Stops  duration  \\\n",
       "0              BLR → DEL  Banglore  Train    non-stop     170.0   \n",
       "1  CCU → IXR → BBI → BLR   Kolkata  Train     2 stops     445.0   \n",
       "2  DEL → LKO → BOM → COK     Delhi  Train     2 stops    1140.0   \n",
       "3        CCU → NAG → BLR   Kolkata  Train      1 stop     325.0   \n",
       "4        BLR → NAG → DEL  Banglore  Train      1 stop     285.0   \n",
       "\n",
       "  Dep_Part_of_the_day Arrival_Part_of_the_day  \n",
       "0               Night              Late Night  \n",
       "1       Early Morning                    Noon  \n",
       "2             Morning              Late Night  \n",
       "3                 Eve                   Night  \n",
       "4                Noon                   Night  "
      ]
     },
     "execution_count": 2183,
     "metadata": {},
     "output_type": "execute_result"
    }
   ],
   "source": [
    "df.head()"
   ]
  },
  {
   "cell_type": "markdown",
   "metadata": {},
   "source": [
    "### We can drop date of the journey column, since it seems irrelevant because all the years are 2019"
   ]
  },
  {
   "cell_type": "code",
   "execution_count": 2184,
   "metadata": {},
   "outputs": [
    {
     "data": {
      "text/plain": [
       "0        2019\n",
       "1        2019\n",
       "2        2019\n",
       "3        2019\n",
       "4        2019\n",
       "         ... \n",
       "13349    2019\n",
       "13350    2019\n",
       "13351    2019\n",
       "13352    2019\n",
       "13353    2019\n",
       "Name: Date_of_Journey, Length: 13354, dtype: int64"
      ]
     },
     "execution_count": 2184,
     "metadata": {},
     "output_type": "execute_result"
    }
   ],
   "source": [
    "#if the arrival and departure time is in year 2021 , how can the date of journey be in 2019\n",
    "# so this is column is irrelevant for this dataset\n",
    "#lets check\n",
    "df.Date_of_Journey.dt.year"
   ]
  },
  {
   "cell_type": "code",
   "execution_count": 2185,
   "metadata": {},
   "outputs": [],
   "source": [
    "#so lets drop this column\n",
    "df.drop('Date_of_Journey',axis  =1, inplace = True)"
   ]
  },
  {
   "cell_type": "code",
   "execution_count": 2186,
   "metadata": {},
   "outputs": [
    {
     "data": {
      "text/html": [
       "<div>\n",
       "<style scoped>\n",
       "    .dataframe tbody tr th:only-of-type {\n",
       "        vertical-align: middle;\n",
       "    }\n",
       "\n",
       "    .dataframe tbody tr th {\n",
       "        vertical-align: top;\n",
       "    }\n",
       "\n",
       "    .dataframe thead th {\n",
       "        text-align: right;\n",
       "    }\n",
       "</style>\n",
       "<table border=\"1\" class=\"dataframe\">\n",
       "  <thead>\n",
       "    <tr style=\"text-align: right;\">\n",
       "      <th></th>\n",
       "      <th>Additional_Info</th>\n",
       "      <th>Airline</th>\n",
       "      <th>Destination</th>\n",
       "      <th>Price</th>\n",
       "      <th>Route</th>\n",
       "      <th>Source</th>\n",
       "      <th>Temp</th>\n",
       "      <th>Total_Stops</th>\n",
       "      <th>duration</th>\n",
       "      <th>Dep_Part_of_the_day</th>\n",
       "      <th>Arrival_Part_of_the_day</th>\n",
       "    </tr>\n",
       "  </thead>\n",
       "  <tbody>\n",
       "    <tr>\n",
       "      <td>0</td>\n",
       "      <td>No info</td>\n",
       "      <td>IndiGo</td>\n",
       "      <td>New Delhi</td>\n",
       "      <td>3897.0</td>\n",
       "      <td>BLR → DEL</td>\n",
       "      <td>Banglore</td>\n",
       "      <td>Train</td>\n",
       "      <td>non-stop</td>\n",
       "      <td>170.0</td>\n",
       "      <td>Night</td>\n",
       "      <td>Late Night</td>\n",
       "    </tr>\n",
       "    <tr>\n",
       "      <td>1</td>\n",
       "      <td>No info</td>\n",
       "      <td>Air India</td>\n",
       "      <td>Banglore</td>\n",
       "      <td>7662.0</td>\n",
       "      <td>CCU → IXR → BBI → BLR</td>\n",
       "      <td>Kolkata</td>\n",
       "      <td>Train</td>\n",
       "      <td>2 stops</td>\n",
       "      <td>445.0</td>\n",
       "      <td>Early Morning</td>\n",
       "      <td>Noon</td>\n",
       "    </tr>\n",
       "    <tr>\n",
       "      <td>2</td>\n",
       "      <td>No info</td>\n",
       "      <td>Jet Airways</td>\n",
       "      <td>Cochin</td>\n",
       "      <td>13882.0</td>\n",
       "      <td>DEL → LKO → BOM → COK</td>\n",
       "      <td>Delhi</td>\n",
       "      <td>Train</td>\n",
       "      <td>2 stops</td>\n",
       "      <td>1140.0</td>\n",
       "      <td>Morning</td>\n",
       "      <td>Late Night</td>\n",
       "    </tr>\n",
       "    <tr>\n",
       "      <td>3</td>\n",
       "      <td>No info</td>\n",
       "      <td>IndiGo</td>\n",
       "      <td>Banglore</td>\n",
       "      <td>6218.0</td>\n",
       "      <td>CCU → NAG → BLR</td>\n",
       "      <td>Kolkata</td>\n",
       "      <td>Train</td>\n",
       "      <td>1 stop</td>\n",
       "      <td>325.0</td>\n",
       "      <td>Eve</td>\n",
       "      <td>Night</td>\n",
       "    </tr>\n",
       "    <tr>\n",
       "      <td>4</td>\n",
       "      <td>No info</td>\n",
       "      <td>IndiGo</td>\n",
       "      <td>New Delhi</td>\n",
       "      <td>13302.0</td>\n",
       "      <td>BLR → NAG → DEL</td>\n",
       "      <td>Banglore</td>\n",
       "      <td>Train</td>\n",
       "      <td>1 stop</td>\n",
       "      <td>285.0</td>\n",
       "      <td>Noon</td>\n",
       "      <td>Night</td>\n",
       "    </tr>\n",
       "  </tbody>\n",
       "</table>\n",
       "</div>"
      ],
      "text/plain": [
       "  Additional_Info      Airline Destination    Price                  Route  \\\n",
       "0         No info       IndiGo   New Delhi   3897.0              BLR → DEL   \n",
       "1         No info    Air India    Banglore   7662.0  CCU → IXR → BBI → BLR   \n",
       "2         No info  Jet Airways      Cochin  13882.0  DEL → LKO → BOM → COK   \n",
       "3         No info       IndiGo    Banglore   6218.0        CCU → NAG → BLR   \n",
       "4         No info       IndiGo   New Delhi  13302.0        BLR → NAG → DEL   \n",
       "\n",
       "     Source   Temp Total_Stops  duration Dep_Part_of_the_day  \\\n",
       "0  Banglore  Train    non-stop     170.0               Night   \n",
       "1   Kolkata  Train     2 stops     445.0       Early Morning   \n",
       "2     Delhi  Train     2 stops    1140.0             Morning   \n",
       "3   Kolkata  Train      1 stop     325.0                 Eve   \n",
       "4  Banglore  Train      1 stop     285.0                Noon   \n",
       "\n",
       "  Arrival_Part_of_the_day  \n",
       "0              Late Night  \n",
       "1                    Noon  \n",
       "2              Late Night  \n",
       "3                   Night  \n",
       "4                   Night  "
      ]
     },
     "execution_count": 2186,
     "metadata": {},
     "output_type": "execute_result"
    }
   ],
   "source": [
    "df.head()"
   ]
  },
  {
   "cell_type": "markdown",
   "metadata": {},
   "source": [
    "## Replacing the Duplicate values"
   ]
  },
  {
   "cell_type": "code",
   "execution_count": 2187,
   "metadata": {},
   "outputs": [
    {
     "data": {
      "text/plain": [
       "array(['No info', 'In-flight meal not included',\n",
       "       'No check-in baggage included', '1 Short layover', 'No Info',\n",
       "       '1 Long layover', 'Change airports', 'Business class',\n",
       "       'Red-eye flight', '2 Long layover'], dtype=object)"
      ]
     },
     "execution_count": 2187,
     "metadata": {},
     "output_type": "execute_result"
    }
   ],
   "source": [
    "#some columns are having duplicate values\n",
    "\n",
    "df.Additional_Info.unique()"
   ]
  },
  {
   "cell_type": "code",
   "execution_count": 2188,
   "metadata": {},
   "outputs": [
    {
     "data": {
      "text/plain": [
       "No info                         10493\n",
       "In-flight meal not included      2426\n",
       "No check-in baggage included      396\n",
       "1 Long layover                     20\n",
       "Change airports                     8\n",
       "Business class                      5\n",
       "No Info                             3\n",
       "2 Long layover                      1\n",
       "1 Short layover                     1\n",
       "Red-eye flight                      1\n",
       "Name: Additional_Info, dtype: int64"
      ]
     },
     "execution_count": 2188,
     "metadata": {},
     "output_type": "execute_result"
    }
   ],
   "source": [
    "#additional info column is having 10493 no info values\n",
    "# 77 % of the information is no info\n",
    "#which is as good as nan values\n",
    "\n",
    "# we have 2426 rows for In-flight meal not included \n",
    "\n",
    "#we have only 20 rows for 1 long layover,2 rows for 2 long layover,1 row for 1 short layover\n",
    "df.Additional_Info.value_counts()"
   ]
  },
  {
   "cell_type": "code",
   "execution_count": 2189,
   "metadata": {},
   "outputs": [],
   "source": [
    "#we can replace some values in this columns\n",
    "#no info and NO Info\n",
    "#1 and 2 long layover with long layover\n",
    "\n",
    "df[\"Additional_Info\"].replace(\"1 Long layover\",\"Long layover\",inplace=True)\n",
    "df[\"Additional_Info\"].replace(\"2 Long layover\",\"Long layover\",inplace=True)\n",
    "df[\"Additional_Info\"].replace(\"No info\",\"No Info\",inplace=True)"
   ]
  },
  {
   "cell_type": "code",
   "execution_count": 2190,
   "metadata": {},
   "outputs": [
    {
     "data": {
      "text/plain": [
       "No Info                         10496\n",
       "In-flight meal not included      2426\n",
       "No check-in baggage included      396\n",
       "Long layover                       21\n",
       "Change airports                     8\n",
       "Business class                      5\n",
       "1 Short layover                     1\n",
       "Red-eye flight                      1\n",
       "Name: Additional_Info, dtype: int64"
      ]
     },
     "execution_count": 2190,
     "metadata": {},
     "output_type": "execute_result"
    }
   ],
   "source": [
    "df.Additional_Info.value_counts()"
   ]
  },
  {
   "cell_type": "code",
   "execution_count": 2191,
   "metadata": {},
   "outputs": [
    {
     "data": {
      "text/plain": [
       "Cochin       5682\n",
       "Banglore     3581\n",
       "Delhi        1582\n",
       "New Delhi    1170\n",
       "Hyderabad     883\n",
       "Kolkata       456\n",
       "Name: Destination, dtype: int64"
      ]
     },
     "execution_count": 2191,
     "metadata": {},
     "output_type": "execute_result"
    }
   ],
   "source": [
    "#lets check Destination column\n",
    "df.Destination.value_counts()"
   ]
  },
  {
   "cell_type": "code",
   "execution_count": 2192,
   "metadata": {},
   "outputs": [],
   "source": [
    "#we can replace new delhi with delhi\n",
    "df[\"Destination\"].replace(\"New Delhi\",\"Delhi\",inplace=True)"
   ]
  },
  {
   "cell_type": "code",
   "execution_count": 2193,
   "metadata": {},
   "outputs": [
    {
     "data": {
      "text/plain": [
       "Cochin       5682\n",
       "Banglore     3581\n",
       "Delhi        2752\n",
       "Hyderabad     883\n",
       "Kolkata       456\n",
       "Name: Destination, dtype: int64"
      ]
     },
     "execution_count": 2193,
     "metadata": {},
     "output_type": "execute_result"
    }
   ],
   "source": [
    "#now there are no duplicate values in this column\n",
    "df.Destination.value_counts()"
   ]
  },
  {
   "cell_type": "code",
   "execution_count": 2194,
   "metadata": {},
   "outputs": [
    {
     "data": {
      "text/plain": [
       "Jet Airways                          4746\n",
       "IndiGo                               2564\n",
       "Air India                            2192\n",
       "Multiple carriers                    1543\n",
       "SpiceJet                             1026\n",
       "Vistara                               608\n",
       "Air Asia                              405\n",
       "GoAir                                 240\n",
       "Multiple carriers Premium economy      16\n",
       "Jet Airways Business                    8\n",
       "Vistara Premium economy                 5\n",
       "Trujet                                  1\n",
       "Name: Airline, dtype: int64"
      ]
     },
     "execution_count": 2194,
     "metadata": {},
     "output_type": "execute_result"
    }
   ],
   "source": [
    "#lets check Airline column\n",
    "df.Airline.value_counts()"
   ]
  },
  {
   "cell_type": "code",
   "execution_count": 2195,
   "metadata": {},
   "outputs": [],
   "source": [
    "#we can replace jet airway busninesss with jet airways\n",
    "#Vistara Premium economy with vistara\n",
    "#Multiple carriers Premium economy with Multiple carriers \n",
    "#turjet with Jet ways since it has only row, replacing with mode\n",
    "df[\"Airline\"].replace(\"Jet Airways Business\",\"Jet Airways\",inplace=True)\n",
    "df[\"Airline\"].replace(\"Multiple carriers Premium economy\",\"Multiple carriers\",inplace=True)\n",
    "df[\"Airline\"].replace(\"Vistara Premium economy\",\"Vistara\",inplace=True)\n",
    "df[\"Airline\"].replace(\"Trujet\",\"Jet Airways\",inplace=True)"
   ]
  },
  {
   "cell_type": "code",
   "execution_count": 2196,
   "metadata": {},
   "outputs": [
    {
     "data": {
      "text/plain": [
       "Jet Airways          4755\n",
       "IndiGo               2564\n",
       "Air India            2192\n",
       "Multiple carriers    1559\n",
       "SpiceJet             1026\n",
       "Vistara               613\n",
       "Air Asia              405\n",
       "GoAir                 240\n",
       "Name: Airline, dtype: int64"
      ]
     },
     "execution_count": 2196,
     "metadata": {},
     "output_type": "execute_result"
    }
   ],
   "source": [
    "#now there are no duplicate values\n",
    "df.Airline.value_counts()"
   ]
  },
  {
   "cell_type": "code",
   "execution_count": 2197,
   "metadata": {},
   "outputs": [
    {
     "data": {
      "text/plain": [
       "DEL → BOM → COK                3001\n",
       "BLR → DEL                      1941\n",
       "CCU → BOM → BLR                1232\n",
       "CCU → BLR                       896\n",
       "BOM → HYD                       785\n",
       "                               ... \n",
       "BOM → JDH → JAI → DEL → HYD       1\n",
       "CCU → RPR → HYD → BLR             1\n",
       "CCU → VTZ → BLR                   1\n",
       "BOM → BBI → HYD                   1\n",
       "BOM → COK → MAA → HYD             1\n",
       "Name: Route, Length: 132, dtype: int64"
      ]
     },
     "execution_count": 2197,
     "metadata": {},
     "output_type": "execute_result"
    }
   ],
   "source": [
    "#lets check route column\n",
    "df.Route.value_counts()"
   ]
  },
  {
   "cell_type": "code",
   "execution_count": 2198,
   "metadata": {},
   "outputs": [],
   "source": [
    "#we have 132 unique values in this column and it is a object column, so lets drop this column\n",
    "\n",
    "df.drop('Route',axis = 1,inplace = True)"
   ]
  },
  {
   "cell_type": "code",
   "execution_count": 2199,
   "metadata": {},
   "outputs": [],
   "source": [
    "#df.drop('Additional_Info',axis = 1,inplace = True)"
   ]
  },
  {
   "cell_type": "code",
   "execution_count": 2200,
   "metadata": {},
   "outputs": [
    {
     "data": {
      "text/html": [
       "<div>\n",
       "<style scoped>\n",
       "    .dataframe tbody tr th:only-of-type {\n",
       "        vertical-align: middle;\n",
       "    }\n",
       "\n",
       "    .dataframe tbody tr th {\n",
       "        vertical-align: top;\n",
       "    }\n",
       "\n",
       "    .dataframe thead th {\n",
       "        text-align: right;\n",
       "    }\n",
       "</style>\n",
       "<table border=\"1\" class=\"dataframe\">\n",
       "  <thead>\n",
       "    <tr style=\"text-align: right;\">\n",
       "      <th></th>\n",
       "      <th>Additional_Info</th>\n",
       "      <th>Airline</th>\n",
       "      <th>Destination</th>\n",
       "      <th>Price</th>\n",
       "      <th>Source</th>\n",
       "      <th>Temp</th>\n",
       "      <th>Total_Stops</th>\n",
       "      <th>duration</th>\n",
       "      <th>Dep_Part_of_the_day</th>\n",
       "      <th>Arrival_Part_of_the_day</th>\n",
       "    </tr>\n",
       "  </thead>\n",
       "  <tbody>\n",
       "    <tr>\n",
       "      <td>0</td>\n",
       "      <td>No Info</td>\n",
       "      <td>IndiGo</td>\n",
       "      <td>Delhi</td>\n",
       "      <td>3897.0</td>\n",
       "      <td>Banglore</td>\n",
       "      <td>Train</td>\n",
       "      <td>non-stop</td>\n",
       "      <td>170.0</td>\n",
       "      <td>Night</td>\n",
       "      <td>Late Night</td>\n",
       "    </tr>\n",
       "    <tr>\n",
       "      <td>1</td>\n",
       "      <td>No Info</td>\n",
       "      <td>Air India</td>\n",
       "      <td>Banglore</td>\n",
       "      <td>7662.0</td>\n",
       "      <td>Kolkata</td>\n",
       "      <td>Train</td>\n",
       "      <td>2 stops</td>\n",
       "      <td>445.0</td>\n",
       "      <td>Early Morning</td>\n",
       "      <td>Noon</td>\n",
       "    </tr>\n",
       "    <tr>\n",
       "      <td>2</td>\n",
       "      <td>No Info</td>\n",
       "      <td>Jet Airways</td>\n",
       "      <td>Cochin</td>\n",
       "      <td>13882.0</td>\n",
       "      <td>Delhi</td>\n",
       "      <td>Train</td>\n",
       "      <td>2 stops</td>\n",
       "      <td>1140.0</td>\n",
       "      <td>Morning</td>\n",
       "      <td>Late Night</td>\n",
       "    </tr>\n",
       "    <tr>\n",
       "      <td>3</td>\n",
       "      <td>No Info</td>\n",
       "      <td>IndiGo</td>\n",
       "      <td>Banglore</td>\n",
       "      <td>6218.0</td>\n",
       "      <td>Kolkata</td>\n",
       "      <td>Train</td>\n",
       "      <td>1 stop</td>\n",
       "      <td>325.0</td>\n",
       "      <td>Eve</td>\n",
       "      <td>Night</td>\n",
       "    </tr>\n",
       "    <tr>\n",
       "      <td>4</td>\n",
       "      <td>No Info</td>\n",
       "      <td>IndiGo</td>\n",
       "      <td>Delhi</td>\n",
       "      <td>13302.0</td>\n",
       "      <td>Banglore</td>\n",
       "      <td>Train</td>\n",
       "      <td>1 stop</td>\n",
       "      <td>285.0</td>\n",
       "      <td>Noon</td>\n",
       "      <td>Night</td>\n",
       "    </tr>\n",
       "  </tbody>\n",
       "</table>\n",
       "</div>"
      ],
      "text/plain": [
       "  Additional_Info      Airline Destination    Price    Source   Temp  \\\n",
       "0         No Info       IndiGo       Delhi   3897.0  Banglore  Train   \n",
       "1         No Info    Air India    Banglore   7662.0   Kolkata  Train   \n",
       "2         No Info  Jet Airways      Cochin  13882.0     Delhi  Train   \n",
       "3         No Info       IndiGo    Banglore   6218.0   Kolkata  Train   \n",
       "4         No Info       IndiGo       Delhi  13302.0  Banglore  Train   \n",
       "\n",
       "  Total_Stops  duration Dep_Part_of_the_day Arrival_Part_of_the_day  \n",
       "0    non-stop     170.0               Night              Late Night  \n",
       "1     2 stops     445.0       Early Morning                    Noon  \n",
       "2     2 stops    1140.0             Morning              Late Night  \n",
       "3      1 stop     325.0                 Eve                   Night  \n",
       "4      1 stop     285.0                Noon                   Night  "
      ]
     },
     "execution_count": 2200,
     "metadata": {},
     "output_type": "execute_result"
    }
   ],
   "source": [
    "df.head()"
   ]
  },
  {
   "cell_type": "markdown",
   "metadata": {},
   "source": [
    "## Data Visualization :"
   ]
  },
  {
   "cell_type": "code",
   "execution_count": 2201,
   "metadata": {},
   "outputs": [
    {
     "data": {
      "image/png": "[encoded data removed]",
      "text/plain": [
       "<Figure size 432x288 with 1 Axes>"
      ]
     },
     "metadata": {
      "needs_background": "light"
     },
     "output_type": "display_data"
    }
   ],
   "source": [
    "#lets check the box plot of our target column, to check if there are outliers\n",
    "sns.boxplot(df.Price)\n",
    "plt.show()"
   ]
  },
  {
   "cell_type": "markdown",
   "metadata": {},
   "source": [
    "From the above plot we can see there are many outliers in the target column"
   ]
  },
  {
   "cell_type": "code",
   "execution_count": 2202,
   "metadata": {},
   "outputs": [
    {
     "data": {
      "image/png": "[encoded data removed]",
      "text/plain": [
       "<Figure size 432x288 with 1 Axes>"
      ]
     },
     "metadata": {
      "needs_background": "light"
     },
     "output_type": "display_data"
    }
   ],
   "source": [
    "#lets check the distribution of the target column\n",
    "sns.distplot(df.Price[:10683])\n",
    "plt.show()"
   ]
  },
  {
   "cell_type": "markdown",
   "metadata": {},
   "source": [
    "From the above plot we can see that data is right skewed in target column"
   ]
  },
  {
   "cell_type": "markdown",
   "metadata": {},
   "source": [
    "## Bivariate Analysis with Target Variable"
   ]
  },
  {
   "cell_type": "code",
   "execution_count": 2203,
   "metadata": {},
   "outputs": [
    {
     "data": {
      "image/png": "[encoded data removed]",
      "text/plain": [
       "<Figure size 1080x360 with 1 Axes>"
      ]
     },
     "metadata": {
      "needs_background": "light"
     },
     "output_type": "display_data"
    }
   ],
   "source": [
    "#Lets check this column againt our target variable\n",
    "plt.figure(figsize= (15,5))\n",
    "col1 = sns.barplot(x = df['Additional_Info'] , y =df['Price'] )\n",
    "col1.set_xticklabels(col1.get_xticklabels(), rotation=40, ha=\"right\") \n",
    "plt.show()"
   ]
  },
  {
   "cell_type": "markdown",
   "metadata": {},
   "source": [
    "From the above plot we can see that business call is having highest price among all"
   ]
  },
  {
   "cell_type": "code",
   "execution_count": 2204,
   "metadata": {},
   "outputs": [
    {
     "data": {
      "image/png": "[encoded data removed]",
      "text/plain": [
       "<Figure size 1080x360 with 1 Axes>"
      ]
     },
     "metadata": {
      "needs_background": "light"
     },
     "output_type": "display_data"
    }
   ],
   "source": [
    "#Lets check this column againt our target variable\n",
    "plt.figure(figsize= (15,5))\n",
    "col2 = sns.barplot(x = 'Airline' , y ='Price', data = df )\n",
    "col2.set_xticklabels(col2.get_xticklabels(), rotation=40, ha=\"right\") \n",
    "plt.show()"
   ]
  },
  {
   "cell_type": "markdown",
   "metadata": {},
   "source": [
    "From the above plot we can see that jet Airways has the highest price compare to all Airlines"
   ]
  },
  {
   "cell_type": "code",
   "execution_count": 2205,
   "metadata": {},
   "outputs": [
    {
     "data": {
      "image/png": "[encoded data removed]",
      "text/plain": [
       "<Figure size 1080x360 with 1 Axes>"
      ]
     },
     "metadata": {
      "needs_background": "light"
     },
     "output_type": "display_data"
    }
   ],
   "source": [
    "#Lets check this column againt our target variable\n",
    "plt.figure(figsize= (15,5))\n",
    "col3 = sns.barplot(x = 'Destination' , y ='Price', data = df )\n",
    "col3.set_xticklabels(col3.get_xticklabels(), rotation=40, ha=\"right\") \n",
    "plt.show()"
   ]
  },
  {
   "cell_type": "markdown",
   "metadata": {},
   "source": [
    "From the above plot we can see that people who travelled to Cohchin have paid more flight price compare to all"
   ]
  },
  {
   "cell_type": "code",
   "execution_count": 2206,
   "metadata": {},
   "outputs": [
    {
     "data": {
      "image/png": "[encoded data removed]",
      "text/plain": [
       "<Figure size 1080x360 with 1 Axes>"
      ]
     },
     "metadata": {
      "needs_background": "light"
     },
     "output_type": "display_data"
    }
   ],
   "source": [
    "#Lets check this column againt our target variable\n",
    "plt.figure(figsize= (15,5))\n",
    "col4 = sns.barplot(x = 'Source' , y ='Price', data = df )\n",
    "col4.set_xticklabels(col4.get_xticklabels(), rotation=40, ha=\"right\") \n",
    "plt.show()"
   ]
  },
  {
   "cell_type": "markdown",
   "metadata": {},
   "source": [
    "From the above plot we can see that people who travelled from delhi have paid more than the others"
   ]
  },
  {
   "cell_type": "code",
   "execution_count": 2207,
   "metadata": {},
   "outputs": [
    {
     "data": {
      "image/png": "[encoded data removed]",
      "text/plain": [
       "<Figure size 1080x360 with 1 Axes>"
      ]
     },
     "metadata": {
      "needs_background": "light"
     },
     "output_type": "display_data"
    }
   ],
   "source": [
    "#Lets check this column againt our target variable\n",
    "plt.figure(figsize= (15,5))\n",
    "col5 = sns.barplot(x = 'Total_Stops' , y ='Price', data = df )\n",
    "col5.set_xticklabels(col5.get_xticklabels(), rotation=40, ha=\"right\") \n",
    "plt.show()"
   ]
  },
  {
   "cell_type": "markdown",
   "metadata": {},
   "source": [
    "From the above plot we can see that if the total stops is 4 , then the flight price is high"
   ]
  },
  {
   "cell_type": "code",
   "execution_count": 2208,
   "metadata": {},
   "outputs": [
    {
     "data": {
      "image/png": "[encoded data removed]",
      "text/plain": [
       "<Figure size 1080x360 with 1 Axes>"
      ]
     },
     "metadata": {
      "needs_background": "light"
     },
     "output_type": "display_data"
    }
   ],
   "source": [
    "#Lets check this column againt our target variable\n",
    "plt.figure(figsize= (15,5))\n",
    "col6 = sns.barplot(x = 'Dep_Part_of_the_day' , y ='Price', data = df )\n",
    "col6.set_xticklabels(col6.get_xticklabels(), rotation=40, ha=\"right\") \n",
    "plt.show()"
   ]
  },
  {
   "cell_type": "markdown",
   "metadata": {},
   "source": [
    "From the above plot we can see that if departure time is Late night, then the flight price is less compare to others"
   ]
  },
  {
   "cell_type": "code",
   "execution_count": 2209,
   "metadata": {},
   "outputs": [
    {
     "data": {
      "image/png": "[encoded data removed]",
      "text/plain": [
       "<Figure size 1080x360 with 1 Axes>"
      ]
     },
     "metadata": {
      "needs_background": "light"
     },
     "output_type": "display_data"
    }
   ],
   "source": [
    "#Lets check this column againt our target variable\n",
    "plt.figure(figsize= (15,5))\n",
    "col7 = sns.barplot(x = 'Arrival_Part_of_the_day' , y ='Price', data = df )\n",
    "col7.set_xticklabels(col7.get_xticklabels(), rotation=40, ha=\"right\") \n",
    "plt.show()"
   ]
  },
  {
   "cell_type": "markdown",
   "metadata": {},
   "source": [
    "From the above plot we can see that if arrival time is Evening , then ticket price quite high"
   ]
  },
  {
   "cell_type": "code",
   "execution_count": 2210,
   "metadata": {},
   "outputs": [
    {
     "data": {
      "image/png": "[encoded data removed]",
      "text/plain": [
       "<Figure size 432x288 with 1 Axes>"
      ]
     },
     "metadata": {
      "needs_background": "light"
     },
     "output_type": "display_data"
    }
   ],
   "source": [
    "#Lets check this column againt our target variable\n",
    "sns.scatterplot(x = 'duration', y ='Price' , data  = df)\n",
    "plt.show()"
   ]
  },
  {
   "cell_type": "markdown",
   "metadata": {},
   "source": [
    "from the above plot we can see that duration and Price is moderate positive correlation with duration column"
   ]
  },
  {
   "cell_type": "code",
   "execution_count": 2211,
   "metadata": {},
   "outputs": [
    {
     "data": {
      "text/html": [
       "<div>\n",
       "<style scoped>\n",
       "    .dataframe tbody tr th:only-of-type {\n",
       "        vertical-align: middle;\n",
       "    }\n",
       "\n",
       "    .dataframe tbody tr th {\n",
       "        vertical-align: top;\n",
       "    }\n",
       "\n",
       "    .dataframe thead th {\n",
       "        text-align: right;\n",
       "    }\n",
       "</style>\n",
       "<table border=\"1\" class=\"dataframe\">\n",
       "  <thead>\n",
       "    <tr style=\"text-align: right;\">\n",
       "      <th></th>\n",
       "      <th>Price</th>\n",
       "      <th>duration</th>\n",
       "    </tr>\n",
       "  </thead>\n",
       "  <tbody>\n",
       "    <tr>\n",
       "      <td>Price</td>\n",
       "      <td>1.000000</td>\n",
       "      <td>0.449471</td>\n",
       "    </tr>\n",
       "    <tr>\n",
       "      <td>duration</td>\n",
       "      <td>0.449471</td>\n",
       "      <td>1.000000</td>\n",
       "    </tr>\n",
       "  </tbody>\n",
       "</table>\n",
       "</div>"
      ],
      "text/plain": [
       "             Price  duration\n",
       "Price     1.000000  0.449471\n",
       "duration  0.449471  1.000000"
      ]
     },
     "execution_count": 2211,
     "metadata": {},
     "output_type": "execute_result"
    }
   ],
   "source": [
    "#lest check the correlation between price and duration\n",
    "df.corr()"
   ]
  },
  {
   "cell_type": "markdown",
   "metadata": {},
   "source": [
    "these are the only two numerical columns, correlation is 0.449"
   ]
  },
  {
   "cell_type": "code",
   "execution_count": 2212,
   "metadata": {},
   "outputs": [
    {
     "data": {
      "image/png": "[encoded data removed]",
      "text/plain": [
       "<Figure size 432x288 with 1 Axes>"
      ]
     },
     "metadata": {
      "needs_background": "light"
     },
     "output_type": "display_data"
    }
   ],
   "source": [
    "#lets check for outliers in duration column\n",
    "sns.boxplot(df.duration)\n",
    "plt.show()"
   ]
  },
  {
   "cell_type": "code",
   "execution_count": 2213,
   "metadata": {},
   "outputs": [
    {
     "data": {
      "image/png": "[encoded data removed]",
      "text/plain": [
       "<Figure size 432x288 with 1 Axes>"
      ]
     },
     "metadata": {
      "needs_background": "light"
     },
     "output_type": "display_data"
    }
   ],
   "source": [
    "#lets check for distribution \n",
    "sns.distplot(df.duration)\n",
    "plt.show()"
   ]
  },
  {
   "cell_type": "markdown",
   "metadata": {},
   "source": [
    "We can see that duration column is slightly right skewed"
   ]
  },
  {
   "cell_type": "markdown",
   "metadata": {},
   "source": [
    "## Outlier Removal in target column"
   ]
  },
  {
   "cell_type": "code",
   "execution_count": 2214,
   "metadata": {},
   "outputs": [],
   "source": [
    "#Function of outlier Removal when data is not normal distributed or Right skewed\n",
    "def outliers_IQR3(data_frame,feature_name):\n",
    "    IQR  =data_frame[feature_name].quantile(0.75)-data_frame[feature_name].quantile(0.25)\n",
    "    lower_boundary = data_frame[feature_name].quantile(0.25) - (IQR * 1.5)\n",
    "    upper_boundary = data_frame[feature_name].quantile(0.75) + (IQR * 1.5)\n",
    "    df.loc[df[feature_name] >= upper_boundary,feature_name]= upper_boundary\n",
    "    df.loc[df[feature_name] <= lower_boundary,feature_name]= lower_boundary"
   ]
  },
  {
   "cell_type": "code",
   "execution_count": 2215,
   "metadata": {},
   "outputs": [],
   "source": [
    "#calling the function\n",
    "outliers_IQR3(df,'Price')"
   ]
  },
  {
   "cell_type": "code",
   "execution_count": 2216,
   "metadata": {},
   "outputs": [
    {
     "data": {
      "text/plain": [
       "<matplotlib.axes._subplots.AxesSubplot at 0x24d92939588>"
      ]
     },
     "execution_count": 2216,
     "metadata": {},
     "output_type": "execute_result"
    },
    {
     "data": {
      "image/png": "[encoded data removed]",
      "text/plain": [
       "<Figure size 432x288 with 1 Axes>"
      ]
     },
     "metadata": {
      "needs_background": "light"
     },
     "output_type": "display_data"
    }
   ],
   "source": [
    "#now lets outliers using box plot\n",
    "sns.boxplot(df.Price)"
   ]
  },
  {
   "cell_type": "code",
   "execution_count": 2217,
   "metadata": {},
   "outputs": [],
   "source": [
    "#outliers have been completely removed from this column"
   ]
  },
  {
   "cell_type": "code",
   "execution_count": 2218,
   "metadata": {},
   "outputs": [
    {
     "data": {
      "image/png": "[encoded data removed]",
      "text/plain": [
       "<Figure size 432x288 with 1 Axes>"
      ]
     },
     "metadata": {
      "needs_background": "light"
     },
     "output_type": "display_data"
    }
   ],
   "source": [
    "#lets check the distribution of the target column\n",
    "sns.distplot(df.Price[:10683])\n",
    "plt.show()"
   ]
  },
  {
   "cell_type": "code",
   "execution_count": 2219,
   "metadata": {},
   "outputs": [],
   "source": [
    "#now our target column is normal distributed"
   ]
  },
  {
   "cell_type": "markdown",
   "metadata": {},
   "source": [
    "## Encoding the Object Columns"
   ]
  },
  {
   "cell_type": "code",
   "execution_count": 2220,
   "metadata": {},
   "outputs": [
    {
     "data": {
      "text/plain": [
       "Index(['Additional_Info', 'Airline', 'Destination', 'Price', 'Source', 'Temp',\n",
       "       'Total_Stops', 'duration', 'Dep_Part_of_the_day',\n",
       "       'Arrival_Part_of_the_day'],\n",
       "      dtype='object')"
      ]
     },
     "execution_count": 2220,
     "metadata": {},
     "output_type": "execute_result"
    }
   ],
   "source": [
    "df.columns"
   ]
  },
  {
   "cell_type": "code",
   "execution_count": 2221,
   "metadata": {},
   "outputs": [],
   "source": [
    "#we need convert the above columns one-hot encoder, since they are not ordinal values\n",
    "#and also columns contains more than 2 unique values\n",
    "one_hot_columns = ['Additional_Info','Airline', 'Destination','Source','Total_Stops', 'Dep_Part_of_the_day',\n",
    "       'Arrival_Part_of_the_day']\n",
    "df_new = pd.get_dummies(data = df,columns=one_hot_columns)\n"
   ]
  },
  {
   "cell_type": "code",
   "execution_count": 2222,
   "metadata": {},
   "outputs": [
    {
     "data": {
      "text/html": [
       "<div>\n",
       "<style scoped>\n",
       "    .dataframe tbody tr th:only-of-type {\n",
       "        vertical-align: middle;\n",
       "    }\n",
       "\n",
       "    .dataframe tbody tr th {\n",
       "        vertical-align: top;\n",
       "    }\n",
       "\n",
       "    .dataframe thead th {\n",
       "        text-align: right;\n",
       "    }\n",
       "</style>\n",
       "<table border=\"1\" class=\"dataframe\">\n",
       "  <thead>\n",
       "    <tr style=\"text-align: right;\">\n",
       "      <th></th>\n",
       "      <th>Price</th>\n",
       "      <th>Temp</th>\n",
       "      <th>duration</th>\n",
       "      <th>Additional_Info_1 Short layover</th>\n",
       "      <th>Additional_Info_Business class</th>\n",
       "      <th>Additional_Info_Change airports</th>\n",
       "      <th>Additional_Info_In-flight meal not included</th>\n",
       "      <th>Additional_Info_Long layover</th>\n",
       "      <th>Additional_Info_No Info</th>\n",
       "      <th>Additional_Info_No check-in baggage included</th>\n",
       "      <th>...</th>\n",
       "      <th>Dep_Part_of_the_day_Late Night</th>\n",
       "      <th>Dep_Part_of_the_day_Morning</th>\n",
       "      <th>Dep_Part_of_the_day_Night</th>\n",
       "      <th>Dep_Part_of_the_day_Noon</th>\n",
       "      <th>Arrival_Part_of_the_day_Early Morning</th>\n",
       "      <th>Arrival_Part_of_the_day_Eve</th>\n",
       "      <th>Arrival_Part_of_the_day_Late Night</th>\n",
       "      <th>Arrival_Part_of_the_day_Morning</th>\n",
       "      <th>Arrival_Part_of_the_day_Night</th>\n",
       "      <th>Arrival_Part_of_the_day_Noon</th>\n",
       "    </tr>\n",
       "  </thead>\n",
       "  <tbody>\n",
       "    <tr>\n",
       "      <td>0</td>\n",
       "      <td>3897.0</td>\n",
       "      <td>Train</td>\n",
       "      <td>170.0</td>\n",
       "      <td>0</td>\n",
       "      <td>0</td>\n",
       "      <td>0</td>\n",
       "      <td>0</td>\n",
       "      <td>0</td>\n",
       "      <td>1</td>\n",
       "      <td>0</td>\n",
       "      <td>...</td>\n",
       "      <td>0</td>\n",
       "      <td>0</td>\n",
       "      <td>1</td>\n",
       "      <td>0</td>\n",
       "      <td>0</td>\n",
       "      <td>0</td>\n",
       "      <td>1</td>\n",
       "      <td>0</td>\n",
       "      <td>0</td>\n",
       "      <td>0</td>\n",
       "    </tr>\n",
       "    <tr>\n",
       "      <td>1</td>\n",
       "      <td>7662.0</td>\n",
       "      <td>Train</td>\n",
       "      <td>445.0</td>\n",
       "      <td>0</td>\n",
       "      <td>0</td>\n",
       "      <td>0</td>\n",
       "      <td>0</td>\n",
       "      <td>0</td>\n",
       "      <td>1</td>\n",
       "      <td>0</td>\n",
       "      <td>...</td>\n",
       "      <td>0</td>\n",
       "      <td>0</td>\n",
       "      <td>0</td>\n",
       "      <td>0</td>\n",
       "      <td>0</td>\n",
       "      <td>0</td>\n",
       "      <td>0</td>\n",
       "      <td>0</td>\n",
       "      <td>0</td>\n",
       "      <td>1</td>\n",
       "    </tr>\n",
       "    <tr>\n",
       "      <td>2</td>\n",
       "      <td>13882.0</td>\n",
       "      <td>Train</td>\n",
       "      <td>1140.0</td>\n",
       "      <td>0</td>\n",
       "      <td>0</td>\n",
       "      <td>0</td>\n",
       "      <td>0</td>\n",
       "      <td>0</td>\n",
       "      <td>1</td>\n",
       "      <td>0</td>\n",
       "      <td>...</td>\n",
       "      <td>0</td>\n",
       "      <td>1</td>\n",
       "      <td>0</td>\n",
       "      <td>0</td>\n",
       "      <td>0</td>\n",
       "      <td>0</td>\n",
       "      <td>1</td>\n",
       "      <td>0</td>\n",
       "      <td>0</td>\n",
       "      <td>0</td>\n",
       "    </tr>\n",
       "    <tr>\n",
       "      <td>3</td>\n",
       "      <td>6218.0</td>\n",
       "      <td>Train</td>\n",
       "      <td>325.0</td>\n",
       "      <td>0</td>\n",
       "      <td>0</td>\n",
       "      <td>0</td>\n",
       "      <td>0</td>\n",
       "      <td>0</td>\n",
       "      <td>1</td>\n",
       "      <td>0</td>\n",
       "      <td>...</td>\n",
       "      <td>0</td>\n",
       "      <td>0</td>\n",
       "      <td>0</td>\n",
       "      <td>0</td>\n",
       "      <td>0</td>\n",
       "      <td>0</td>\n",
       "      <td>0</td>\n",
       "      <td>0</td>\n",
       "      <td>1</td>\n",
       "      <td>0</td>\n",
       "    </tr>\n",
       "    <tr>\n",
       "      <td>4</td>\n",
       "      <td>13302.0</td>\n",
       "      <td>Train</td>\n",
       "      <td>285.0</td>\n",
       "      <td>0</td>\n",
       "      <td>0</td>\n",
       "      <td>0</td>\n",
       "      <td>0</td>\n",
       "      <td>0</td>\n",
       "      <td>1</td>\n",
       "      <td>0</td>\n",
       "      <td>...</td>\n",
       "      <td>0</td>\n",
       "      <td>0</td>\n",
       "      <td>0</td>\n",
       "      <td>1</td>\n",
       "      <td>0</td>\n",
       "      <td>0</td>\n",
       "      <td>0</td>\n",
       "      <td>0</td>\n",
       "      <td>1</td>\n",
       "      <td>0</td>\n",
       "    </tr>\n",
       "  </tbody>\n",
       "</table>\n",
       "<p>5 rows × 46 columns</p>\n",
       "</div>"
      ],
      "text/plain": [
       "     Price   Temp  duration  Additional_Info_1 Short layover  \\\n",
       "0   3897.0  Train     170.0                                0   \n",
       "1   7662.0  Train     445.0                                0   \n",
       "2  13882.0  Train    1140.0                                0   \n",
       "3   6218.0  Train     325.0                                0   \n",
       "4  13302.0  Train     285.0                                0   \n",
       "\n",
       "   Additional_Info_Business class  Additional_Info_Change airports  \\\n",
       "0                               0                                0   \n",
       "1                               0                                0   \n",
       "2                               0                                0   \n",
       "3                               0                                0   \n",
       "4                               0                                0   \n",
       "\n",
       "   Additional_Info_In-flight meal not included  Additional_Info_Long layover  \\\n",
       "0                                            0                             0   \n",
       "1                                            0                             0   \n",
       "2                                            0                             0   \n",
       "3                                            0                             0   \n",
       "4                                            0                             0   \n",
       "\n",
       "   Additional_Info_No Info  Additional_Info_No check-in baggage included  ...  \\\n",
       "0                        1                                             0  ...   \n",
       "1                        1                                             0  ...   \n",
       "2                        1                                             0  ...   \n",
       "3                        1                                             0  ...   \n",
       "4                        1                                             0  ...   \n",
       "\n",
       "   Dep_Part_of_the_day_Late Night  Dep_Part_of_the_day_Morning  \\\n",
       "0                               0                            0   \n",
       "1                               0                            0   \n",
       "2                               0                            1   \n",
       "3                               0                            0   \n",
       "4                               0                            0   \n",
       "\n",
       "   Dep_Part_of_the_day_Night  Dep_Part_of_the_day_Noon  \\\n",
       "0                          1                         0   \n",
       "1                          0                         0   \n",
       "2                          0                         0   \n",
       "3                          0                         0   \n",
       "4                          0                         1   \n",
       "\n",
       "   Arrival_Part_of_the_day_Early Morning  Arrival_Part_of_the_day_Eve  \\\n",
       "0                                      0                            0   \n",
       "1                                      0                            0   \n",
       "2                                      0                            0   \n",
       "3                                      0                            0   \n",
       "4                                      0                            0   \n",
       "\n",
       "   Arrival_Part_of_the_day_Late Night  Arrival_Part_of_the_day_Morning  \\\n",
       "0                                   1                                0   \n",
       "1                                   0                                0   \n",
       "2                                   1                                0   \n",
       "3                                   0                                0   \n",
       "4                                   0                                0   \n",
       "\n",
       "   Arrival_Part_of_the_day_Night  Arrival_Part_of_the_day_Noon  \n",
       "0                              0                             0  \n",
       "1                              0                             1  \n",
       "2                              0                             0  \n",
       "3                              1                             0  \n",
       "4                              1                             0  \n",
       "\n",
       "[5 rows x 46 columns]"
      ]
     },
     "execution_count": 2222,
     "metadata": {},
     "output_type": "execute_result"
    }
   ],
   "source": [
    "df_new.head()"
   ]
  },
  {
   "cell_type": "markdown",
   "metadata": {},
   "source": [
    "## Scaling the Data"
   ]
  },
  {
   "cell_type": "code",
   "execution_count": 2223,
   "metadata": {},
   "outputs": [],
   "source": [
    "#lets split our x and y column before scaling\n",
    "#x and y spitting\n",
    "Y = df_new['Price']\n",
    "X = df_new.drop('Price',axis = 1)"
   ]
  },
  {
   "cell_type": "code",
   "execution_count": 2224,
   "metadata": {},
   "outputs": [],
   "source": [
    "#dropping temp column\n",
    "temp = X['Temp']\n",
    "\n",
    "X.drop('Temp',axis =1 ,inplace = True)"
   ]
  },
  {
   "cell_type": "code",
   "execution_count": 2225,
   "metadata": {},
   "outputs": [
    {
     "data": {
      "text/plain": [
       "(13354, 44)"
      ]
     },
     "execution_count": 2225,
     "metadata": {},
     "output_type": "execute_result"
    }
   ],
   "source": [
    "X.shape"
   ]
  },
  {
   "cell_type": "code",
   "execution_count": 2226,
   "metadata": {},
   "outputs": [
    {
     "data": {
      "text/html": [
       "<div>\n",
       "<style scoped>\n",
       "    .dataframe tbody tr th:only-of-type {\n",
       "        vertical-align: middle;\n",
       "    }\n",
       "\n",
       "    .dataframe tbody tr th {\n",
       "        vertical-align: top;\n",
       "    }\n",
       "\n",
       "    .dataframe thead th {\n",
       "        text-align: right;\n",
       "    }\n",
       "</style>\n",
       "<table border=\"1\" class=\"dataframe\">\n",
       "  <thead>\n",
       "    <tr style=\"text-align: right;\">\n",
       "      <th></th>\n",
       "      <th>duration</th>\n",
       "      <th>Additional_Info_1 Short layover</th>\n",
       "      <th>Additional_Info_Business class</th>\n",
       "      <th>Additional_Info_Change airports</th>\n",
       "      <th>Additional_Info_In-flight meal not included</th>\n",
       "      <th>Additional_Info_Long layover</th>\n",
       "      <th>Additional_Info_No Info</th>\n",
       "      <th>Additional_Info_No check-in baggage included</th>\n",
       "      <th>Additional_Info_Red-eye flight</th>\n",
       "      <th>Airline_Air Asia</th>\n",
       "      <th>...</th>\n",
       "      <th>Dep_Part_of_the_day_Late Night</th>\n",
       "      <th>Dep_Part_of_the_day_Morning</th>\n",
       "      <th>Dep_Part_of_the_day_Night</th>\n",
       "      <th>Dep_Part_of_the_day_Noon</th>\n",
       "      <th>Arrival_Part_of_the_day_Early Morning</th>\n",
       "      <th>Arrival_Part_of_the_day_Eve</th>\n",
       "      <th>Arrival_Part_of_the_day_Late Night</th>\n",
       "      <th>Arrival_Part_of_the_day_Morning</th>\n",
       "      <th>Arrival_Part_of_the_day_Night</th>\n",
       "      <th>Arrival_Part_of_the_day_Noon</th>\n",
       "    </tr>\n",
       "  </thead>\n",
       "  <tbody>\n",
       "    <tr>\n",
       "      <td>0</td>\n",
       "      <td>-0.845671</td>\n",
       "      <td>-0.008654</td>\n",
       "      <td>-0.019354</td>\n",
       "      <td>-0.024483</td>\n",
       "      <td>-0.471167</td>\n",
       "      <td>-0.039687</td>\n",
       "      <td>0.521818</td>\n",
       "      <td>-0.174815</td>\n",
       "      <td>-0.008654</td>\n",
       "      <td>-0.176852</td>\n",
       "      <td>...</td>\n",
       "      <td>-0.211543</td>\n",
       "      <td>-0.512164</td>\n",
       "      <td>3.045046</td>\n",
       "      <td>-0.443269</td>\n",
       "      <td>-0.324329</td>\n",
       "      <td>-0.58767</td>\n",
       "      <td>2.212647</td>\n",
       "      <td>-0.496862</td>\n",
       "      <td>-0.461289</td>\n",
       "      <td>-0.342631</td>\n",
       "    </tr>\n",
       "    <tr>\n",
       "      <td>1</td>\n",
       "      <td>-0.126558</td>\n",
       "      <td>-0.008654</td>\n",
       "      <td>-0.019354</td>\n",
       "      <td>-0.024483</td>\n",
       "      <td>-0.471167</td>\n",
       "      <td>-0.039687</td>\n",
       "      <td>0.521818</td>\n",
       "      <td>-0.174815</td>\n",
       "      <td>-0.008654</td>\n",
       "      <td>-0.176852</td>\n",
       "      <td>...</td>\n",
       "      <td>-0.211543</td>\n",
       "      <td>-0.512164</td>\n",
       "      <td>-0.328402</td>\n",
       "      <td>-0.443269</td>\n",
       "      <td>-0.324329</td>\n",
       "      <td>-0.58767</td>\n",
       "      <td>-0.451947</td>\n",
       "      <td>-0.496862</td>\n",
       "      <td>-0.461289</td>\n",
       "      <td>2.918591</td>\n",
       "    </tr>\n",
       "    <tr>\n",
       "      <td>2</td>\n",
       "      <td>1.690836</td>\n",
       "      <td>-0.008654</td>\n",
       "      <td>-0.019354</td>\n",
       "      <td>-0.024483</td>\n",
       "      <td>-0.471167</td>\n",
       "      <td>-0.039687</td>\n",
       "      <td>0.521818</td>\n",
       "      <td>-0.174815</td>\n",
       "      <td>-0.008654</td>\n",
       "      <td>-0.176852</td>\n",
       "      <td>...</td>\n",
       "      <td>-0.211543</td>\n",
       "      <td>1.952499</td>\n",
       "      <td>-0.328402</td>\n",
       "      <td>-0.443269</td>\n",
       "      <td>-0.324329</td>\n",
       "      <td>-0.58767</td>\n",
       "      <td>2.212647</td>\n",
       "      <td>-0.496862</td>\n",
       "      <td>-0.461289</td>\n",
       "      <td>-0.342631</td>\n",
       "    </tr>\n",
       "    <tr>\n",
       "      <td>3</td>\n",
       "      <td>-0.440353</td>\n",
       "      <td>-0.008654</td>\n",
       "      <td>-0.019354</td>\n",
       "      <td>-0.024483</td>\n",
       "      <td>-0.471167</td>\n",
       "      <td>-0.039687</td>\n",
       "      <td>0.521818</td>\n",
       "      <td>-0.174815</td>\n",
       "      <td>-0.008654</td>\n",
       "      <td>-0.176852</td>\n",
       "      <td>...</td>\n",
       "      <td>-0.211543</td>\n",
       "      <td>-0.512164</td>\n",
       "      <td>-0.328402</td>\n",
       "      <td>-0.443269</td>\n",
       "      <td>-0.324329</td>\n",
       "      <td>-0.58767</td>\n",
       "      <td>-0.451947</td>\n",
       "      <td>-0.496862</td>\n",
       "      <td>2.167840</td>\n",
       "      <td>-0.342631</td>\n",
       "    </tr>\n",
       "    <tr>\n",
       "      <td>4</td>\n",
       "      <td>-0.544951</td>\n",
       "      <td>-0.008654</td>\n",
       "      <td>-0.019354</td>\n",
       "      <td>-0.024483</td>\n",
       "      <td>-0.471167</td>\n",
       "      <td>-0.039687</td>\n",
       "      <td>0.521818</td>\n",
       "      <td>-0.174815</td>\n",
       "      <td>-0.008654</td>\n",
       "      <td>-0.176852</td>\n",
       "      <td>...</td>\n",
       "      <td>-0.211543</td>\n",
       "      <td>-0.512164</td>\n",
       "      <td>-0.328402</td>\n",
       "      <td>2.255964</td>\n",
       "      <td>-0.324329</td>\n",
       "      <td>-0.58767</td>\n",
       "      <td>-0.451947</td>\n",
       "      <td>-0.496862</td>\n",
       "      <td>2.167840</td>\n",
       "      <td>-0.342631</td>\n",
       "    </tr>\n",
       "  </tbody>\n",
       "</table>\n",
       "<p>5 rows × 44 columns</p>\n",
       "</div>"
      ],
      "text/plain": [
       "   duration  Additional_Info_1 Short layover  Additional_Info_Business class  \\\n",
       "0 -0.845671                        -0.008654                       -0.019354   \n",
       "1 -0.126558                        -0.008654                       -0.019354   \n",
       "2  1.690836                        -0.008654                       -0.019354   \n",
       "3 -0.440353                        -0.008654                       -0.019354   \n",
       "4 -0.544951                        -0.008654                       -0.019354   \n",
       "\n",
       "   Additional_Info_Change airports  \\\n",
       "0                        -0.024483   \n",
       "1                        -0.024483   \n",
       "2                        -0.024483   \n",
       "3                        -0.024483   \n",
       "4                        -0.024483   \n",
       "\n",
       "   Additional_Info_In-flight meal not included  Additional_Info_Long layover  \\\n",
       "0                                    -0.471167                     -0.039687   \n",
       "1                                    -0.471167                     -0.039687   \n",
       "2                                    -0.471167                     -0.039687   \n",
       "3                                    -0.471167                     -0.039687   \n",
       "4                                    -0.471167                     -0.039687   \n",
       "\n",
       "   Additional_Info_No Info  Additional_Info_No check-in baggage included  \\\n",
       "0                 0.521818                                     -0.174815   \n",
       "1                 0.521818                                     -0.174815   \n",
       "2                 0.521818                                     -0.174815   \n",
       "3                 0.521818                                     -0.174815   \n",
       "4                 0.521818                                     -0.174815   \n",
       "\n",
       "   Additional_Info_Red-eye flight  Airline_Air Asia  ...  \\\n",
       "0                       -0.008654         -0.176852  ...   \n",
       "1                       -0.008654         -0.176852  ...   \n",
       "2                       -0.008654         -0.176852  ...   \n",
       "3                       -0.008654         -0.176852  ...   \n",
       "4                       -0.008654         -0.176852  ...   \n",
       "\n",
       "   Dep_Part_of_the_day_Late Night  Dep_Part_of_the_day_Morning  \\\n",
       "0                       -0.211543                    -0.512164   \n",
       "1                       -0.211543                    -0.512164   \n",
       "2                       -0.211543                     1.952499   \n",
       "3                       -0.211543                    -0.512164   \n",
       "4                       -0.211543                    -0.512164   \n",
       "\n",
       "   Dep_Part_of_the_day_Night  Dep_Part_of_the_day_Noon  \\\n",
       "0                   3.045046                 -0.443269   \n",
       "1                  -0.328402                 -0.443269   \n",
       "2                  -0.328402                 -0.443269   \n",
       "3                  -0.328402                 -0.443269   \n",
       "4                  -0.328402                  2.255964   \n",
       "\n",
       "   Arrival_Part_of_the_day_Early Morning  Arrival_Part_of_the_day_Eve  \\\n",
       "0                              -0.324329                     -0.58767   \n",
       "1                              -0.324329                     -0.58767   \n",
       "2                              -0.324329                     -0.58767   \n",
       "3                              -0.324329                     -0.58767   \n",
       "4                              -0.324329                     -0.58767   \n",
       "\n",
       "   Arrival_Part_of_the_day_Late Night  Arrival_Part_of_the_day_Morning  \\\n",
       "0                            2.212647                        -0.496862   \n",
       "1                           -0.451947                        -0.496862   \n",
       "2                            2.212647                        -0.496862   \n",
       "3                           -0.451947                        -0.496862   \n",
       "4                           -0.451947                        -0.496862   \n",
       "\n",
       "   Arrival_Part_of_the_day_Night  Arrival_Part_of_the_day_Noon  \n",
       "0                      -0.461289                     -0.342631  \n",
       "1                      -0.461289                      2.918591  \n",
       "2                      -0.461289                     -0.342631  \n",
       "3                       2.167840                     -0.342631  \n",
       "4                       2.167840                     -0.342631  \n",
       "\n",
       "[5 rows x 44 columns]"
      ]
     },
     "execution_count": 2226,
     "metadata": {},
     "output_type": "execute_result"
    }
   ],
   "source": [
    "#Lets scale the data using standard scaler\n",
    "scaler = StandardScaler()\n",
    "scaled_X = pd.DataFrame(scaler.fit_transform(X),columns= X.columns)\n",
    "scaled_X.head()"
   ]
  },
  {
   "cell_type": "code",
   "execution_count": 2227,
   "metadata": {},
   "outputs": [],
   "source": [
    "#now our data is scaled using standard scaler"
   ]
  },
  {
   "cell_type": "markdown",
   "metadata": {},
   "source": [
    "## PCA (Principal Component Analysis):"
   ]
  },
  {
   "cell_type": "code",
   "execution_count": 2228,
   "metadata": {},
   "outputs": [],
   "source": [
    "#we need to use pca becuase we have 44 columns in this dataset which is very high"
   ]
  },
  {
   "cell_type": "code",
   "execution_count": 2229,
   "metadata": {},
   "outputs": [],
   "source": [
    "#we should always use scaled data for performing the PCA"
   ]
  },
  {
   "cell_type": "code",
   "execution_count": 2230,
   "metadata": {},
   "outputs": [
    {
     "data": {
      "text/plain": [
       "(13354, 44)"
      ]
     },
     "execution_count": 2230,
     "metadata": {},
     "output_type": "execute_result"
    }
   ],
   "source": [
    "#we have 44 columns excluding target variable\n",
    "scaled_X.shape"
   ]
  },
  {
   "cell_type": "code",
   "execution_count": 2231,
   "metadata": {},
   "outputs": [],
   "source": [
    "#first lets TEST out percentage of data that we will obtain after PCA\n",
    "testpca = PCA()\n",
    "test_x = testpca.fit(scaled_X)"
   ]
  },
  {
   "cell_type": "code",
   "execution_count": 2232,
   "metadata": {},
   "outputs": [
    {
     "data": {
      "text/plain": [
       "array([ 10.7117993 ,  18.15886892,  24.03623587,  29.56073261,\n",
       "        34.63159481,  39.12080874,  42.94841188,  46.64298051,\n",
       "        50.02555727,  53.30177068,  56.39276693,  59.26896011,\n",
       "        61.97592109,  64.60212689,  67.0739823 ,  69.50234923,\n",
       "        71.88287406,  74.20056407,  76.48058811,  78.75180861,\n",
       "        80.98081432,  83.17058835,  85.26406762,  87.3254192 ,\n",
       "        89.18714054,  90.95619108,  92.70028582,  94.38730083,\n",
       "        95.92947141,  97.21192205,  98.37363188,  99.26084613,\n",
       "       100.        , 100.        , 100.        , 100.        ,\n",
       "       100.        , 100.        , 100.        , 100.        ,\n",
       "       100.        , 100.        , 100.        , 100.        ])"
      ]
     },
     "execution_count": 2232,
     "metadata": {},
     "output_type": "execute_result"
    }
   ],
   "source": [
    "#now lets out cumulative score \n",
    "cum_score = np.cumsum(test_x.explained_variance_ratio_)*100\n",
    "cum_score  "
   ]
  },
  {
   "cell_type": "code",
   "execution_count": 2233,
   "metadata": {},
   "outputs": [
    {
     "name": "stdout",
     "output_type": "stream",
     "text": [
      "Number of components expaining 95% of variance is : 28\n"
     ]
    }
   ],
   "source": [
    "#lets check how many columns gives 95% of variance\n",
    "s = np.argmax(cum_score > 95)\n",
    "print(\"Number of components expaining 95% of variance is :\", s)"
   ]
  },
  {
   "cell_type": "code",
   "execution_count": 2234,
   "metadata": {},
   "outputs": [
    {
     "name": "stdout",
     "output_type": "stream",
     "text": [
      "Number of components expaining 90% of variance is : 25\n"
     ]
    }
   ],
   "source": [
    "#lets check how many columns gives 90% of variance\n",
    "s = np.argmax(cum_score > 90)\n",
    "print(\"Number of components expaining 90% of variance is :\", s)"
   ]
  },
  {
   "cell_type": "code",
   "execution_count": 2235,
   "metadata": {},
   "outputs": [],
   "source": [
    "#now we have seen that how much data will be lost based number of columns"
   ]
  },
  {
   "cell_type": "code",
   "execution_count": 2236,
   "metadata": {},
   "outputs": [
    {
     "data": {
      "image/png": "[encoded data removed]",
      "text/plain": [
       "<Figure size 432x288 with 1 Axes>"
      ]
     },
     "metadata": {
      "needs_background": "light"
     },
     "output_type": "display_data"
    }
   ],
   "source": [
    "#lets plot the graph for graphical understanding\n",
    "plt.ylabel('Cumulative Explained Ratio')\n",
    "plt.xlabel('Principle Components')\n",
    "\n",
    "plt.axvline(x = s, color = 'k', linestyle = '--')\n",
    "plt.axhline(y = 90, color = 'k', linestyle = '--')\n",
    "\n",
    "plt.plot(cum_score)\n",
    "plt.show()"
   ]
  },
  {
   "cell_type": "markdown",
   "metadata": {},
   "source": [
    "From the above plot we can see that for 25 columns 90% of data will be retrived"
   ]
  },
  {
   "cell_type": "code",
   "execution_count": 2237,
   "metadata": {},
   "outputs": [],
   "source": [
    "#lets perform the PCA with 24 columns\n",
    "Final_pca = PCA(n_components= 25)\n",
    "\n",
    "pca_x = pd.DataFrame(Final_pca.fit_transform(scaled_X))"
   ]
  },
  {
   "cell_type": "code",
   "execution_count": 2238,
   "metadata": {},
   "outputs": [
    {
     "data": {
      "text/html": [
       "<div>\n",
       "<style scoped>\n",
       "    .dataframe tbody tr th:only-of-type {\n",
       "        vertical-align: middle;\n",
       "    }\n",
       "\n",
       "    .dataframe tbody tr th {\n",
       "        vertical-align: top;\n",
       "    }\n",
       "\n",
       "    .dataframe thead th {\n",
       "        text-align: right;\n",
       "    }\n",
       "</style>\n",
       "<table border=\"1\" class=\"dataframe\">\n",
       "  <thead>\n",
       "    <tr style=\"text-align: right;\">\n",
       "      <th></th>\n",
       "      <th>0</th>\n",
       "      <th>1</th>\n",
       "      <th>2</th>\n",
       "      <th>3</th>\n",
       "      <th>4</th>\n",
       "      <th>5</th>\n",
       "      <th>6</th>\n",
       "      <th>7</th>\n",
       "      <th>8</th>\n",
       "      <th>9</th>\n",
       "      <th>...</th>\n",
       "      <th>15</th>\n",
       "      <th>16</th>\n",
       "      <th>17</th>\n",
       "      <th>18</th>\n",
       "      <th>19</th>\n",
       "      <th>20</th>\n",
       "      <th>21</th>\n",
       "      <th>22</th>\n",
       "      <th>23</th>\n",
       "      <th>24</th>\n",
       "    </tr>\n",
       "  </thead>\n",
       "  <tbody>\n",
       "    <tr>\n",
       "      <td>0</td>\n",
       "      <td>3.069837</td>\n",
       "      <td>-1.393198</td>\n",
       "      <td>1.989551</td>\n",
       "      <td>-1.027884</td>\n",
       "      <td>-0.115813</td>\n",
       "      <td>-1.454992</td>\n",
       "      <td>3.471313</td>\n",
       "      <td>0.332219</td>\n",
       "      <td>-0.582275</td>\n",
       "      <td>0.351281</td>\n",
       "      <td>...</td>\n",
       "      <td>-0.750895</td>\n",
       "      <td>-1.026260</td>\n",
       "      <td>-0.571641</td>\n",
       "      <td>-0.041381</td>\n",
       "      <td>0.124925</td>\n",
       "      <td>-0.062239</td>\n",
       "      <td>0.471740</td>\n",
       "      <td>-0.969975</td>\n",
       "      <td>0.174560</td>\n",
       "      <td>0.100738</td>\n",
       "    </tr>\n",
       "    <tr>\n",
       "      <td>1</td>\n",
       "      <td>0.447317</td>\n",
       "      <td>1.065369</td>\n",
       "      <td>-2.181283</td>\n",
       "      <td>-1.749724</td>\n",
       "      <td>-0.757693</td>\n",
       "      <td>3.034931</td>\n",
       "      <td>-0.202669</td>\n",
       "      <td>0.215214</td>\n",
       "      <td>-1.116334</td>\n",
       "      <td>1.119299</td>\n",
       "      <td>...</td>\n",
       "      <td>0.860634</td>\n",
       "      <td>-1.415886</td>\n",
       "      <td>0.304538</td>\n",
       "      <td>0.398646</td>\n",
       "      <td>0.051800</td>\n",
       "      <td>-0.250602</td>\n",
       "      <td>1.305132</td>\n",
       "      <td>0.691473</td>\n",
       "      <td>-1.437770</td>\n",
       "      <td>-0.413398</td>\n",
       "    </tr>\n",
       "    <tr>\n",
       "      <td>2</td>\n",
       "      <td>-2.436083</td>\n",
       "      <td>-1.041157</td>\n",
       "      <td>0.330790</td>\n",
       "      <td>0.571886</td>\n",
       "      <td>-0.280840</td>\n",
       "      <td>1.709190</td>\n",
       "      <td>2.477729</td>\n",
       "      <td>-0.269853</td>\n",
       "      <td>0.138106</td>\n",
       "      <td>0.756604</td>\n",
       "      <td>...</td>\n",
       "      <td>0.192208</td>\n",
       "      <td>-0.281430</td>\n",
       "      <td>0.286246</td>\n",
       "      <td>0.197440</td>\n",
       "      <td>0.032935</td>\n",
       "      <td>-0.302335</td>\n",
       "      <td>0.267366</td>\n",
       "      <td>0.210657</td>\n",
       "      <td>-0.066861</td>\n",
       "      <td>-0.695223</td>\n",
       "    </tr>\n",
       "    <tr>\n",
       "      <td>3</td>\n",
       "      <td>0.485189</td>\n",
       "      <td>1.824681</td>\n",
       "      <td>-2.032580</td>\n",
       "      <td>-1.853207</td>\n",
       "      <td>-0.417684</td>\n",
       "      <td>-2.284780</td>\n",
       "      <td>-0.014436</td>\n",
       "      <td>-0.786495</td>\n",
       "      <td>0.136329</td>\n",
       "      <td>-1.397291</td>\n",
       "      <td>...</td>\n",
       "      <td>-0.128620</td>\n",
       "      <td>-0.400155</td>\n",
       "      <td>-0.149176</td>\n",
       "      <td>0.035622</td>\n",
       "      <td>-0.195327</td>\n",
       "      <td>0.540371</td>\n",
       "      <td>0.582740</td>\n",
       "      <td>-0.862485</td>\n",
       "      <td>-0.206169</td>\n",
       "      <td>-0.010995</td>\n",
       "    </tr>\n",
       "    <tr>\n",
       "      <td>4</td>\n",
       "      <td>1.463272</td>\n",
       "      <td>-0.756799</td>\n",
       "      <td>1.299027</td>\n",
       "      <td>-2.215330</td>\n",
       "      <td>0.036219</td>\n",
       "      <td>-2.049055</td>\n",
       "      <td>-0.386730</td>\n",
       "      <td>-0.775577</td>\n",
       "      <td>0.145758</td>\n",
       "      <td>0.634452</td>\n",
       "      <td>...</td>\n",
       "      <td>-1.628970</td>\n",
       "      <td>1.101529</td>\n",
       "      <td>-0.352486</td>\n",
       "      <td>0.021549</td>\n",
       "      <td>-0.284418</td>\n",
       "      <td>-0.177782</td>\n",
       "      <td>0.389382</td>\n",
       "      <td>-0.319553</td>\n",
       "      <td>0.963801</td>\n",
       "      <td>0.363737</td>\n",
       "    </tr>\n",
       "  </tbody>\n",
       "</table>\n",
       "<p>5 rows × 25 columns</p>\n",
       "</div>"
      ],
      "text/plain": [
       "         0         1         2         3         4         5         6   \\\n",
       "0  3.069837 -1.393198  1.989551 -1.027884 -0.115813 -1.454992  3.471313   \n",
       "1  0.447317  1.065369 -2.181283 -1.749724 -0.757693  3.034931 -0.202669   \n",
       "2 -2.436083 -1.041157  0.330790  0.571886 -0.280840  1.709190  2.477729   \n",
       "3  0.485189  1.824681 -2.032580 -1.853207 -0.417684 -2.284780 -0.014436   \n",
       "4  1.463272 -0.756799  1.299027 -2.215330  0.036219 -2.049055 -0.386730   \n",
       "\n",
       "         7         8         9   ...        15        16        17        18  \\\n",
       "0  0.332219 -0.582275  0.351281  ... -0.750895 -1.026260 -0.571641 -0.041381   \n",
       "1  0.215214 -1.116334  1.119299  ...  0.860634 -1.415886  0.304538  0.398646   \n",
       "2 -0.269853  0.138106  0.756604  ...  0.192208 -0.281430  0.286246  0.197440   \n",
       "3 -0.786495  0.136329 -1.397291  ... -0.128620 -0.400155 -0.149176  0.035622   \n",
       "4 -0.775577  0.145758  0.634452  ... -1.628970  1.101529 -0.352486  0.021549   \n",
       "\n",
       "         19        20        21        22        23        24  \n",
       "0  0.124925 -0.062239  0.471740 -0.969975  0.174560  0.100738  \n",
       "1  0.051800 -0.250602  1.305132  0.691473 -1.437770 -0.413398  \n",
       "2  0.032935 -0.302335  0.267366  0.210657 -0.066861 -0.695223  \n",
       "3 -0.195327  0.540371  0.582740 -0.862485 -0.206169 -0.010995  \n",
       "4 -0.284418 -0.177782  0.389382 -0.319553  0.963801  0.363737  \n",
       "\n",
       "[5 rows x 25 columns]"
      ]
     },
     "execution_count": 2238,
     "metadata": {},
     "output_type": "execute_result"
    }
   ],
   "source": [
    "#lets create a datafram\n",
    "pca_x.head()"
   ]
  },
  {
   "cell_type": "code",
   "execution_count": 2239,
   "metadata": {},
   "outputs": [
    {
     "name": "stdout",
     "output_type": "stream",
     "text": [
      "variance is : 0.8918714053997423\n"
     ]
    }
   ],
   "source": [
    "print(\"variance is : {}\".format(np.sum(Final_pca.explained_variance_ratio_)))"
   ]
  },
  {
   "cell_type": "code",
   "execution_count": 2240,
   "metadata": {},
   "outputs": [
    {
     "data": {
      "text/plain": [
       "(13354, 25)"
      ]
     },
     "execution_count": 2240,
     "metadata": {},
     "output_type": "execute_result"
    }
   ],
   "source": [
    "pca_x.shape"
   ]
  },
  {
   "cell_type": "markdown",
   "metadata": {},
   "source": [
    "Now we have 13354 rows and 24 columnm"
   ]
  },
  {
   "cell_type": "markdown",
   "metadata": {},
   "source": [
    "## Let split our data"
   ]
  },
  {
   "cell_type": "code",
   "execution_count": 2241,
   "metadata": {},
   "outputs": [],
   "source": [
    "#lets first add temp column splitting\n",
    "pca_x['Temp'] = temp"
   ]
  },
  {
   "cell_type": "code",
   "execution_count": 2242,
   "metadata": {},
   "outputs": [
    {
     "data": {
      "text/html": [
       "<div>\n",
       "<style scoped>\n",
       "    .dataframe tbody tr th:only-of-type {\n",
       "        vertical-align: middle;\n",
       "    }\n",
       "\n",
       "    .dataframe tbody tr th {\n",
       "        vertical-align: top;\n",
       "    }\n",
       "\n",
       "    .dataframe thead th {\n",
       "        text-align: right;\n",
       "    }\n",
       "</style>\n",
       "<table border=\"1\" class=\"dataframe\">\n",
       "  <thead>\n",
       "    <tr style=\"text-align: right;\">\n",
       "      <th></th>\n",
       "      <th>0</th>\n",
       "      <th>1</th>\n",
       "      <th>2</th>\n",
       "      <th>3</th>\n",
       "      <th>4</th>\n",
       "      <th>5</th>\n",
       "      <th>6</th>\n",
       "      <th>7</th>\n",
       "      <th>8</th>\n",
       "      <th>9</th>\n",
       "      <th>...</th>\n",
       "      <th>16</th>\n",
       "      <th>17</th>\n",
       "      <th>18</th>\n",
       "      <th>19</th>\n",
       "      <th>20</th>\n",
       "      <th>21</th>\n",
       "      <th>22</th>\n",
       "      <th>23</th>\n",
       "      <th>24</th>\n",
       "      <th>Temp</th>\n",
       "    </tr>\n",
       "  </thead>\n",
       "  <tbody>\n",
       "    <tr>\n",
       "      <td>0</td>\n",
       "      <td>3.069837</td>\n",
       "      <td>-1.393198</td>\n",
       "      <td>1.989551</td>\n",
       "      <td>-1.027884</td>\n",
       "      <td>-0.115813</td>\n",
       "      <td>-1.454992</td>\n",
       "      <td>3.471313</td>\n",
       "      <td>0.332219</td>\n",
       "      <td>-0.582275</td>\n",
       "      <td>0.351281</td>\n",
       "      <td>...</td>\n",
       "      <td>-1.026260</td>\n",
       "      <td>-0.571641</td>\n",
       "      <td>-0.041381</td>\n",
       "      <td>0.124925</td>\n",
       "      <td>-0.062239</td>\n",
       "      <td>0.471740</td>\n",
       "      <td>-0.969975</td>\n",
       "      <td>0.174560</td>\n",
       "      <td>0.100738</td>\n",
       "      <td>Train</td>\n",
       "    </tr>\n",
       "    <tr>\n",
       "      <td>1</td>\n",
       "      <td>0.447317</td>\n",
       "      <td>1.065369</td>\n",
       "      <td>-2.181283</td>\n",
       "      <td>-1.749724</td>\n",
       "      <td>-0.757693</td>\n",
       "      <td>3.034931</td>\n",
       "      <td>-0.202669</td>\n",
       "      <td>0.215214</td>\n",
       "      <td>-1.116334</td>\n",
       "      <td>1.119299</td>\n",
       "      <td>...</td>\n",
       "      <td>-1.415886</td>\n",
       "      <td>0.304538</td>\n",
       "      <td>0.398646</td>\n",
       "      <td>0.051800</td>\n",
       "      <td>-0.250602</td>\n",
       "      <td>1.305132</td>\n",
       "      <td>0.691473</td>\n",
       "      <td>-1.437770</td>\n",
       "      <td>-0.413398</td>\n",
       "      <td>Train</td>\n",
       "    </tr>\n",
       "    <tr>\n",
       "      <td>2</td>\n",
       "      <td>-2.436083</td>\n",
       "      <td>-1.041157</td>\n",
       "      <td>0.330790</td>\n",
       "      <td>0.571886</td>\n",
       "      <td>-0.280840</td>\n",
       "      <td>1.709190</td>\n",
       "      <td>2.477729</td>\n",
       "      <td>-0.269853</td>\n",
       "      <td>0.138106</td>\n",
       "      <td>0.756604</td>\n",
       "      <td>...</td>\n",
       "      <td>-0.281430</td>\n",
       "      <td>0.286246</td>\n",
       "      <td>0.197440</td>\n",
       "      <td>0.032935</td>\n",
       "      <td>-0.302335</td>\n",
       "      <td>0.267366</td>\n",
       "      <td>0.210657</td>\n",
       "      <td>-0.066861</td>\n",
       "      <td>-0.695223</td>\n",
       "      <td>Train</td>\n",
       "    </tr>\n",
       "    <tr>\n",
       "      <td>3</td>\n",
       "      <td>0.485189</td>\n",
       "      <td>1.824681</td>\n",
       "      <td>-2.032580</td>\n",
       "      <td>-1.853207</td>\n",
       "      <td>-0.417684</td>\n",
       "      <td>-2.284780</td>\n",
       "      <td>-0.014436</td>\n",
       "      <td>-0.786495</td>\n",
       "      <td>0.136329</td>\n",
       "      <td>-1.397291</td>\n",
       "      <td>...</td>\n",
       "      <td>-0.400155</td>\n",
       "      <td>-0.149176</td>\n",
       "      <td>0.035622</td>\n",
       "      <td>-0.195327</td>\n",
       "      <td>0.540371</td>\n",
       "      <td>0.582740</td>\n",
       "      <td>-0.862485</td>\n",
       "      <td>-0.206169</td>\n",
       "      <td>-0.010995</td>\n",
       "      <td>Train</td>\n",
       "    </tr>\n",
       "    <tr>\n",
       "      <td>4</td>\n",
       "      <td>1.463272</td>\n",
       "      <td>-0.756799</td>\n",
       "      <td>1.299027</td>\n",
       "      <td>-2.215330</td>\n",
       "      <td>0.036219</td>\n",
       "      <td>-2.049055</td>\n",
       "      <td>-0.386730</td>\n",
       "      <td>-0.775577</td>\n",
       "      <td>0.145758</td>\n",
       "      <td>0.634452</td>\n",
       "      <td>...</td>\n",
       "      <td>1.101529</td>\n",
       "      <td>-0.352486</td>\n",
       "      <td>0.021549</td>\n",
       "      <td>-0.284418</td>\n",
       "      <td>-0.177782</td>\n",
       "      <td>0.389382</td>\n",
       "      <td>-0.319553</td>\n",
       "      <td>0.963801</td>\n",
       "      <td>0.363737</td>\n",
       "      <td>Train</td>\n",
       "    </tr>\n",
       "  </tbody>\n",
       "</table>\n",
       "<p>5 rows × 26 columns</p>\n",
       "</div>"
      ],
      "text/plain": [
       "          0         1         2         3         4         5         6  \\\n",
       "0  3.069837 -1.393198  1.989551 -1.027884 -0.115813 -1.454992  3.471313   \n",
       "1  0.447317  1.065369 -2.181283 -1.749724 -0.757693  3.034931 -0.202669   \n",
       "2 -2.436083 -1.041157  0.330790  0.571886 -0.280840  1.709190  2.477729   \n",
       "3  0.485189  1.824681 -2.032580 -1.853207 -0.417684 -2.284780 -0.014436   \n",
       "4  1.463272 -0.756799  1.299027 -2.215330  0.036219 -2.049055 -0.386730   \n",
       "\n",
       "          7         8         9  ...        16        17        18        19  \\\n",
       "0  0.332219 -0.582275  0.351281  ... -1.026260 -0.571641 -0.041381  0.124925   \n",
       "1  0.215214 -1.116334  1.119299  ... -1.415886  0.304538  0.398646  0.051800   \n",
       "2 -0.269853  0.138106  0.756604  ... -0.281430  0.286246  0.197440  0.032935   \n",
       "3 -0.786495  0.136329 -1.397291  ... -0.400155 -0.149176  0.035622 -0.195327   \n",
       "4 -0.775577  0.145758  0.634452  ...  1.101529 -0.352486  0.021549 -0.284418   \n",
       "\n",
       "         20        21        22        23        24   Temp  \n",
       "0 -0.062239  0.471740 -0.969975  0.174560  0.100738  Train  \n",
       "1 -0.250602  1.305132  0.691473 -1.437770 -0.413398  Train  \n",
       "2 -0.302335  0.267366  0.210657 -0.066861 -0.695223  Train  \n",
       "3  0.540371  0.582740 -0.862485 -0.206169 -0.010995  Train  \n",
       "4 -0.177782  0.389382 -0.319553  0.963801  0.363737  Train  \n",
       "\n",
       "[5 rows x 26 columns]"
      ]
     },
     "execution_count": 2242,
     "metadata": {},
     "output_type": "execute_result"
    }
   ],
   "source": [
    "pca_x.head()"
   ]
  },
  {
   "cell_type": "code",
   "execution_count": 2243,
   "metadata": {},
   "outputs": [],
   "source": [
    "#Lets get out Original Train and Test Dataset provided in the project\n",
    "X_train_original = pca_x.loc[pca_x[\"Temp\"] == \"Train\"]\n",
    "X_test_original = pca_x.loc[pca_x[\"Temp\"]==\"Test\"]\n",
    "#X_train_original.reset_index(drop =True, inplace=True)\n",
    "#X_test_original.reset_index(drop = True, inplace=True)"
   ]
  },
  {
   "cell_type": "code",
   "execution_count": 2244,
   "metadata": {},
   "outputs": [
    {
     "data": {
      "text/plain": [
       "(10683,)"
      ]
     },
     "execution_count": 2244,
     "metadata": {},
     "output_type": "execute_result"
    }
   ],
   "source": [
    "#lets drop the null values in the Y column\n",
    "Y.dropna(inplace=True)\n",
    "Y.shape"
   ]
  },
  {
   "cell_type": "code",
   "execution_count": 2245,
   "metadata": {},
   "outputs": [
    {
     "data": {
      "text/plain": [
       "(10683, 26)"
      ]
     },
     "execution_count": 2245,
     "metadata": {},
     "output_type": "execute_result"
    }
   ],
   "source": [
    "#Original X_train dataset\n",
    "X_train_original.shape"
   ]
  },
  {
   "cell_type": "code",
   "execution_count": 2246,
   "metadata": {},
   "outputs": [
    {
     "data": {
      "text/plain": [
       "(2671, 26)"
      ]
     },
     "execution_count": 2246,
     "metadata": {},
     "output_type": "execute_result"
    }
   ],
   "source": [
    "#Original X_test dataset\n",
    "X_test_original.shape"
   ]
  },
  {
   "cell_type": "code",
   "execution_count": 2247,
   "metadata": {},
   "outputs": [
    {
     "data": {
      "text/plain": [
       "0"
      ]
     },
     "execution_count": 2247,
     "metadata": {},
     "output_type": "execute_result"
    }
   ],
   "source": [
    "#no null values in this series\n",
    "Y.isnull().sum()"
   ]
  },
  {
   "cell_type": "code",
   "execution_count": 2248,
   "metadata": {},
   "outputs": [],
   "source": [
    "# Original X train column from 0th row to 8422th row\n",
    "X_train_original.drop('Temp',axis = 1,inplace  =True)"
   ]
  },
  {
   "cell_type": "code",
   "execution_count": 2249,
   "metadata": {},
   "outputs": [],
   "source": [
    "# Original X test column from 8523rd row to 14203rd row\n",
    "X_test_original.drop('Temp',axis = 1,inplace  =True)"
   ]
  },
  {
   "cell_type": "code",
   "execution_count": 2250,
   "metadata": {},
   "outputs": [],
   "source": [
    "#lets Ignore thos index now\n",
    "X_train_original.reset_index(drop =True, inplace=True)\n",
    "X_test_original.reset_index(drop = True, inplace=True)"
   ]
  },
  {
   "cell_type": "markdown",
   "metadata": {},
   "source": [
    "## We have provided with X_test data, but Y_test (Label) is not provided"
   ]
  },
  {
   "cell_type": "markdown",
   "metadata": {},
   "source": [
    "So lets use our X_train_original and Y_train_Original  as X and Y for model selection"
   ]
  },
  {
   "cell_type": "markdown",
   "metadata": {},
   "source": [
    "## Best random state"
   ]
  },
  {
   "cell_type": "code",
   "execution_count": 2251,
   "metadata": {},
   "outputs": [
    {
     "name": "stdout",
     "output_type": "stream",
     "text": [
      "Best r2 score is 0.5486174436736405 on random state 19\n"
     ]
    }
   ],
   "source": [
    "max_r2score = 0\n",
    "rand_state = 0\n",
    "for i in range(1,200):\n",
    "    x_train,x_test,y_train,y_test = train_test_split(X_train_original,Y,test_size=.22,random_state= i )\n",
    "    lr = LinearRegression()\n",
    "    lr.fit(x_train,y_train)\n",
    "    pred = lr.predict(x_test)\n",
    "    r2 = r2_score(y_test,pred)\n",
    "    if r2 > max_r2score:\n",
    "        max_r2score = r2\n",
    "        rand_state = i\n",
    "print('Best r2 score is {} on random state {}'.format(max_r2score,rand_state)) "
   ]
  },
  {
   "cell_type": "code",
   "execution_count": 2252,
   "metadata": {},
   "outputs": [
    {
     "name": "stdout",
     "output_type": "stream",
     "text": [
      "We got our best randoms sate as : 19\n"
     ]
    }
   ],
   "source": [
    "print('We got our best randoms sate as :',rand_state)"
   ]
  },
  {
   "cell_type": "code",
   "execution_count": 2253,
   "metadata": {},
   "outputs": [],
   "source": [
    "#Lets split for train and test data\n",
    "x_train,x_test,y_train,y_test = train_test_split(X_train_original,Y,test_size=.22,random_state= rand_state )"
   ]
  },
  {
   "cell_type": "code",
   "execution_count": 2254,
   "metadata": {},
   "outputs": [
    {
     "name": "stdout",
     "output_type": "stream",
     "text": [
      "r2_score of linear refression is : 0.5486174436736405\n",
      "Error :\n",
      "mean absolute error : 5687.997954683439\n",
      "mean squared error :  4954204594.516479\n",
      "root mean squared error : 70386.11080686642\n"
     ]
    }
   ],
   "source": [
    "lrg = LinearRegression()\n",
    "lrg.fit(x_train,y_train)\n",
    "pr =lrg.predict(x_test)\n",
    "print(\"r2_score of linear refression is :\", r2_score(y_test,pr))\n",
    "print('Error :')\n",
    "print('mean absolute error :',mean_absolute_error(y_test,pred))\n",
    "print('mean squared error : ', mean_squared_error(y_test,pred))\n",
    "print('root mean squared error :',np.sqrt(mean_squared_error(y_test,pred)))"
   ]
  },
  {
   "cell_type": "markdown",
   "metadata": {},
   "source": [
    "R2 score is very less for linear regression, lets check out for other models"
   ]
  },
  {
   "cell_type": "markdown",
   "metadata": {},
   "source": [
    "## Model selection :"
   ]
  },
  {
   "cell_type": "code",
   "execution_count": 2255,
   "metadata": {},
   "outputs": [],
   "source": [
    "#lets Choose r2 score of below four Models\n",
    "dtc = DecisionTreeRegressor()\n",
    "knn = KNeighborsRegressor(n_neighbors=5)\n",
    "rf = RandomForestRegressor()\n",
    "ada = AdaBoostRegressor()"
   ]
  },
  {
   "cell_type": "code",
   "execution_count": 2256,
   "metadata": {},
   "outputs": [
    {
     "name": "stdout",
     "output_type": "stream",
     "text": [
      "\n",
      "\n",
      "DecisionTreeRegressor()\n",
      "Scores :\n",
      "r2 score: 0.7290273408775646\n",
      "Cross Val score : 0.7271970996036575\n",
      "Error :\n",
      "mean absolute error : 1316.237202501621\n",
      "mean squared error :  4931408.429859535\n",
      "root mean squared error : 2220.6774709217757\n",
      "Difference :\n",
      "Diffrence between cross val score and r2 score is : 0.00\n",
      "\n",
      "\n",
      "KNeighborsRegressor()\n",
      "Scores :\n",
      "r2 score: 0.778661615139566\n",
      "Cross Val score : 0.7432918681427714\n",
      "Error :\n",
      "mean absolute error : 1258.686771586559\n",
      "mean squared error :  4028118.4843045515\n",
      "root mean squared error : 2007.0173104147736\n",
      "Difference :\n",
      "Diffrence between cross val score and r2 score is : 0.04\n",
      "\n",
      "\n",
      "RandomForestRegressor()\n",
      "Scores :\n",
      "r2 score: 0.7618928268950341\n",
      "Cross Val score : 0.7621950511115181\n",
      "Error :\n",
      "mean absolute error : 1273.8968731767409\n",
      "mean squared error :  4333292.238643545\n",
      "root mean squared error : 2081.6561288175203\n",
      "Difference :\n",
      "Diffrence between cross val score and r2 score is : 0.00\n",
      "\n",
      "\n",
      "AdaBoostRegressor()\n",
      "Scores :\n",
      "r2 score: 0.45403872097725617\n",
      "Cross Val score : 0.47662950363953993\n",
      "Error :\n",
      "mean absolute error : 2583.7896650928333\n",
      "mean squared error :  9935902.98913938\n",
      "root mean squared error : 3152.1267406529482\n",
      "Difference :\n",
      "Diffrence between cross val score and r2 score is : 0.02\n"
     ]
    }
   ],
   "source": [
    "#checking each model with Cross val score\n",
    "model_list = [dtc,knn,rf,ada]\n",
    "least_difference = []\n",
    "for m in model_list:\n",
    "    m.fit(x_train,y_train)\n",
    "    pred = m.predict(x_test)\n",
    "    cvs = cross_val_score(m,X_train_original,Y,cv =5)\n",
    "    print('\\n')\n",
    "    print(m)\n",
    "    print('Scores :')\n",
    "    print('r2 score:',r2_score(y_test,pred))\n",
    "    print('Cross Val score :',cvs.mean())\n",
    "    print('Error :')\n",
    "    print('mean absolute error :',mean_absolute_error(y_test,pred))\n",
    "    print('mean squared error : ', mean_squared_error(y_test,pred))\n",
    "    print('root mean squared error :',np.sqrt(mean_squared_error(y_test,pred)))\n",
    "    print('Difference :')\n",
    "    difference = np.abs(r2_score(y_test,pred) - cvs.mean())\n",
    "    print('Diffrence between cross val score and r2 score is : {0:.2f}'.format(difference))\n",
    "    least_difference.append((m,'Diffrence between cross val score and r2 score error is : {0:.2f}'.format(difference)))"
   ]
  },
  {
   "cell_type": "code",
   "execution_count": 2257,
   "metadata": {},
   "outputs": [
    {
     "data": {
      "text/plain": [
       "[(DecisionTreeRegressor(),\n",
       "  'Diffrence between cross val score and r2 score error is : 0.00'),\n",
       " (KNeighborsRegressor(),\n",
       "  'Diffrence between cross val score and r2 score error is : 0.04'),\n",
       " (RandomForestRegressor(),\n",
       "  'Diffrence between cross val score and r2 score error is : 0.00'),\n",
       " (AdaBoostRegressor(),\n",
       "  'Diffrence between cross val score and r2 score error is : 0.02')]"
      ]
     },
     "execution_count": 2257,
     "metadata": {},
     "output_type": "execute_result"
    }
   ],
   "source": [
    "#lets check the least difference between r2 score and cross val score\n",
    "least_difference"
   ]
  },
  {
   "cell_type": "code",
   "execution_count": 2258,
   "metadata": {},
   "outputs": [],
   "source": [
    "#We see that for Random forest no diffrence between cross val score and r2 score\n",
    "#so lets choose random as our final model\n",
    "#there is no overfitting in this model"
   ]
  },
  {
   "cell_type": "code",
   "execution_count": 2259,
   "metadata": {},
   "outputs": [
    {
     "data": {
      "text/plain": [
       "(RandomForestRegressor(),\n",
       " 'Diffrence between cross val score and r2 score error is : 0.00')"
      ]
     },
     "execution_count": 2259,
     "metadata": {},
     "output_type": "execute_result"
    }
   ],
   "source": [
    "#we can see that there no differnec between cross val score and R2 score for random forest\n",
    "least_difference[2]"
   ]
  },
  {
   "cell_type": "markdown",
   "metadata": {},
   "source": [
    "## Hyperparameter Tuning:"
   ]
  },
  {
   "cell_type": "code",
   "execution_count": 2260,
   "metadata": {},
   "outputs": [],
   "source": [
    "#Random forest and KNN are giving high r2 score, but random forest is having no overfitting"
   ]
  },
  {
   "cell_type": "markdown",
   "metadata": {},
   "source": [
    "### 1. Random forest regressor - hyperparameter tuning"
   ]
  },
  {
   "cell_type": "code",
   "execution_count": 2261,
   "metadata": {},
   "outputs": [],
   "source": [
    "#lets use random forest regressor\n",
    "#it takes a lot lot of time approx 6 hours, so commented after\n",
    "parameters = {'n_estimators' : [100,200,300],'criterion':['mse','mae'],'max_features':['auto','sqrt','log2']}\n",
    "gsvrf = RandomizedSearchCV(rf, parameters, cv=5,scoring=\"r2\")\n",
    "#gsvrf.fit(x_train,y_train)\n",
    "print(gsvrf.best_score_)\n",
    "print(gsvrf.best_params_)"
   ]
  },
  {
   "cell_type": "markdown",
   "metadata": {},
   "source": [
    "we got best paramters for random forest using hyperparameter tuning"
   ]
  },
  {
   "cell_type": "code",
   "execution_count": 2262,
   "metadata": {},
   "outputs": [],
   "source": [
    "best_params_rf = {'n_estimators': 300,\n",
    "                  'max_features' : 'log2',\n",
    "                'criterion': 'mae'}"
   ]
  },
  {
   "cell_type": "code",
   "execution_count": 2263,
   "metadata": {},
   "outputs": [
    {
     "name": "stdout",
     "output_type": "stream",
     "text": [
      "Random Forest regressor\n",
      "\n",
      "\n",
      "Scores :\n",
      "r2 score: 0.7636614271084354\n",
      "Cross Val score : 0.762739566311247\n",
      "Error :\n",
      "mean absolute error : 1205.2732397561322\n",
      "mean squared error :  4301105.633435237\n",
      "root mean squared error : 2073.910710092225\n",
      "Difference :\n",
      "Diffrence between cross val score and r2 score is : 0.00\n"
     ]
    }
   ],
   "source": [
    "#lets create Random forest model using these parameters\n",
    "print('Random Forest regressor')\n",
    "hyper_p_rf = RandomForestRegressor(n_estimators= 300,criterion= 'mae',max_features = 'log2')\n",
    "hyper_p_rf.fit(x_train,y_train)\n",
    "hyper_p_pred_rf = hyper_p_rf.predict(x_test)\n",
    "cvs = cross_val_score(hyper_p_rf,X_train_original,Y,cv =5)\n",
    "print('\\n')\n",
    "print('Scores :')\n",
    "print('r2 score:',r2_score(y_test,hyper_p_pred_rf))\n",
    "print('Cross Val score :',cvs.mean())\n",
    "print('Error :')\n",
    "print('mean absolute error :',mean_absolute_error(y_test,hyper_p_pred_rf))\n",
    "print('mean squared error : ', mean_squared_error(y_test,hyper_p_pred_rf))\n",
    "print('root mean squared error :',np.sqrt(mean_squared_error(y_test,hyper_p_pred_rf)))\n",
    "print('Difference :')\n",
    "difference = np.abs(r2_score(y_test,hyper_p_pred_rf) - cvs.mean())\n",
    "print('Diffrence between cross val score and r2 score is : {0:.2f}'.format(difference))\n",
    "least_difference.append((hyper_p_rf,'Diffrence between cross val score and r2 score is : {0:.2f}'.format(difference)))"
   ]
  },
  {
   "cell_type": "markdown",
   "metadata": {},
   "source": [
    "### 2. KNN regressor - Hyperparameter tuning"
   ]
  },
  {
   "cell_type": "code",
   "execution_count": 2264,
   "metadata": {},
   "outputs": [
    {
     "name": "stdout",
     "output_type": "stream",
     "text": [
      "0.7290224902753526\n",
      "{'weights': 'uniform', 'n_neighbors': 5, 'leaf_size': 27, 'algorithm': 'auto'}\n"
     ]
    }
   ],
   "source": [
    "#lets create the parameter list to pass in Randomised seracgh cv\n",
    "parameters = {'n_neighbors':list(range(5,16,2)),'weights': ['uniform', 'distance'],\n",
    "              'algorithm': ['auto', 'ball_tree', 'kd_tree', 'brute'],'leaf_size':list(range(25,35))}\n",
    "#using randomised search CV\n",
    "gsvkn = RandomizedSearchCV(estimator= knn , param_distributions= parameters,cv =5)\n",
    "gsvkn.fit(x_train,y_train) \n",
    "print(gsvkn.best_score_)\n",
    "print(gsvkn.best_params_)"
   ]
  },
  {
   "cell_type": "code",
   "execution_count": 2265,
   "metadata": {},
   "outputs": [],
   "source": [
    "best_parametrers_knn = {'weights': 'uniform', 'n_neighbors': 5, 'leaf_size': 28, 'algorithm': 'ball_tree'}"
   ]
  },
  {
   "cell_type": "code",
   "execution_count": 2266,
   "metadata": {},
   "outputs": [],
   "source": [
    "#we got our best parameters for knn using the randomized serach cv"
   ]
  },
  {
   "cell_type": "code",
   "execution_count": 2267,
   "metadata": {},
   "outputs": [
    {
     "name": "stdout",
     "output_type": "stream",
     "text": [
      "KNeighborsRegressor\n",
      "\n",
      "\n",
      "Scores :\n",
      "r2 score: 0.7674976981690811\n",
      "Cross Val score : 0.7463253933254925\n",
      "Error :\n",
      "mean absolute error : 1294.665418970651\n",
      "mean squared error :  4231289.661931094\n",
      "root mean squared error : 2057.009883770881\n",
      "Difference :\n",
      "Diffrence between cross val score and r2 score is : 0.02\n"
     ]
    }
   ],
   "source": [
    "#lets create knn model using these parameters\n",
    "print('KNeighborsRegressor')\n",
    "hyper_p_knn = KNeighborsRegressor(n_neighbors= 5 ,weights= 'uniform', leaf_size= 26, algorithm= 'ball_tree')\n",
    "hyper_p_knn.fit(x_train,y_train)\n",
    "hyper_p_pred = hyper_p_knn.predict(x_test)\n",
    "cvs = cross_val_score(hyper_p_knn,X_train_original,Y,cv =5)\n",
    "print('\\n')\n",
    "print('Scores :')\n",
    "print('r2 score:',r2_score(y_test,hyper_p_pred))\n",
    "print('Cross Val score :',cvs.mean())\n",
    "print('Error :')\n",
    "print('mean absolute error :',mean_absolute_error(y_test,hyper_p_pred))\n",
    "print('mean squared error : ', mean_squared_error(y_test,hyper_p_pred))\n",
    "print('root mean squared error :',np.sqrt(mean_squared_error(y_test,hyper_p_pred)))\n",
    "print('Difference :')\n",
    "difference = np.abs(r2_score(y_test,hyper_p_pred) - cvs.mean())\n",
    "print('Diffrence between cross val score and r2 score is : {0:.2f}'.format(difference))\n",
    "least_difference.append((hyper_p_knn,'Diffrence between cross val score and r2 score is : {0:.2f}'.format(difference)))"
   ]
  },
  {
   "cell_type": "code",
   "execution_count": 2268,
   "metadata": {},
   "outputs": [],
   "source": [
    "#lets choose random forest as our model since it having highest r2 score\n",
    "#and also 0 diffrence between r2 score and cross val score"
   ]
  },
  {
   "cell_type": "markdown",
   "metadata": {},
   "source": [
    "## Creating a Final Model as Random Forest Regressor"
   ]
  },
  {
   "cell_type": "code",
   "execution_count": 2269,
   "metadata": {},
   "outputs": [
    {
     "name": "stdout",
     "output_type": "stream",
     "text": [
      "\n",
      "\n",
      "Scores :\n",
      "r2 score: 0.7646488334288887\n",
      "Cross Val score : 0.7629008709778846\n",
      "Error :\n",
      "mean absolute error : 1204.3721607826458\n",
      "mean squared error :  4283135.909596127\n",
      "root mean squared error : 2069.573847340589\n",
      "Difference :\n",
      "Diffrence between cross val score and r2 score is : 0.00\n"
     ]
    }
   ],
   "source": [
    "final_model_rf = RandomForestRegressor(n_estimators= 300,criterion= 'mae',max_features = 'log2')\n",
    "final_model_rf.fit(x_train,y_train)\n",
    "final_pred = final_model_rf.predict(x_test)\n",
    "cvs = cross_val_score(final_model_rf,X_train_original,Y,cv =5)\n",
    "print('\\n')\n",
    "print('Scores :')\n",
    "print('r2 score:',r2_score(y_test,final_pred))\n",
    "print('Cross Val score :',cvs.mean())\n",
    "print('Error :')\n",
    "print('mean absolute error :',mean_absolute_error(y_test,final_pred))\n",
    "print('mean squared error : ', mean_squared_error(y_test,final_pred))\n",
    "print('root mean squared error :',np.sqrt(mean_squared_error(y_test,final_pred)))\n",
    "print('Difference :')\n",
    "difference = np.abs(r2_score(y_test,final_pred) - cvs.mean())\n",
    "print('Diffrence between cross val score and r2 score is : {0:.2f}'.format(difference))\n",
    "least_difference.append((m,'Diffrence between cross val score and r2 score is : {0:.2f}'.format(difference)))"
   ]
  },
  {
   "cell_type": "code",
   "execution_count": 2270,
   "metadata": {},
   "outputs": [],
   "source": [
    "#now our r2 score got incresed 76.66% after hyperparameter tuning\n",
    "#diffrence between cross val score and r2 score is also 0.00\n",
    "#which means no overfitting"
   ]
  },
  {
   "cell_type": "markdown",
   "metadata": {},
   "source": [
    "## Saving the model:"
   ]
  },
  {
   "cell_type": "code",
   "execution_count": 2271,
   "metadata": {},
   "outputs": [
    {
     "data": {
      "text/plain": [
       "['Flight_Price.obj']"
      ]
     },
     "execution_count": 2271,
     "metadata": {},
     "output_type": "execute_result"
    }
   ],
   "source": [
    "#serialization using joblib\n",
    "import joblib\n",
    "joblib.dump(final_model_rf,'Flight_Price.obj')"
   ]
  },
  {
   "cell_type": "code",
   "execution_count": 2272,
   "metadata": {},
   "outputs": [],
   "source": [
    "Flight_Price = joblib.load('Flight_Price.obj')"
   ]
  },
  {
   "cell_type": "code",
   "execution_count": 2273,
   "metadata": {},
   "outputs": [],
   "source": [
    "s_pred = Flight_Price.predict(x_test)"
   ]
  },
  {
   "cell_type": "code",
   "execution_count": 2274,
   "metadata": {},
   "outputs": [
    {
     "data": {
      "text/plain": [
       "0.7646488334288887"
      ]
     },
     "execution_count": 2274,
     "metadata": {},
     "output_type": "execute_result"
    }
   ],
   "source": [
    "r2_score(y_test,s_pred)"
   ]
  },
  {
   "cell_type": "markdown",
   "metadata": {},
   "source": [
    "our r2_score is 76.45% percent"
   ]
  },
  {
   "cell_type": "code",
   "execution_count": 2275,
   "metadata": {},
   "outputs": [
    {
     "data": {
      "image/png": "[encoded data removed]",
      "text/plain": [
       "<Figure size 432x288 with 1 Axes>"
      ]
     },
     "metadata": {
      "needs_background": "light"
     },
     "output_type": "display_data"
    }
   ],
   "source": [
    "#lets plot y_test vs predicted \n",
    "\n",
    "plt.figure(figsize=(6,4))\n",
    "plt.scatter(x = y_test,y = s_pred,color = 'r')\n",
    "plt.plot(y_test,y_test,color = 'b')\n",
    "plt.xlabel('Actual charges')\n",
    "plt.ylabel('Predicted charges')\n",
    "plt.title('Random forest Regressor')\n",
    "plt.show()"
   ]
  },
  {
   "cell_type": "markdown",
   "metadata": {},
   "source": [
    "we can see that values are very close to the line"
   ]
  },
  {
   "cell_type": "markdown",
   "metadata": {},
   "source": [
    "## predicted x_test"
   ]
  },
  {
   "cell_type": "code",
   "execution_count": 2276,
   "metadata": {},
   "outputs": [
    {
     "data": {
      "text/html": [
       "<div>\n",
       "<style scoped>\n",
       "    .dataframe tbody tr th:only-of-type {\n",
       "        vertical-align: middle;\n",
       "    }\n",
       "\n",
       "    .dataframe tbody tr th {\n",
       "        vertical-align: top;\n",
       "    }\n",
       "\n",
       "    .dataframe thead th {\n",
       "        text-align: right;\n",
       "    }\n",
       "</style>\n",
       "<table border=\"1\" class=\"dataframe\">\n",
       "  <thead>\n",
       "    <tr style=\"text-align: right;\">\n",
       "      <th></th>\n",
       "      <th>0</th>\n",
       "      <th>1</th>\n",
       "      <th>2</th>\n",
       "      <th>3</th>\n",
       "      <th>4</th>\n",
       "      <th>5</th>\n",
       "      <th>6</th>\n",
       "      <th>7</th>\n",
       "      <th>8</th>\n",
       "      <th>9</th>\n",
       "      <th>...</th>\n",
       "      <th>2341</th>\n",
       "      <th>2342</th>\n",
       "      <th>2343</th>\n",
       "      <th>2344</th>\n",
       "      <th>2345</th>\n",
       "      <th>2346</th>\n",
       "      <th>2347</th>\n",
       "      <th>2348</th>\n",
       "      <th>2349</th>\n",
       "      <th>2350</th>\n",
       "    </tr>\n",
       "  </thead>\n",
       "  <tbody>\n",
       "    <tr>\n",
       "      <td>Predicted</td>\n",
       "      <td>3882.26</td>\n",
       "      <td>3097.375</td>\n",
       "      <td>13573.191667</td>\n",
       "      <td>8541.083333</td>\n",
       "      <td>9030.701667</td>\n",
       "      <td>10579.368333</td>\n",
       "      <td>4092.011667</td>\n",
       "      <td>6597.375</td>\n",
       "      <td>5513.188333</td>\n",
       "      <td>11726.246667</td>\n",
       "      <td>...</td>\n",
       "      <td>5023.508333</td>\n",
       "      <td>9607.503333</td>\n",
       "      <td>14723.165</td>\n",
       "      <td>7253.016667</td>\n",
       "      <td>9713.601667</td>\n",
       "      <td>14846.563333</td>\n",
       "      <td>14930.751667</td>\n",
       "      <td>10802.496667</td>\n",
       "      <td>9356.265</td>\n",
       "      <td>5668.973333</td>\n",
       "    </tr>\n",
       "    <tr>\n",
       "      <td>Actual</td>\n",
       "      <td>3919.00</td>\n",
       "      <td>3100.000</td>\n",
       "      <td>11467.000000</td>\n",
       "      <td>9134.000000</td>\n",
       "      <td>8452.000000</td>\n",
       "      <td>10262.000000</td>\n",
       "      <td>6297.000000</td>\n",
       "      <td>7580.000</td>\n",
       "      <td>5510.000000</td>\n",
       "      <td>11432.000000</td>\n",
       "      <td>...</td>\n",
       "      <td>4668.000000</td>\n",
       "      <td>8586.000000</td>\n",
       "      <td>14781.000</td>\n",
       "      <td>7229.000000</td>\n",
       "      <td>10112.000000</td>\n",
       "      <td>13817.000000</td>\n",
       "      <td>14714.000000</td>\n",
       "      <td>10844.000000</td>\n",
       "      <td>9663.000</td>\n",
       "      <td>5796.000000</td>\n",
       "    </tr>\n",
       "  </tbody>\n",
       "</table>\n",
       "<p>2 rows × 2351 columns</p>\n",
       "</div>"
      ],
      "text/plain": [
       "              0         1             2            3            4     \\\n",
       "Predicted  3882.26  3097.375  13573.191667  8541.083333  9030.701667   \n",
       "Actual     3919.00  3100.000  11467.000000  9134.000000  8452.000000   \n",
       "\n",
       "                   5            6         7            8             9     \\\n",
       "Predicted  10579.368333  4092.011667  6597.375  5513.188333  11726.246667   \n",
       "Actual     10262.000000  6297.000000  7580.000  5510.000000  11432.000000   \n",
       "\n",
       "           ...         2341         2342       2343         2344  \\\n",
       "Predicted  ...  5023.508333  9607.503333  14723.165  7253.016667   \n",
       "Actual     ...  4668.000000  8586.000000  14781.000  7229.000000   \n",
       "\n",
       "                   2345          2346          2347          2348      2349  \\\n",
       "Predicted   9713.601667  14846.563333  14930.751667  10802.496667  9356.265   \n",
       "Actual     10112.000000  13817.000000  14714.000000  10844.000000  9663.000   \n",
       "\n",
       "                  2350  \n",
       "Predicted  5668.973333  \n",
       "Actual     5796.000000  \n",
       "\n",
       "[2 rows x 2351 columns]"
      ]
     },
     "execution_count": 2276,
     "metadata": {},
     "output_type": "execute_result"
    }
   ],
   "source": [
    "#lets make a dataframe of actual answers vs predicted answers\n",
    "conclusion = pd.DataFrame((Flight_Price.predict(x_test)[:],y_test[:]),index= ['Predicted','Actual'])\n",
    "conclusion"
   ]
  },
  {
   "cell_type": "markdown",
   "metadata": {},
   "source": [
    "77% of Our answers are correct, and the model is also not overfitted"
   ]
  },
  {
   "cell_type": "markdown",
   "metadata": {},
   "source": [
    "# Final Prediction : conclusion"
   ]
  },
  {
   "cell_type": "code",
   "execution_count": 2277,
   "metadata": {},
   "outputs": [],
   "source": [
    "#lets predict the X_test_origanl, we don't have y_test_original values to compare"
   ]
  },
  {
   "cell_type": "code",
   "execution_count": 2278,
   "metadata": {},
   "outputs": [],
   "source": [
    "final_y_predicted = Flight_Price.predict(X_test_original)"
   ]
  },
  {
   "cell_type": "code",
   "execution_count": 2279,
   "metadata": {},
   "outputs": [
    {
     "data": {
      "text/plain": [
       "(2671,)"
      ]
     },
     "execution_count": 2279,
     "metadata": {},
     "output_type": "execute_result"
    }
   ],
   "source": [
    "final_y_predicted.shape"
   ]
  },
  {
   "cell_type": "code",
   "execution_count": 2280,
   "metadata": {},
   "outputs": [
    {
     "data": {
      "text/html": [
       "<div>\n",
       "<style scoped>\n",
       "    .dataframe tbody tr th:only-of-type {\n",
       "        vertical-align: middle;\n",
       "    }\n",
       "\n",
       "    .dataframe tbody tr th {\n",
       "        vertical-align: top;\n",
       "    }\n",
       "\n",
       "    .dataframe thead th {\n",
       "        text-align: right;\n",
       "    }\n",
       "</style>\n",
       "<table border=\"1\" class=\"dataframe\">\n",
       "  <thead>\n",
       "    <tr style=\"text-align: right;\">\n",
       "      <th></th>\n",
       "      <th>FINAL_Y_PREDICTED</th>\n",
       "    </tr>\n",
       "  </thead>\n",
       "  <tbody>\n",
       "    <tr>\n",
       "      <td>0</td>\n",
       "      <td>13975.593333</td>\n",
       "    </tr>\n",
       "    <tr>\n",
       "      <td>1</td>\n",
       "      <td>4226.000000</td>\n",
       "    </tr>\n",
       "    <tr>\n",
       "      <td>2</td>\n",
       "      <td>10468.180000</td>\n",
       "    </tr>\n",
       "    <tr>\n",
       "      <td>3</td>\n",
       "      <td>12789.448333</td>\n",
       "    </tr>\n",
       "    <tr>\n",
       "      <td>4</td>\n",
       "      <td>4254.290000</td>\n",
       "    </tr>\n",
       "    <tr>\n",
       "      <td>...</td>\n",
       "      <td>...</td>\n",
       "    </tr>\n",
       "    <tr>\n",
       "      <td>2666</td>\n",
       "      <td>10216.130000</td>\n",
       "    </tr>\n",
       "    <tr>\n",
       "      <td>2667</td>\n",
       "      <td>5260.108333</td>\n",
       "    </tr>\n",
       "    <tr>\n",
       "      <td>2668</td>\n",
       "      <td>15285.951667</td>\n",
       "    </tr>\n",
       "    <tr>\n",
       "      <td>2669</td>\n",
       "      <td>10342.841667</td>\n",
       "    </tr>\n",
       "    <tr>\n",
       "      <td>2670</td>\n",
       "      <td>7512.243333</td>\n",
       "    </tr>\n",
       "  </tbody>\n",
       "</table>\n",
       "<p>2671 rows × 1 columns</p>\n",
       "</div>"
      ],
      "text/plain": [
       "      FINAL_Y_PREDICTED\n",
       "0          13975.593333\n",
       "1           4226.000000\n",
       "2          10468.180000\n",
       "3          12789.448333\n",
       "4           4254.290000\n",
       "...                 ...\n",
       "2666       10216.130000\n",
       "2667        5260.108333\n",
       "2668       15285.951667\n",
       "2669       10342.841667\n",
       "2670        7512.243333\n",
       "\n",
       "[2671 rows x 1 columns]"
      ]
     },
     "execution_count": 2280,
     "metadata": {},
     "output_type": "execute_result"
    }
   ],
   "source": [
    "#lets create a dataframe of our final prediction\n",
    "FINAL_Y_PREDICTED  = pd.DataFrame(final_y_predicted,columns = ['FINAL_Y_PREDICTED'])\n",
    "FINAL_Y_PREDICTED"
   ]
  },
  {
   "cell_type": "code",
   "execution_count": 2281,
   "metadata": {},
   "outputs": [],
   "source": [
    "#exporting to excel sheet\n",
    "FINAL_Y_PREDICTED.to_excel('FINAL_Y_PREDICTED.xlsx')"
   ]
  },
  {
   "cell_type": "markdown",
   "metadata": {},
   "source": [
    "we have random forest model with 77% r2_score and no overfitting in the model"
   ]
  },
  {
   "cell_type": "code",
   "execution_count": null,
   "metadata": {},
   "outputs": [],
   "source": []
  },
  {
   "cell_type": "code",
   "execution_count": null,
   "metadata": {},
   "outputs": [],
   "source": []
  },
  {
   "cell_type": "code",
   "execution_count": null,
   "metadata": {},
   "outputs": [],
   "source": []
  }
 ],
 "metadata": {
  "kernelspec": {
   "display_name": "Python 3",
   "language": "python",
   "name": "python3"
  },
  "language_info": {
   "codemirror_mode": {
    "name": "ipython",
    "version": 3
   },
   "file_extension": ".py",
   "mimetype": "text/x-python",
   "name": "python",
   "nbconvert_exporter": "python",
   "pygments_lexer": "ipython3",
   "version": "3.7.4"
  }
 },
 "nbformat": 4,
 "nbformat_minor": 2
}
