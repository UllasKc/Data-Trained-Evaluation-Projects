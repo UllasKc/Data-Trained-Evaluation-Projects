{
 "cells": [
  {
   "cell_type": "markdown",
   "metadata": {},
   "source": [
    "# Predict A Doctor's Consultation Fee "
   ]
  },
  {
   "cell_type": "markdown",
   "metadata": {},
   "source": [
    "## Data Set Information:"
   ]
  },
  {
   "cell_type": "markdown",
   "metadata": {},
   "source": [
    "### Problem Statement:"
   ]
  },
  {
   "cell_type": "markdown",
   "metadata": {},
   "source": [
    "We have all been in situation where we go to a doctor in emergency and find that the consultation fees are too high. As a data scientist we all should do better. What if you have data that records important details about a doctor and you get to build a model to predict the doctor’s consulting fee.? This is the use case that let's you do that. \n",
    "\n",
    "Size of training set: 5961 records\n",
    "\n",
    "Size of test set: 1987 records\n",
    "\n",
    "\n",
    "\n",
    "FEATURES:\n",
    "\n",
    "Qualification: Qualification and degrees held by the doctor\n",
    "\n",
    "Experience: Experience of the doctor in number of years\n",
    "\n",
    "Rating: Rating given by patients\n",
    "\n",
    "Profile: Type of the doctor\n",
    "\n",
    "Miscellaneous_Info: Extra information about the doctor\n",
    "\n",
    "Fees: Fees charged by the doctor (Target Variable)\n",
    "\n",
    "Place: Area and the city where the doctor is located."
   ]
  },
  {
   "cell_type": "markdown",
   "metadata": {},
   "source": [
    "## Importing the required libraries:"
   ]
  },
  {
   "cell_type": "code",
   "execution_count": 2313,
   "metadata": {},
   "outputs": [],
   "source": [
    "import pandas as pd\n",
    "import numpy as np\n",
    "import seaborn as sns\n",
    "import matplotlib.pyplot as plt\n",
    "import sklearn\n",
    "from sklearn.model_selection import train_test_split,cross_val_score,GridSearchCV,RandomizedSearchCV\n",
    "from sklearn.ensemble import RandomForestRegressor,AdaBoostRegressor\n",
    "from sklearn.linear_model import LinearRegression,ElasticNet\n",
    "from sklearn.svm import SVR\n",
    "from sklearn.tree import DecisionTreeRegressor\n",
    "from sklearn.neighbors import KNeighborsRegressor\n",
    "from sklearn.metrics import mean_absolute_error,mean_squared_error,r2_score\n",
    "from sklearn.preprocessing import MinMaxScaler,power_transform,LabelEncoder,OrdinalEncoder\n",
    "from scipy.stats import zscore\n",
    "import warnings\n",
    "warnings.filterwarnings('ignore')"
   ]
  },
  {
   "cell_type": "markdown",
   "metadata": {},
   "source": [
    "## Loading the dataset:"
   ]
  },
  {
   "cell_type": "code",
   "execution_count": 2314,
   "metadata": {},
   "outputs": [],
   "source": [
    "#since it is xlsx file , lets use read_excel method\n",
    "import pandas as pd\n",
    "train_dataset = pd.read_excel('Doctor_Final_Train.xlsx')\n",
    "test_dataset = pd.read_excel('Doctor_Final_Test.xlsx')"
   ]
  },
  {
   "cell_type": "code",
   "execution_count": 2315,
   "metadata": {},
   "outputs": [
    {
     "data": {
      "text/html": [
       "<div>\n",
       "<style scoped>\n",
       "    .dataframe tbody tr th:only-of-type {\n",
       "        vertical-align: middle;\n",
       "    }\n",
       "\n",
       "    .dataframe tbody tr th {\n",
       "        vertical-align: top;\n",
       "    }\n",
       "\n",
       "    .dataframe thead th {\n",
       "        text-align: right;\n",
       "    }\n",
       "</style>\n",
       "<table border=\"1\" class=\"dataframe\">\n",
       "  <thead>\n",
       "    <tr style=\"text-align: right;\">\n",
       "      <th></th>\n",
       "      <th>Qualification</th>\n",
       "      <th>Experience</th>\n",
       "      <th>Rating</th>\n",
       "      <th>Place</th>\n",
       "      <th>Profile</th>\n",
       "      <th>Miscellaneous_Info</th>\n",
       "      <th>Fees</th>\n",
       "    </tr>\n",
       "  </thead>\n",
       "  <tbody>\n",
       "    <tr>\n",
       "      <td>0</td>\n",
       "      <td>BHMS, MD - Homeopathy</td>\n",
       "      <td>24 years experience</td>\n",
       "      <td>100%</td>\n",
       "      <td>Kakkanad, Ernakulam</td>\n",
       "      <td>Homeopath</td>\n",
       "      <td>100% 16 Feedback Kakkanad, Ernakulam</td>\n",
       "      <td>100</td>\n",
       "    </tr>\n",
       "    <tr>\n",
       "      <td>1</td>\n",
       "      <td>BAMS, MD - Ayurveda Medicine</td>\n",
       "      <td>12 years experience</td>\n",
       "      <td>98%</td>\n",
       "      <td>Whitefield, Bangalore</td>\n",
       "      <td>Ayurveda</td>\n",
       "      <td>98% 76 Feedback Whitefield, Bangalore</td>\n",
       "      <td>350</td>\n",
       "    </tr>\n",
       "    <tr>\n",
       "      <td>2</td>\n",
       "      <td>MBBS, MS - Otorhinolaryngology</td>\n",
       "      <td>9 years experience</td>\n",
       "      <td>NaN</td>\n",
       "      <td>Mathikere - BEL, Bangalore</td>\n",
       "      <td>ENT Specialist</td>\n",
       "      <td>NaN</td>\n",
       "      <td>300</td>\n",
       "    </tr>\n",
       "    <tr>\n",
       "      <td>3</td>\n",
       "      <td>BSc - Zoology, BAMS</td>\n",
       "      <td>12 years experience</td>\n",
       "      <td>NaN</td>\n",
       "      <td>Bannerghatta Road, Bangalore</td>\n",
       "      <td>Ayurveda</td>\n",
       "      <td>Bannerghatta Road, Bangalore ₹250 Available on...</td>\n",
       "      <td>250</td>\n",
       "    </tr>\n",
       "    <tr>\n",
       "      <td>4</td>\n",
       "      <td>BAMS</td>\n",
       "      <td>20 years experience</td>\n",
       "      <td>100%</td>\n",
       "      <td>Keelkattalai, Chennai</td>\n",
       "      <td>Ayurveda</td>\n",
       "      <td>100% 4 Feedback Keelkattalai, Chennai</td>\n",
       "      <td>250</td>\n",
       "    </tr>\n",
       "  </tbody>\n",
       "</table>\n",
       "</div>"
      ],
      "text/plain": [
       "                    Qualification           Experience Rating  \\\n",
       "0           BHMS, MD - Homeopathy  24 years experience   100%   \n",
       "1    BAMS, MD - Ayurveda Medicine  12 years experience    98%   \n",
       "2  MBBS, MS - Otorhinolaryngology   9 years experience    NaN   \n",
       "3             BSc - Zoology, BAMS  12 years experience    NaN   \n",
       "4                            BAMS  20 years experience   100%   \n",
       "\n",
       "                          Place         Profile  \\\n",
       "0           Kakkanad, Ernakulam       Homeopath   \n",
       "1         Whitefield, Bangalore        Ayurveda   \n",
       "2    Mathikere - BEL, Bangalore  ENT Specialist   \n",
       "3  Bannerghatta Road, Bangalore        Ayurveda   \n",
       "4         Keelkattalai, Chennai        Ayurveda   \n",
       "\n",
       "                                  Miscellaneous_Info  Fees  \n",
       "0               100% 16 Feedback Kakkanad, Ernakulam   100  \n",
       "1              98% 76 Feedback Whitefield, Bangalore   350  \n",
       "2                                                NaN   300  \n",
       "3  Bannerghatta Road, Bangalore ₹250 Available on...   250  \n",
       "4              100% 4 Feedback Keelkattalai, Chennai   250  "
      ]
     },
     "execution_count": 2315,
     "metadata": {},
     "output_type": "execute_result"
    }
   ],
   "source": [
    "#train dataset\n",
    "train_dataset.head()"
   ]
  },
  {
   "cell_type": "code",
   "execution_count": 2316,
   "metadata": {},
   "outputs": [
    {
     "data": {
      "text/html": [
       "<div>\n",
       "<style scoped>\n",
       "    .dataframe tbody tr th:only-of-type {\n",
       "        vertical-align: middle;\n",
       "    }\n",
       "\n",
       "    .dataframe tbody tr th {\n",
       "        vertical-align: top;\n",
       "    }\n",
       "\n",
       "    .dataframe thead th {\n",
       "        text-align: right;\n",
       "    }\n",
       "</style>\n",
       "<table border=\"1\" class=\"dataframe\">\n",
       "  <thead>\n",
       "    <tr style=\"text-align: right;\">\n",
       "      <th></th>\n",
       "      <th>Qualification</th>\n",
       "      <th>Experience</th>\n",
       "      <th>Rating</th>\n",
       "      <th>Place</th>\n",
       "      <th>Profile</th>\n",
       "      <th>Miscellaneous_Info</th>\n",
       "    </tr>\n",
       "  </thead>\n",
       "  <tbody>\n",
       "    <tr>\n",
       "      <td>0</td>\n",
       "      <td>MBBS</td>\n",
       "      <td>35 years experience</td>\n",
       "      <td>NaN</td>\n",
       "      <td>Ghatkopar East, Mumbai</td>\n",
       "      <td>General Medicine</td>\n",
       "      <td>NaN</td>\n",
       "    </tr>\n",
       "    <tr>\n",
       "      <td>1</td>\n",
       "      <td>MBBS, Diploma in Otorhinolaryngology (DLO)</td>\n",
       "      <td>31 years experience</td>\n",
       "      <td>NaN</td>\n",
       "      <td>West Marredpally, Hyderabad</td>\n",
       "      <td>ENT Specialist</td>\n",
       "      <td>NaN</td>\n",
       "    </tr>\n",
       "    <tr>\n",
       "      <td>2</td>\n",
       "      <td>MBBS, DDVL</td>\n",
       "      <td>40 years experience</td>\n",
       "      <td>70%</td>\n",
       "      <td>KK Nagar, Chennai</td>\n",
       "      <td>Dermatologists</td>\n",
       "      <td>70% 4 Feedback KK Nagar, Chennai</td>\n",
       "    </tr>\n",
       "    <tr>\n",
       "      <td>3</td>\n",
       "      <td>BAMS</td>\n",
       "      <td>0 years experience</td>\n",
       "      <td>NaN</td>\n",
       "      <td>New Ashok Nagar, Delhi</td>\n",
       "      <td>Ayurveda</td>\n",
       "      <td>NaN</td>\n",
       "    </tr>\n",
       "    <tr>\n",
       "      <td>4</td>\n",
       "      <td>BDS, MDS - Conservative Dentistry &amp; Endodontics</td>\n",
       "      <td>16 years experience</td>\n",
       "      <td>100%</td>\n",
       "      <td>Kanakpura Road, Bangalore</td>\n",
       "      <td>Dentist</td>\n",
       "      <td>General Dentistry Conservative Dentistry Cosme...</td>\n",
       "    </tr>\n",
       "  </tbody>\n",
       "</table>\n",
       "</div>"
      ],
      "text/plain": [
       "                                     Qualification           Experience  \\\n",
       "0                                             MBBS  35 years experience   \n",
       "1       MBBS, Diploma in Otorhinolaryngology (DLO)  31 years experience   \n",
       "2                                       MBBS, DDVL  40 years experience   \n",
       "3                                             BAMS   0 years experience   \n",
       "4  BDS, MDS - Conservative Dentistry & Endodontics  16 years experience   \n",
       "\n",
       "  Rating                        Place           Profile  \\\n",
       "0    NaN       Ghatkopar East, Mumbai  General Medicine   \n",
       "1    NaN  West Marredpally, Hyderabad    ENT Specialist   \n",
       "2    70%            KK Nagar, Chennai    Dermatologists   \n",
       "3    NaN       New Ashok Nagar, Delhi          Ayurveda   \n",
       "4   100%    Kanakpura Road, Bangalore           Dentist   \n",
       "\n",
       "                                  Miscellaneous_Info  \n",
       "0                                                NaN  \n",
       "1                                                NaN  \n",
       "2                   70% 4 Feedback KK Nagar, Chennai  \n",
       "3                                                NaN  \n",
       "4  General Dentistry Conservative Dentistry Cosme...  "
      ]
     },
     "execution_count": 2316,
     "metadata": {},
     "output_type": "execute_result"
    }
   ],
   "source": [
    "#test dataset\n",
    "test_dataset.head()"
   ]
  },
  {
   "cell_type": "code",
   "execution_count": 2317,
   "metadata": {},
   "outputs": [
    {
     "data": {
      "text/plain": [
       "(5961, 7)"
      ]
     },
     "execution_count": 2317,
     "metadata": {},
     "output_type": "execute_result"
    }
   ],
   "source": [
    "train_dataset.shape"
   ]
  },
  {
   "cell_type": "markdown",
   "metadata": {},
   "source": [
    "In train dataset we have 7 columns including Target Variable"
   ]
  },
  {
   "cell_type": "code",
   "execution_count": 2318,
   "metadata": {},
   "outputs": [
    {
     "data": {
      "text/plain": [
       "(1987, 6)"
      ]
     },
     "execution_count": 2318,
     "metadata": {},
     "output_type": "execute_result"
    }
   ],
   "source": [
    "test_dataset.shape"
   ]
  },
  {
   "cell_type": "markdown",
   "metadata": {},
   "source": [
    "In train dataset we have 6 columns excluding Target Variable"
   ]
  },
  {
   "cell_type": "markdown",
   "metadata": {},
   "source": [
    "### Lets combine these datasets for EDA and data preprocessing"
   ]
  },
  {
   "cell_type": "code",
   "execution_count": 2319,
   "metadata": {},
   "outputs": [
    {
     "data": {
      "text/html": [
       "<div>\n",
       "<style scoped>\n",
       "    .dataframe tbody tr th:only-of-type {\n",
       "        vertical-align: middle;\n",
       "    }\n",
       "\n",
       "    .dataframe tbody tr th {\n",
       "        vertical-align: top;\n",
       "    }\n",
       "\n",
       "    .dataframe thead th {\n",
       "        text-align: right;\n",
       "    }\n",
       "</style>\n",
       "<table border=\"1\" class=\"dataframe\">\n",
       "  <thead>\n",
       "    <tr style=\"text-align: right;\">\n",
       "      <th></th>\n",
       "      <th>Experience</th>\n",
       "      <th>Fees</th>\n",
       "      <th>Miscellaneous_Info</th>\n",
       "      <th>Place</th>\n",
       "      <th>Profile</th>\n",
       "      <th>Qualification</th>\n",
       "      <th>Rating</th>\n",
       "      <th>Temp</th>\n",
       "    </tr>\n",
       "  </thead>\n",
       "  <tbody>\n",
       "    <tr>\n",
       "      <td>0</td>\n",
       "      <td>24 years experience</td>\n",
       "      <td>100.0</td>\n",
       "      <td>100% 16 Feedback Kakkanad, Ernakulam</td>\n",
       "      <td>Kakkanad, Ernakulam</td>\n",
       "      <td>Homeopath</td>\n",
       "      <td>BHMS, MD - Homeopathy</td>\n",
       "      <td>100%</td>\n",
       "      <td>Train</td>\n",
       "    </tr>\n",
       "    <tr>\n",
       "      <td>1</td>\n",
       "      <td>12 years experience</td>\n",
       "      <td>350.0</td>\n",
       "      <td>98% 76 Feedback Whitefield, Bangalore</td>\n",
       "      <td>Whitefield, Bangalore</td>\n",
       "      <td>Ayurveda</td>\n",
       "      <td>BAMS, MD - Ayurveda Medicine</td>\n",
       "      <td>98%</td>\n",
       "      <td>Train</td>\n",
       "    </tr>\n",
       "    <tr>\n",
       "      <td>2</td>\n",
       "      <td>9 years experience</td>\n",
       "      <td>300.0</td>\n",
       "      <td>NaN</td>\n",
       "      <td>Mathikere - BEL, Bangalore</td>\n",
       "      <td>ENT Specialist</td>\n",
       "      <td>MBBS, MS - Otorhinolaryngology</td>\n",
       "      <td>NaN</td>\n",
       "      <td>Train</td>\n",
       "    </tr>\n",
       "    <tr>\n",
       "      <td>3</td>\n",
       "      <td>12 years experience</td>\n",
       "      <td>250.0</td>\n",
       "      <td>Bannerghatta Road, Bangalore ₹250 Available on...</td>\n",
       "      <td>Bannerghatta Road, Bangalore</td>\n",
       "      <td>Ayurveda</td>\n",
       "      <td>BSc - Zoology, BAMS</td>\n",
       "      <td>NaN</td>\n",
       "      <td>Train</td>\n",
       "    </tr>\n",
       "    <tr>\n",
       "      <td>4</td>\n",
       "      <td>20 years experience</td>\n",
       "      <td>250.0</td>\n",
       "      <td>100% 4 Feedback Keelkattalai, Chennai</td>\n",
       "      <td>Keelkattalai, Chennai</td>\n",
       "      <td>Ayurveda</td>\n",
       "      <td>BAMS</td>\n",
       "      <td>100%</td>\n",
       "      <td>Train</td>\n",
       "    </tr>\n",
       "    <tr>\n",
       "      <td>...</td>\n",
       "      <td>...</td>\n",
       "      <td>...</td>\n",
       "      <td>...</td>\n",
       "      <td>...</td>\n",
       "      <td>...</td>\n",
       "      <td>...</td>\n",
       "      <td>...</td>\n",
       "      <td>...</td>\n",
       "    </tr>\n",
       "    <tr>\n",
       "      <td>7943</td>\n",
       "      <td>10 years experience</td>\n",
       "      <td>NaN</td>\n",
       "      <td>NaN</td>\n",
       "      <td>Basavanagudi, Bangalore</td>\n",
       "      <td>Ayurveda</td>\n",
       "      <td>BAMS, Doctor of Medicine</td>\n",
       "      <td>NaN</td>\n",
       "      <td>Test</td>\n",
       "    </tr>\n",
       "    <tr>\n",
       "      <td>7944</td>\n",
       "      <td>4 years experience</td>\n",
       "      <td>NaN</td>\n",
       "      <td>NaN</td>\n",
       "      <td>Choolai, Chennai</td>\n",
       "      <td>Dermatologists</td>\n",
       "      <td>MD - Dermatology , Venereology &amp; Leprosy, MBBS</td>\n",
       "      <td>NaN</td>\n",
       "      <td>Test</td>\n",
       "    </tr>\n",
       "    <tr>\n",
       "      <td>7945</td>\n",
       "      <td>9 years experience</td>\n",
       "      <td>NaN</td>\n",
       "      <td>NaN</td>\n",
       "      <td>Porur, Chennai</td>\n",
       "      <td>General Medicine</td>\n",
       "      <td>MBBS, MD / MS - Obstetrics &amp; Gynaecology</td>\n",
       "      <td>NaN</td>\n",
       "      <td>Test</td>\n",
       "    </tr>\n",
       "    <tr>\n",
       "      <td>7946</td>\n",
       "      <td>12 years experience</td>\n",
       "      <td>NaN</td>\n",
       "      <td>RCT - Root Canal Treatment Root Canal Treatmen...</td>\n",
       "      <td>Arekere, Bangalore</td>\n",
       "      <td>Dentist</td>\n",
       "      <td>BDS</td>\n",
       "      <td>98%</td>\n",
       "      <td>Test</td>\n",
       "    </tr>\n",
       "    <tr>\n",
       "      <td>7947</td>\n",
       "      <td>8 years experience</td>\n",
       "      <td>NaN</td>\n",
       "      <td>1 Feedback Pallikaranai, Chennai ₹500</td>\n",
       "      <td>Pallikaranai, Chennai</td>\n",
       "      <td>Dermatologists</td>\n",
       "      <td>MBBS, MD - Dermatology , Venereology &amp; Leprosy</td>\n",
       "      <td>NaN</td>\n",
       "      <td>Test</td>\n",
       "    </tr>\n",
       "  </tbody>\n",
       "</table>\n",
       "<p>7948 rows × 8 columns</p>\n",
       "</div>"
      ],
      "text/plain": [
       "               Experience   Fees  \\\n",
       "0     24 years experience  100.0   \n",
       "1     12 years experience  350.0   \n",
       "2      9 years experience  300.0   \n",
       "3     12 years experience  250.0   \n",
       "4     20 years experience  250.0   \n",
       "...                   ...    ...   \n",
       "7943  10 years experience    NaN   \n",
       "7944   4 years experience    NaN   \n",
       "7945   9 years experience    NaN   \n",
       "7946  12 years experience    NaN   \n",
       "7947   8 years experience    NaN   \n",
       "\n",
       "                                     Miscellaneous_Info  \\\n",
       "0                  100% 16 Feedback Kakkanad, Ernakulam   \n",
       "1                 98% 76 Feedback Whitefield, Bangalore   \n",
       "2                                                   NaN   \n",
       "3     Bannerghatta Road, Bangalore ₹250 Available on...   \n",
       "4                 100% 4 Feedback Keelkattalai, Chennai   \n",
       "...                                                 ...   \n",
       "7943                                                NaN   \n",
       "7944                                                NaN   \n",
       "7945                                                NaN   \n",
       "7946  RCT - Root Canal Treatment Root Canal Treatmen...   \n",
       "7947              1 Feedback Pallikaranai, Chennai ₹500   \n",
       "\n",
       "                             Place           Profile  \\\n",
       "0              Kakkanad, Ernakulam         Homeopath   \n",
       "1            Whitefield, Bangalore          Ayurveda   \n",
       "2       Mathikere - BEL, Bangalore    ENT Specialist   \n",
       "3     Bannerghatta Road, Bangalore          Ayurveda   \n",
       "4            Keelkattalai, Chennai          Ayurveda   \n",
       "...                            ...               ...   \n",
       "7943       Basavanagudi, Bangalore          Ayurveda   \n",
       "7944              Choolai, Chennai    Dermatologists   \n",
       "7945                Porur, Chennai  General Medicine   \n",
       "7946            Arekere, Bangalore           Dentist   \n",
       "7947         Pallikaranai, Chennai    Dermatologists   \n",
       "\n",
       "                                       Qualification Rating   Temp  \n",
       "0                              BHMS, MD - Homeopathy   100%  Train  \n",
       "1                       BAMS, MD - Ayurveda Medicine    98%  Train  \n",
       "2                     MBBS, MS - Otorhinolaryngology    NaN  Train  \n",
       "3                                BSc - Zoology, BAMS    NaN  Train  \n",
       "4                                               BAMS   100%  Train  \n",
       "...                                              ...    ...    ...  \n",
       "7943                        BAMS, Doctor of Medicine    NaN   Test  \n",
       "7944  MD - Dermatology , Venereology & Leprosy, MBBS    NaN   Test  \n",
       "7945        MBBS, MD / MS - Obstetrics & Gynaecology    NaN   Test  \n",
       "7946                                             BDS    98%   Test  \n",
       "7947  MBBS, MD - Dermatology , Venereology & Leprosy    NaN   Test  \n",
       "\n",
       "[7948 rows x 8 columns]"
      ]
     },
     "execution_count": 2319,
     "metadata": {},
     "output_type": "execute_result"
    }
   ],
   "source": [
    "#lets make temperory column called temp which will show train and test dataset in future.\n",
    "train_dataset['Temp']=\"Train\"\n",
    "test_dataset['Temp']=\"Test\"\n",
    "df = pd.concat([train_dataset,test_dataset],ignore_index=True)\n",
    "df"
   ]
  },
  {
   "cell_type": "markdown",
   "metadata": {},
   "source": [
    "Both the datasets are now combined"
   ]
  },
  {
   "cell_type": "markdown",
   "metadata": {},
   "source": [
    "## EDA (Exploratory Data Analysis)"
   ]
  },
  {
   "cell_type": "code",
   "execution_count": 2320,
   "metadata": {},
   "outputs": [
    {
     "data": {
      "text/plain": [
       "(7948, 8)"
      ]
     },
     "execution_count": 2320,
     "metadata": {},
     "output_type": "execute_result"
    }
   ],
   "source": [
    "df.shape"
   ]
  },
  {
   "cell_type": "markdown",
   "metadata": {},
   "source": [
    "Now there are 7948 rows and 8 columns"
   ]
  },
  {
   "cell_type": "code",
   "execution_count": 2321,
   "metadata": {},
   "outputs": [
    {
     "data": {
      "text/plain": [
       "Index(['Experience', 'Fees', 'Miscellaneous_Info', 'Place', 'Profile',\n",
       "       'Qualification', 'Rating', 'Temp'],\n",
       "      dtype='object')"
      ]
     },
     "execution_count": 2321,
     "metadata": {},
     "output_type": "execute_result"
    }
   ],
   "source": [
    "df.columns"
   ]
  },
  {
   "cell_type": "code",
   "execution_count": 2322,
   "metadata": {},
   "outputs": [
    {
     "data": {
      "text/plain": [
       "Experience             object\n",
       "Fees                  float64\n",
       "Miscellaneous_Info     object\n",
       "Place                  object\n",
       "Profile                object\n",
       "Qualification          object\n",
       "Rating                 object\n",
       "Temp                   object\n",
       "dtype: object"
      ]
     },
     "execution_count": 2322,
     "metadata": {},
     "output_type": "execute_result"
    }
   ],
   "source": [
    "df.dtypes"
   ]
  },
  {
   "cell_type": "markdown",
   "metadata": {},
   "source": [
    "All the columns are object datatype except fee column"
   ]
  },
  {
   "cell_type": "code",
   "execution_count": 2323,
   "metadata": {},
   "outputs": [
    {
     "data": {
      "text/plain": [
       "Experience               0\n",
       "Fees                  1987\n",
       "Miscellaneous_Info    3454\n",
       "Place                   31\n",
       "Profile                  0\n",
       "Qualification            0\n",
       "Rating                4392\n",
       "Temp                     0\n",
       "dtype: int64"
      ]
     },
     "execution_count": 2323,
     "metadata": {},
     "output_type": "execute_result"
    }
   ],
   "source": [
    "df.isnull().sum()"
   ]
  },
  {
   "cell_type": "raw",
   "metadata": {},
   "source": [
    "These are columns with null values:\n",
    "    \n",
    "Fees                  1987\n",
    "Miscellaneous_Info    3454\n",
    "Place                   31\n",
    "Rating                4392"
   ]
  },
  {
   "cell_type": "markdown",
   "metadata": {},
   "source": [
    "# Feature Engineering and Data preprocessing"
   ]
  },
  {
   "cell_type": "markdown",
   "metadata": {},
   "source": [
    "## Lets check all columns one bye one (There are six columns in this dataset excluing fee)"
   ]
  },
  {
   "cell_type": "markdown",
   "metadata": {},
   "source": [
    "### 1.Experience Column   "
   ]
  },
  {
   "cell_type": "code",
   "execution_count": 2324,
   "metadata": {},
   "outputs": [
    {
     "data": {
      "text/plain": [
       "0    24 years experience\n",
       "1    12 years experience\n",
       "2     9 years experience\n",
       "3    12 years experience\n",
       "4    20 years experience\n",
       "Name: Experience, dtype: object"
      ]
     },
     "execution_count": 2324,
     "metadata": {},
     "output_type": "execute_result"
    }
   ],
   "source": [
    "#Lets begin with experience columns by extracting useful information\n",
    "df.Experience.head()"
   ]
  },
  {
   "cell_type": "code",
   "execution_count": 2325,
   "metadata": {},
   "outputs": [],
   "source": [
    "#lets extract the numberical values from this column\n",
    "df['Exp'] = df['Experience'].str.replace(\"years experience\", \"\")"
   ]
  },
  {
   "cell_type": "code",
   "execution_count": 2326,
   "metadata": {},
   "outputs": [
    {
     "data": {
      "text/html": [
       "<div>\n",
       "<style scoped>\n",
       "    .dataframe tbody tr th:only-of-type {\n",
       "        vertical-align: middle;\n",
       "    }\n",
       "\n",
       "    .dataframe tbody tr th {\n",
       "        vertical-align: top;\n",
       "    }\n",
       "\n",
       "    .dataframe thead th {\n",
       "        text-align: right;\n",
       "    }\n",
       "</style>\n",
       "<table border=\"1\" class=\"dataframe\">\n",
       "  <thead>\n",
       "    <tr style=\"text-align: right;\">\n",
       "      <th></th>\n",
       "      <th>Fees</th>\n",
       "      <th>Miscellaneous_Info</th>\n",
       "      <th>Place</th>\n",
       "      <th>Profile</th>\n",
       "      <th>Qualification</th>\n",
       "      <th>Rating</th>\n",
       "      <th>Temp</th>\n",
       "      <th>Exp</th>\n",
       "    </tr>\n",
       "  </thead>\n",
       "  <tbody>\n",
       "    <tr>\n",
       "      <td>0</td>\n",
       "      <td>100.0</td>\n",
       "      <td>100% 16 Feedback Kakkanad, Ernakulam</td>\n",
       "      <td>Kakkanad, Ernakulam</td>\n",
       "      <td>Homeopath</td>\n",
       "      <td>BHMS, MD - Homeopathy</td>\n",
       "      <td>100%</td>\n",
       "      <td>Train</td>\n",
       "      <td>24</td>\n",
       "    </tr>\n",
       "    <tr>\n",
       "      <td>1</td>\n",
       "      <td>350.0</td>\n",
       "      <td>98% 76 Feedback Whitefield, Bangalore</td>\n",
       "      <td>Whitefield, Bangalore</td>\n",
       "      <td>Ayurveda</td>\n",
       "      <td>BAMS, MD - Ayurveda Medicine</td>\n",
       "      <td>98%</td>\n",
       "      <td>Train</td>\n",
       "      <td>12</td>\n",
       "    </tr>\n",
       "    <tr>\n",
       "      <td>2</td>\n",
       "      <td>300.0</td>\n",
       "      <td>NaN</td>\n",
       "      <td>Mathikere - BEL, Bangalore</td>\n",
       "      <td>ENT Specialist</td>\n",
       "      <td>MBBS, MS - Otorhinolaryngology</td>\n",
       "      <td>NaN</td>\n",
       "      <td>Train</td>\n",
       "      <td>9</td>\n",
       "    </tr>\n",
       "    <tr>\n",
       "      <td>3</td>\n",
       "      <td>250.0</td>\n",
       "      <td>Bannerghatta Road, Bangalore ₹250 Available on...</td>\n",
       "      <td>Bannerghatta Road, Bangalore</td>\n",
       "      <td>Ayurveda</td>\n",
       "      <td>BSc - Zoology, BAMS</td>\n",
       "      <td>NaN</td>\n",
       "      <td>Train</td>\n",
       "      <td>12</td>\n",
       "    </tr>\n",
       "    <tr>\n",
       "      <td>4</td>\n",
       "      <td>250.0</td>\n",
       "      <td>100% 4 Feedback Keelkattalai, Chennai</td>\n",
       "      <td>Keelkattalai, Chennai</td>\n",
       "      <td>Ayurveda</td>\n",
       "      <td>BAMS</td>\n",
       "      <td>100%</td>\n",
       "      <td>Train</td>\n",
       "      <td>20</td>\n",
       "    </tr>\n",
       "  </tbody>\n",
       "</table>\n",
       "</div>"
      ],
      "text/plain": [
       "    Fees                                 Miscellaneous_Info  \\\n",
       "0  100.0               100% 16 Feedback Kakkanad, Ernakulam   \n",
       "1  350.0              98% 76 Feedback Whitefield, Bangalore   \n",
       "2  300.0                                                NaN   \n",
       "3  250.0  Bannerghatta Road, Bangalore ₹250 Available on...   \n",
       "4  250.0              100% 4 Feedback Keelkattalai, Chennai   \n",
       "\n",
       "                          Place         Profile  \\\n",
       "0           Kakkanad, Ernakulam       Homeopath   \n",
       "1         Whitefield, Bangalore        Ayurveda   \n",
       "2    Mathikere - BEL, Bangalore  ENT Specialist   \n",
       "3  Bannerghatta Road, Bangalore        Ayurveda   \n",
       "4         Keelkattalai, Chennai        Ayurveda   \n",
       "\n",
       "                    Qualification Rating   Temp  Exp  \n",
       "0           BHMS, MD - Homeopathy   100%  Train  24   \n",
       "1    BAMS, MD - Ayurveda Medicine    98%  Train  12   \n",
       "2  MBBS, MS - Otorhinolaryngology    NaN  Train   9   \n",
       "3             BSc - Zoology, BAMS    NaN  Train  12   \n",
       "4                            BAMS   100%  Train  20   "
      ]
     },
     "execution_count": 2326,
     "metadata": {},
     "output_type": "execute_result"
    }
   ],
   "source": [
    "#Now lets drop experience column, as we have already extracted useful data from it\n",
    "df.drop(['Experience'],axis = 1, inplace = True)\n",
    "df.head()"
   ]
  },
  {
   "cell_type": "code",
   "execution_count": 2327,
   "metadata": {},
   "outputs": [],
   "source": [
    "#now lets convert Experience column from Object to float\n",
    "df['Exp'] = df['Exp'].astype(float)"
   ]
  },
  {
   "cell_type": "code",
   "execution_count": 2328,
   "metadata": {},
   "outputs": [
    {
     "data": {
      "text/plain": [
       "0.0"
      ]
     },
     "execution_count": 2328,
     "metadata": {},
     "output_type": "execute_result"
    }
   ],
   "source": [
    "#min value\n",
    "df['Exp'].min()"
   ]
  },
  {
   "cell_type": "code",
   "execution_count": 2329,
   "metadata": {},
   "outputs": [
    {
     "data": {
      "text/plain": [
       "66.0"
      ]
     },
     "execution_count": 2329,
     "metadata": {},
     "output_type": "execute_result"
    }
   ],
   "source": [
    "#max value\n",
    "df['Exp'].max()"
   ]
  },
  {
   "cell_type": "code",
   "execution_count": 2330,
   "metadata": {},
   "outputs": [
    {
     "data": {
      "text/plain": [
       "<matplotlib.axes._subplots.AxesSubplot at 0x18a8fd7f6c8>"
      ]
     },
     "execution_count": 2330,
     "metadata": {},
     "output_type": "execute_result"
    },
    {
     "data": {
      "image/png": "[encoded data removed]",
      "text/plain": [
       "<Figure size 432x288 with 1 Axes>"
      ]
     },
     "metadata": {
      "needs_background": "light"
     },
     "output_type": "display_data"
    }
   ],
   "source": [
    "#Lets check for outliers in this column\n",
    "sns.boxplot('Exp',data = df)"
   ]
  },
  {
   "cell_type": "markdown",
   "metadata": {},
   "source": [
    "We cam see there are may outliers present in this column"
   ]
  },
  {
   "cell_type": "code",
   "execution_count": 2331,
   "metadata": {},
   "outputs": [
    {
     "data": {
      "text/plain": [
       "<matplotlib.axes._subplots.AxesSubplot at 0x18a900fd508>"
      ]
     },
     "execution_count": 2331,
     "metadata": {},
     "output_type": "execute_result"
    },
    {
     "data": {
      "image/png": "[encoded data removed]",
      "text/plain": [
       "<Figure size 432x288 with 1 Axes>"
      ]
     },
     "metadata": {
      "needs_background": "light"
     },
     "output_type": "display_data"
    }
   ],
   "source": [
    "#Lets check for distribution of this column\n",
    "sns.distplot(df['Exp'])"
   ]
  },
  {
   "cell_type": "markdown",
   "metadata": {},
   "source": [
    "We can data almost normal distribued , slightly right skewed"
   ]
  },
  {
   "cell_type": "code",
   "execution_count": 2332,
   "metadata": {},
   "outputs": [],
   "source": [
    "z_exp = np.abs(zscore(df['Exp']))"
   ]
  },
  {
   "cell_type": "code",
   "execution_count": 2333,
   "metadata": {},
   "outputs": [
    {
     "data": {
      "text/plain": [
       "(array([ 105,  110,  183,  325,  372, 1009, 1860, 2023, 2062, 2262, 2281,\n",
       "        2631, 3180, 3493, 3608, 3960, 4212, 4344, 4775, 5265, 5277, 5410,\n",
       "        5422, 5587, 5637, 5720, 5807, 6065, 6219, 6225, 6359, 6578, 6602,\n",
       "        6953, 7207, 7245, 7258, 7298], dtype=int64),)"
      ]
     },
     "execution_count": 2333,
     "metadata": {},
     "output_type": "execute_result"
    }
   ],
   "source": [
    "outliers = np.where(z_exp > 3)\n",
    "outliers"
   ]
  },
  {
   "cell_type": "code",
   "execution_count": 2334,
   "metadata": {},
   "outputs": [],
   "source": [
    "#Function of outlier Removal when data is not normal distributed or Right skewed\n",
    "def outliers_IQR3(data_frame,feature_name):\n",
    "    IQR  =data_frame[feature_name].quantile(0.75)-data_frame[feature_name].quantile(0.25)\n",
    "    lower_boundary = data_frame[feature_name].quantile(0.25) - (IQR * 1.5)\n",
    "    upper_boundary = data_frame[feature_name].quantile(0.75) + (IQR * 1.5)\n",
    "    df.loc[df[feature_name] >= upper_boundary,feature_name]= upper_boundary\n",
    "    df.loc[df[feature_name] <= lower_boundary,feature_name]= lower_boundary"
   ]
  },
  {
   "cell_type": "code",
   "execution_count": 2335,
   "metadata": {},
   "outputs": [],
   "source": [
    "##Function of outlier Removal when data looks like normal distributed.\n",
    "def outliers_normally(data_frame,feature_name):\n",
    "    lower_boundary = data_frame[feature_name].mean() - 3*data_frame[feature_name].std()\n",
    "    upper_boundary = data_frame[feature_name].mean() + 3*data_frame[feature_name].std()\n",
    "    df.loc[df[feature_name] >= upper_boundary,feature_name]= upper_boundary\n",
    "    df.loc[df[feature_name] <= lower_boundary,feature_name]= lower_boundary"
   ]
  },
  {
   "cell_type": "code",
   "execution_count": 2336,
   "metadata": {},
   "outputs": [],
   "source": [
    "#lets remove outliers in this columm\n",
    "outliers_IQR3(df,'Exp')"
   ]
  },
  {
   "cell_type": "code",
   "execution_count": 2337,
   "metadata": {},
   "outputs": [
    {
     "data": {
      "text/plain": [
       "<matplotlib.axes._subplots.AxesSubplot at 0x18a90100188>"
      ]
     },
     "execution_count": 2337,
     "metadata": {},
     "output_type": "execute_result"
    },
    {
     "data": {
      "image/png": "[encoded data removed]",
      "text/plain": [
       "<Figure size 432x288 with 1 Axes>"
      ]
     },
     "metadata": {
      "needs_background": "light"
     },
     "output_type": "display_data"
    }
   ],
   "source": [
    "#Lets check for outliers in this column\n",
    "sns.boxplot('Exp',data = df)"
   ]
  },
  {
   "cell_type": "markdown",
   "metadata": {},
   "source": [
    "Outliers have been completely removed"
   ]
  },
  {
   "cell_type": "code",
   "execution_count": 2338,
   "metadata": {},
   "outputs": [
    {
     "data": {
      "text/plain": [
       "<matplotlib.axes._subplots.AxesSubplot at 0x18a8e3acf88>"
      ]
     },
     "execution_count": 2338,
     "metadata": {},
     "output_type": "execute_result"
    },
    {
     "data": {
      "image/png": "[encoded data removed]",
      "text/plain": [
       "<Figure size 432x288 with 1 Axes>"
      ]
     },
     "metadata": {
      "needs_background": "light"
     },
     "output_type": "display_data"
    }
   ],
   "source": [
    "#Lets check for distribution of this column\n",
    "sns.distplot(df['Exp'])"
   ]
  },
  {
   "cell_type": "code",
   "execution_count": 2339,
   "metadata": {},
   "outputs": [],
   "source": [
    "#data is now normal distributed in this column"
   ]
  },
  {
   "cell_type": "code",
   "execution_count": 2340,
   "metadata": {},
   "outputs": [
    {
     "data": {
      "image/png": "[encoded data removed]",
      "text/plain": [
       "<Figure size 1440x432 with 1 Axes>"
      ]
     },
     "metadata": {
      "needs_background": "light"
     },
     "output_type": "display_data"
    }
   ],
   "source": [
    "#lets plot the experience column against our target variable\n",
    "plt.figure(figsize=(20,6))\n",
    "sns.barplot(x = df['Exp'],y =df['Fees'])\n",
    "plt.show()"
   ]
  },
  {
   "cell_type": "markdown",
   "metadata": {},
   "source": [
    "we can see that as the experienec increases, but after it reaches some threshold by 33 year experience the consultation fee decreses"
   ]
  },
  {
   "cell_type": "code",
   "execution_count": 2341,
   "metadata": {},
   "outputs": [
    {
     "data": {
      "text/plain": [
       "0.8337670479111088"
      ]
     },
     "execution_count": 2341,
     "metadata": {},
     "output_type": "execute_result"
    }
   ],
   "source": [
    "#lets check for skewness in this column\n",
    "df['Exp'].skew()"
   ]
  },
  {
   "cell_type": "markdown",
   "metadata": {},
   "source": [
    "We have some skewness in this column"
   ]
  },
  {
   "cell_type": "code",
   "execution_count": 2342,
   "metadata": {},
   "outputs": [],
   "source": [
    "df['Exp'] = power_transform(df['Exp'].values.reshape(-1,1))"
   ]
  },
  {
   "cell_type": "code",
   "execution_count": 2343,
   "metadata": {},
   "outputs": [
    {
     "data": {
      "text/plain": [
       "-0.010892611400576815"
      ]
     },
     "execution_count": 2343,
     "metadata": {},
     "output_type": "execute_result"
    }
   ],
   "source": [
    "#now the skewness have been reduced\n",
    "df['Exp'].skew()"
   ]
  },
  {
   "cell_type": "markdown",
   "metadata": {},
   "source": [
    "### 2.Miscellaneous_Info column "
   ]
  },
  {
   "cell_type": "code",
   "execution_count": 2344,
   "metadata": {},
   "outputs": [
    {
     "data": {
      "text/plain": [
       "3980"
      ]
     },
     "execution_count": 2344,
     "metadata": {},
     "output_type": "execute_result"
    }
   ],
   "source": [
    "#Lets check Miscellaneous column\n",
    "#This column cantains Rating and Place column combined\n",
    "#but we have data for rating and place already\n",
    "len(df.Miscellaneous_Info.value_counts())"
   ]
  },
  {
   "cell_type": "code",
   "execution_count": 2345,
   "metadata": {},
   "outputs": [
    {
     "data": {
      "text/html": [
       "<div>\n",
       "<style scoped>\n",
       "    .dataframe tbody tr th:only-of-type {\n",
       "        vertical-align: middle;\n",
       "    }\n",
       "\n",
       "    .dataframe tbody tr th {\n",
       "        vertical-align: top;\n",
       "    }\n",
       "\n",
       "    .dataframe thead th {\n",
       "        text-align: right;\n",
       "    }\n",
       "</style>\n",
       "<table border=\"1\" class=\"dataframe\">\n",
       "  <thead>\n",
       "    <tr style=\"text-align: right;\">\n",
       "      <th></th>\n",
       "      <th>Fees</th>\n",
       "      <th>Place</th>\n",
       "      <th>Profile</th>\n",
       "      <th>Qualification</th>\n",
       "      <th>Rating</th>\n",
       "      <th>Temp</th>\n",
       "      <th>Exp</th>\n",
       "    </tr>\n",
       "  </thead>\n",
       "  <tbody>\n",
       "    <tr>\n",
       "      <td>0</td>\n",
       "      <td>100.0</td>\n",
       "      <td>Kakkanad, Ernakulam</td>\n",
       "      <td>Homeopath</td>\n",
       "      <td>BHMS, MD - Homeopathy</td>\n",
       "      <td>100%</td>\n",
       "      <td>Train</td>\n",
       "      <td>0.735295</td>\n",
       "    </tr>\n",
       "    <tr>\n",
       "      <td>1</td>\n",
       "      <td>350.0</td>\n",
       "      <td>Whitefield, Bangalore</td>\n",
       "      <td>Ayurveda</td>\n",
       "      <td>BAMS, MD - Ayurveda Medicine</td>\n",
       "      <td>98%</td>\n",
       "      <td>Train</td>\n",
       "      <td>-0.345579</td>\n",
       "    </tr>\n",
       "    <tr>\n",
       "      <td>2</td>\n",
       "      <td>300.0</td>\n",
       "      <td>Mathikere - BEL, Bangalore</td>\n",
       "      <td>ENT Specialist</td>\n",
       "      <td>MBBS, MS - Otorhinolaryngology</td>\n",
       "      <td>NaN</td>\n",
       "      <td>Train</td>\n",
       "      <td>-0.709740</td>\n",
       "    </tr>\n",
       "    <tr>\n",
       "      <td>3</td>\n",
       "      <td>250.0</td>\n",
       "      <td>Bannerghatta Road, Bangalore</td>\n",
       "      <td>Ayurveda</td>\n",
       "      <td>BSc - Zoology, BAMS</td>\n",
       "      <td>NaN</td>\n",
       "      <td>Train</td>\n",
       "      <td>-0.345579</td>\n",
       "    </tr>\n",
       "    <tr>\n",
       "      <td>4</td>\n",
       "      <td>250.0</td>\n",
       "      <td>Keelkattalai, Chennai</td>\n",
       "      <td>Ayurveda</td>\n",
       "      <td>BAMS</td>\n",
       "      <td>100%</td>\n",
       "      <td>Train</td>\n",
       "      <td>0.420608</td>\n",
       "    </tr>\n",
       "  </tbody>\n",
       "</table>\n",
       "</div>"
      ],
      "text/plain": [
       "    Fees                         Place         Profile  \\\n",
       "0  100.0           Kakkanad, Ernakulam       Homeopath   \n",
       "1  350.0         Whitefield, Bangalore        Ayurveda   \n",
       "2  300.0    Mathikere - BEL, Bangalore  ENT Specialist   \n",
       "3  250.0  Bannerghatta Road, Bangalore        Ayurveda   \n",
       "4  250.0         Keelkattalai, Chennai        Ayurveda   \n",
       "\n",
       "                    Qualification Rating   Temp       Exp  \n",
       "0           BHMS, MD - Homeopathy   100%  Train  0.735295  \n",
       "1    BAMS, MD - Ayurveda Medicine    98%  Train -0.345579  \n",
       "2  MBBS, MS - Otorhinolaryngology    NaN  Train -0.709740  \n",
       "3             BSc - Zoology, BAMS    NaN  Train -0.345579  \n",
       "4                            BAMS   100%  Train  0.420608  "
      ]
     },
     "execution_count": 2345,
     "metadata": {},
     "output_type": "execute_result"
    }
   ],
   "source": [
    "#we have 3980 diffrenet values in this column,\n",
    "#and also we already rating column and place column which is already extracted from Miscellaneous_info column\n",
    "#there is no useful data to predict Target varibale in this column\n",
    "df.drop(['Miscellaneous_Info'],axis = 1,inplace = True)\n",
    "df.head()"
   ]
  },
  {
   "cell_type": "markdown",
   "metadata": {},
   "source": [
    "Now we have removed misscelleneous info column"
   ]
  },
  {
   "cell_type": "markdown",
   "metadata": {},
   "source": [
    "### 3. Fees column"
   ]
  },
  {
   "cell_type": "code",
   "execution_count": 2346,
   "metadata": {},
   "outputs": [],
   "source": [
    "#lets get x_test fee , because y_test columns is not provided which is nan values\n",
    "x_test_fees = df.Fees[:5961]"
   ]
  },
  {
   "cell_type": "code",
   "execution_count": 2347,
   "metadata": {},
   "outputs": [
    {
     "data": {
      "text/plain": [
       "nan"
      ]
     },
     "execution_count": 2347,
     "metadata": {},
     "output_type": "execute_result"
    }
   ],
   "source": [
    "#from this rows it is nan values\n",
    "df.Fees[5962]"
   ]
  },
  {
   "cell_type": "code",
   "execution_count": 2348,
   "metadata": {},
   "outputs": [
    {
     "data": {
      "text/plain": [
       "5.0"
      ]
     },
     "execution_count": 2348,
     "metadata": {},
     "output_type": "execute_result"
    }
   ],
   "source": [
    "#min\n",
    "x_test_fees.min()"
   ]
  },
  {
   "cell_type": "code",
   "execution_count": 2349,
   "metadata": {},
   "outputs": [
    {
     "data": {
      "text/plain": [
       "950.0"
      ]
     },
     "execution_count": 2349,
     "metadata": {},
     "output_type": "execute_result"
    }
   ],
   "source": [
    "x_test_fees.max()"
   ]
  },
  {
   "cell_type": "code",
   "execution_count": 2350,
   "metadata": {},
   "outputs": [
    {
     "data": {
      "text/plain": [
       "<matplotlib.axes._subplots.AxesSubplot at 0x18a8e33f988>"
      ]
     },
     "execution_count": 2350,
     "metadata": {},
     "output_type": "execute_result"
    },
    {
     "data": {
      "image/png": "[encoded data removed]",
      "text/plain": [
       "<Figure size 432x288 with 1 Axes>"
      ]
     },
     "metadata": {
      "needs_background": "light"
     },
     "output_type": "display_data"
    }
   ],
   "source": [
    "#Lets check for outliers in this column\n",
    "sns.boxplot(x_test_fees)"
   ]
  },
  {
   "cell_type": "markdown",
   "metadata": {},
   "source": [
    "There are no outliers in this target column"
   ]
  },
  {
   "cell_type": "code",
   "execution_count": 2351,
   "metadata": {},
   "outputs": [
    {
     "data": {
      "text/plain": [
       "<matplotlib.axes._subplots.AxesSubplot at 0x18a87d37848>"
      ]
     },
     "execution_count": 2351,
     "metadata": {},
     "output_type": "execute_result"
    },
    {
     "data": {
      "image/png": "[encoded data removed]",
      "text/plain": [
       "<Figure size 432x288 with 1 Axes>"
      ]
     },
     "metadata": {
      "needs_background": "light"
     },
     "output_type": "display_data"
    }
   ],
   "source": [
    "#Lets check for distribution of this column\n",
    "sns.distplot(x_test_fees)"
   ]
  },
  {
   "cell_type": "markdown",
   "metadata": {},
   "source": [
    "Data is also almost normal distributed in this column"
   ]
  },
  {
   "cell_type": "markdown",
   "metadata": {},
   "source": [
    "### 4.Rating column"
   ]
  },
  {
   "cell_type": "code",
   "execution_count": 2352,
   "metadata": {},
   "outputs": [
    {
     "data": {
      "text/plain": [
       "4392"
      ]
     },
     "execution_count": 2352,
     "metadata": {},
     "output_type": "execute_result"
    }
   ],
   "source": [
    "#there are many null values in this column \n",
    "df.Rating.isnull().sum()"
   ]
  },
  {
   "cell_type": "markdown",
   "metadata": {},
   "source": [
    "4392 null values in this column"
   ]
  },
  {
   "cell_type": "code",
   "execution_count": 2353,
   "metadata": {},
   "outputs": [
    {
     "data": {
      "text/plain": [
       "dtype('O')"
      ]
     },
     "execution_count": 2353,
     "metadata": {},
     "output_type": "execute_result"
    }
   ],
   "source": [
    "#Lets check the datatype of this column\n",
    "df.Rating.dtype"
   ]
  },
  {
   "cell_type": "markdown",
   "metadata": {},
   "source": [
    "It is object datatype"
   ]
  },
  {
   "cell_type": "code",
   "execution_count": 2354,
   "metadata": {},
   "outputs": [
    {
     "data": {
      "text/plain": [
       "0    100%\n",
       "1     98%\n",
       "2     NaN\n",
       "3     NaN\n",
       "4    100%\n",
       "Name: Rating, dtype: object"
      ]
     },
     "execution_count": 2354,
     "metadata": {},
     "output_type": "execute_result"
    }
   ],
   "source": [
    "#lets see this column\n",
    "df.Rating.head()"
   ]
  },
  {
   "cell_type": "markdown",
   "metadata": {},
   "source": [
    "Before we handle missing values, we need to covert this column into int datatype"
   ]
  },
  {
   "cell_type": "code",
   "execution_count": 2355,
   "metadata": {},
   "outputs": [],
   "source": [
    "#Lets remove \"%\" symbol from Rating column so we can covert to int type\n",
    "df['Rating']=df['Rating'].str.strip(\"%\")"
   ]
  },
  {
   "cell_type": "code",
   "execution_count": 2356,
   "metadata": {},
   "outputs": [],
   "source": [
    "#converting to float datatype\n",
    "df['Rating'] = df['Rating'].astype(float)"
   ]
  },
  {
   "cell_type": "code",
   "execution_count": 2357,
   "metadata": {},
   "outputs": [
    {
     "data": {
      "text/plain": [
       "0    100.0\n",
       "1     98.0\n",
       "2      NaN\n",
       "3      NaN\n",
       "4    100.0\n",
       "Name: Rating, dtype: float64"
      ]
     },
     "execution_count": 2357,
     "metadata": {},
     "output_type": "execute_result"
    }
   ],
   "source": [
    "#now datatype is coverted to float\n",
    "df.Rating.head()"
   ]
  },
  {
   "cell_type": "markdown",
   "metadata": {},
   "source": [
    "#### Handling Null values in this column"
   ]
  },
  {
   "cell_type": "code",
   "execution_count": 2358,
   "metadata": {},
   "outputs": [
    {
     "data": {
      "text/plain": [
       "Profile\n",
       "Ayurveda            96.277108\n",
       "Dentist             97.698454\n",
       "Dermatologists      93.446281\n",
       "ENT Specialist      88.973236\n",
       "General Medicine    91.944238\n",
       "Homeopath           96.524496\n",
       "Name: Rating, dtype: float64"
      ]
     },
     "execution_count": 2358,
     "metadata": {},
     "output_type": "execute_result"
    }
   ],
   "source": [
    "#lets ckcek the Ratings based on doctor profile\n",
    "df.groupby('Profile')['Rating'].mean()"
   ]
  },
  {
   "cell_type": "code",
   "execution_count": 2359,
   "metadata": {},
   "outputs": [],
   "source": [
    "#Wring a function for filling the missing values using above table\n",
    "def Null_Ratings(columns):\n",
    "    Rating = columns[0]\n",
    "    Profile = columns[1]\n",
    "    \n",
    "    if pd.isnull(Rating):\n",
    "\n",
    "        if Profile == 'Ayurveda':\n",
    "            return '96'\n",
    "        elif Profile == 'Dentist':\n",
    "            return '98'\n",
    "        elif Profile=='Dermatologists':\n",
    "            return '93'\n",
    "        elif Profile=='ENT Specialist':\n",
    "            return '89'\n",
    "        elif Profile=='General Medicine':\n",
    "            return '92'\n",
    "        elif Profile=='Homeopath':\n",
    "            return '97'\n",
    "    else:\n",
    "        return Rating"
   ]
  },
  {
   "cell_type": "code",
   "execution_count": 2360,
   "metadata": {},
   "outputs": [],
   "source": [
    "df['Rating']=df[['Rating','Profile']].apply(Null_Ratings,axis=1)"
   ]
  },
  {
   "cell_type": "code",
   "execution_count": 2361,
   "metadata": {},
   "outputs": [
    {
     "data": {
      "text/plain": [
       "0       100\n",
       "1        98\n",
       "2        89\n",
       "3        96\n",
       "4       100\n",
       "       ... \n",
       "7943     96\n",
       "7944     93\n",
       "7945     92\n",
       "7946     98\n",
       "7947     93\n",
       "Name: Rating, Length: 7948, dtype: object"
      ]
     },
     "execution_count": 2361,
     "metadata": {},
     "output_type": "execute_result"
    }
   ],
   "source": [
    "df.Rating"
   ]
  },
  {
   "cell_type": "markdown",
   "metadata": {},
   "source": [
    "We can see dtype as object, because in the function we returned string values"
   ]
  },
  {
   "cell_type": "code",
   "execution_count": 2362,
   "metadata": {},
   "outputs": [],
   "source": [
    "#converting to float datatype\n",
    "df['Rating'] = df['Rating'].astype(float)"
   ]
  },
  {
   "cell_type": "code",
   "execution_count": 2363,
   "metadata": {},
   "outputs": [
    {
     "data": {
      "text/plain": [
       "dtype('float64')"
      ]
     },
     "execution_count": 2363,
     "metadata": {},
     "output_type": "execute_result"
    }
   ],
   "source": [
    "#now we have all the rows as float datatype\n",
    "df.Rating.dtype"
   ]
  },
  {
   "cell_type": "markdown",
   "metadata": {},
   "source": [
    "Now we have handled the null values in Ratings column"
   ]
  },
  {
   "cell_type": "code",
   "execution_count": 2364,
   "metadata": {},
   "outputs": [
    {
     "data": {
      "text/plain": [
       "7.0"
      ]
     },
     "execution_count": 2364,
     "metadata": {},
     "output_type": "execute_result"
    }
   ],
   "source": [
    "#min\n",
    "df.Rating.min()"
   ]
  },
  {
   "cell_type": "code",
   "execution_count": 2365,
   "metadata": {},
   "outputs": [
    {
     "data": {
      "text/plain": [
       "100.0"
      ]
     },
     "execution_count": 2365,
     "metadata": {},
     "output_type": "execute_result"
    }
   ],
   "source": [
    "#max\n",
    "df.Rating.max()"
   ]
  },
  {
   "cell_type": "code",
   "execution_count": 2366,
   "metadata": {},
   "outputs": [
    {
     "data": {
      "text/plain": [
       "<matplotlib.axes._subplots.AxesSubplot at 0x18a9031c608>"
      ]
     },
     "execution_count": 2366,
     "metadata": {},
     "output_type": "execute_result"
    },
    {
     "data": {
      "image/png": "[encoded data removed]",
      "text/plain": [
       "<Figure size 432x288 with 1 Axes>"
      ]
     },
     "metadata": {
      "needs_background": "light"
     },
     "output_type": "display_data"
    }
   ],
   "source": [
    "#Lets check for distribution in this column\n",
    "sns.distplot(df['Rating'])"
   ]
  },
  {
   "cell_type": "markdown",
   "metadata": {},
   "source": [
    "Data is very much left skewed"
   ]
  },
  {
   "cell_type": "code",
   "execution_count": 2367,
   "metadata": {},
   "outputs": [
    {
     "data": {
      "text/plain": [
       "<matplotlib.axes._subplots.AxesSubplot at 0x18a8fe57988>"
      ]
     },
     "execution_count": 2367,
     "metadata": {},
     "output_type": "execute_result"
    },
    {
     "data": {
      "image/png": "[encoded data removed]",
      "text/plain": [
       "<Figure size 432x288 with 1 Axes>"
      ]
     },
     "metadata": {
      "needs_background": "light"
     },
     "output_type": "display_data"
    }
   ],
   "source": [
    "#Lets check for outliers in this column\n",
    "sns.boxplot('Rating',data = df)"
   ]
  },
  {
   "cell_type": "markdown",
   "metadata": {},
   "source": [
    "We can see there are lot of outliers present to the left"
   ]
  },
  {
   "cell_type": "code",
   "execution_count": 2368,
   "metadata": {},
   "outputs": [
    {
     "data": {
      "text/plain": [
       "(207, 7)"
      ]
     },
     "execution_count": 2368,
     "metadata": {},
     "output_type": "execute_result"
    }
   ],
   "source": [
    "#rating less than 80 is considered as an outlier\n",
    "df[df['Rating'] <=80].shape"
   ]
  },
  {
   "cell_type": "markdown",
   "metadata": {},
   "source": [
    "We almost have 207 outliers among 7900 rows"
   ]
  },
  {
   "cell_type": "code",
   "execution_count": 2369,
   "metadata": {},
   "outputs": [
    {
     "data": {
      "text/plain": [
       "(7767, 7)"
      ]
     },
     "execution_count": 2369,
     "metadata": {},
     "output_type": "execute_result"
    }
   ],
   "source": [
    "#These are the columns with out outliers\n",
    "df[df['Rating']  >= 80].shape"
   ]
  },
  {
   "cell_type": "code",
   "execution_count": 2370,
   "metadata": {},
   "outputs": [],
   "source": [
    "#Lets Replace the 207 outliers with the whiskers with IQR3 method, since the data is not normal distributed\n",
    "outliers_IQR3(df,'Rating')"
   ]
  },
  {
   "cell_type": "code",
   "execution_count": 2371,
   "metadata": {},
   "outputs": [
    {
     "data": {
      "text/plain": [
       "<matplotlib.axes._subplots.AxesSubplot at 0x18a90071348>"
      ]
     },
     "execution_count": 2371,
     "metadata": {},
     "output_type": "execute_result"
    },
    {
     "data": {
      "image/png": "[encoded data removed]",
      "text/plain": [
       "<Figure size 432x288 with 1 Axes>"
      ]
     },
     "metadata": {
      "needs_background": "light"
     },
     "output_type": "display_data"
    }
   ],
   "source": [
    "#Lets check for outliers in this column\n",
    "sns.boxplot('Rating',data = df)"
   ]
  },
  {
   "cell_type": "code",
   "execution_count": 2372,
   "metadata": {},
   "outputs": [
    {
     "data": {
      "text/plain": [
       "<matplotlib.axes._subplots.AxesSubplot at 0x18a91b35088>"
      ]
     },
     "execution_count": 2372,
     "metadata": {},
     "output_type": "execute_result"
    },
    {
     "data": {
      "image/png": "[encoded data removed]",
      "text/plain": [
       "<Figure size 432x288 with 1 Axes>"
      ]
     },
     "metadata": {
      "needs_background": "light"
     },
     "output_type": "display_data"
    }
   ],
   "source": [
    "#Lets check for distribution in this column\n",
    "sns.distplot(df['Rating'])"
   ]
  },
  {
   "cell_type": "code",
   "execution_count": 2373,
   "metadata": {},
   "outputs": [
    {
     "data": {
      "image/png": "[encoded data removed]",
      "text/plain": [
       "<Figure size 720x360 with 1 Axes>"
      ]
     },
     "metadata": {
      "needs_background": "light"
     },
     "output_type": "display_data"
    }
   ],
   "source": [
    "plt.figure(figsize= (10,5))\n",
    "sns.barplot(x ='Profile',y = 'Rating' , data = df)\n",
    "plt.show()"
   ]
  },
  {
   "cell_type": "markdown",
   "metadata": {},
   "source": [
    "We can see that rating of deentist quite high compared to all, ENT specialist  is low"
   ]
  },
  {
   "cell_type": "code",
   "execution_count": 2374,
   "metadata": {},
   "outputs": [
    {
     "data": {
      "text/plain": [
       "-0.9324198156824834"
      ]
     },
     "execution_count": 2374,
     "metadata": {},
     "output_type": "execute_result"
    }
   ],
   "source": [
    "#lets check for skewness in this column\n",
    "df['Rating'].skew()"
   ]
  },
  {
   "cell_type": "markdown",
   "metadata": {},
   "source": [
    "we still have some skewness in this column"
   ]
  },
  {
   "cell_type": "code",
   "execution_count": 2375,
   "metadata": {},
   "outputs": [],
   "source": [
    "#lets reduce the skewness\n",
    "df['Rating'] = power_transform(df['Rating'].values.reshape(-1,1))"
   ]
  },
  {
   "cell_type": "code",
   "execution_count": 2376,
   "metadata": {},
   "outputs": [
    {
     "data": {
      "text/plain": [
       "-0.13650023053123597"
      ]
     },
     "execution_count": 2376,
     "metadata": {},
     "output_type": "execute_result"
    }
   ],
   "source": [
    "#skewss has been reduced\n",
    "df['Rating'].skew()"
   ]
  },
  {
   "cell_type": "markdown",
   "metadata": {},
   "source": [
    "### 5.Qualification column"
   ]
  },
  {
   "cell_type": "code",
   "execution_count": 2377,
   "metadata": {},
   "outputs": [],
   "source": [
    "#In Qualification column we have below details:\n",
    "#Bachelors  -----> BHMS,BAMS,BDS\n",
    "#Masters   -----> MD, MS\n",
    "#profile details  ------> this details we already have in Profile column"
   ]
  },
  {
   "cell_type": "code",
   "execution_count": 2378,
   "metadata": {},
   "outputs": [
    {
     "data": {
      "text/plain": [
       "0                                BHMS, MD - Homeopathy\n",
       "1                         BAMS, MD - Ayurveda Medicine\n",
       "2                       MBBS, MS - Otorhinolaryngology\n",
       "3                                  BSc - Zoology, BAMS\n",
       "4                                                 BAMS\n",
       "                             ...                      \n",
       "7943                          BAMS, Doctor of Medicine\n",
       "7944    MD - Dermatology , Venereology & Leprosy, MBBS\n",
       "7945          MBBS, MD / MS - Obstetrics & Gynaecology\n",
       "7946                                               BDS\n",
       "7947    MBBS, MD - Dermatology , Venereology & Leprosy\n",
       "Name: Qualification, Length: 7948, dtype: object"
      ]
     },
     "execution_count": 2378,
     "metadata": {},
     "output_type": "execute_result"
    }
   ],
   "source": [
    "#The only information we can extract from qualification column is :\n",
    "#if doctor has only Bachelors (BAMS,MBBS)\n",
    "#or masters MD/MS\n",
    "#because we already have there profile details in profile column\n",
    "df.Qualification"
   ]
  },
  {
   "cell_type": "code",
   "execution_count": 2379,
   "metadata": {},
   "outputs": [],
   "source": [
    "Bachelors_list = ['BHMS','BAMS','BDS','BSc','MBBS']   #creating the list of bachelor degrees\n",
    "\n",
    "Masters_list = ['MD', 'MS', 'MF', 'DNB', 'MDS','DDVL','IBCLC','AFIH','DDV','PGD']  #creating the list of master degrees\n",
    "\n",
    "df['Masters completed?'] = 'No'  #first lets make everything As \"NO\"\n",
    "\n",
    "x = 0 #row number\n",
    "\n",
    "for i in df.Qualification:\n",
    "    for j in Masters_list:\n",
    "        if j in str(i).split():\n",
    "            df.loc[[x],'Masters completed?'] = 'Yes'\n",
    "            break\n",
    "    x += 1"
   ]
  },
  {
   "cell_type": "code",
   "execution_count": 2380,
   "metadata": {},
   "outputs": [
    {
     "data": {
      "text/html": [
       "<div>\n",
       "<style scoped>\n",
       "    .dataframe tbody tr th:only-of-type {\n",
       "        vertical-align: middle;\n",
       "    }\n",
       "\n",
       "    .dataframe tbody tr th {\n",
       "        vertical-align: top;\n",
       "    }\n",
       "\n",
       "    .dataframe thead th {\n",
       "        text-align: right;\n",
       "    }\n",
       "</style>\n",
       "<table border=\"1\" class=\"dataframe\">\n",
       "  <thead>\n",
       "    <tr style=\"text-align: right;\">\n",
       "      <th></th>\n",
       "      <th>Qualification</th>\n",
       "      <th>Masters completed?</th>\n",
       "    </tr>\n",
       "  </thead>\n",
       "  <tbody>\n",
       "    <tr>\n",
       "      <td>0</td>\n",
       "      <td>BHMS, MD - Homeopathy</td>\n",
       "      <td>Yes</td>\n",
       "    </tr>\n",
       "    <tr>\n",
       "      <td>1</td>\n",
       "      <td>BAMS, MD - Ayurveda Medicine</td>\n",
       "      <td>Yes</td>\n",
       "    </tr>\n",
       "    <tr>\n",
       "      <td>2</td>\n",
       "      <td>MBBS, MS - Otorhinolaryngology</td>\n",
       "      <td>Yes</td>\n",
       "    </tr>\n",
       "    <tr>\n",
       "      <td>3</td>\n",
       "      <td>BSc - Zoology, BAMS</td>\n",
       "      <td>No</td>\n",
       "    </tr>\n",
       "    <tr>\n",
       "      <td>4</td>\n",
       "      <td>BAMS</td>\n",
       "      <td>No</td>\n",
       "    </tr>\n",
       "    <tr>\n",
       "      <td>...</td>\n",
       "      <td>...</td>\n",
       "      <td>...</td>\n",
       "    </tr>\n",
       "    <tr>\n",
       "      <td>7943</td>\n",
       "      <td>BAMS, Doctor of Medicine</td>\n",
       "      <td>No</td>\n",
       "    </tr>\n",
       "    <tr>\n",
       "      <td>7944</td>\n",
       "      <td>MD - Dermatology , Venereology &amp; Leprosy, MBBS</td>\n",
       "      <td>Yes</td>\n",
       "    </tr>\n",
       "    <tr>\n",
       "      <td>7945</td>\n",
       "      <td>MBBS, MD / MS - Obstetrics &amp; Gynaecology</td>\n",
       "      <td>Yes</td>\n",
       "    </tr>\n",
       "    <tr>\n",
       "      <td>7946</td>\n",
       "      <td>BDS</td>\n",
       "      <td>No</td>\n",
       "    </tr>\n",
       "    <tr>\n",
       "      <td>7947</td>\n",
       "      <td>MBBS, MD - Dermatology , Venereology &amp; Leprosy</td>\n",
       "      <td>Yes</td>\n",
       "    </tr>\n",
       "  </tbody>\n",
       "</table>\n",
       "<p>7948 rows × 2 columns</p>\n",
       "</div>"
      ],
      "text/plain": [
       "                                       Qualification Masters completed?\n",
       "0                              BHMS, MD - Homeopathy                Yes\n",
       "1                       BAMS, MD - Ayurveda Medicine                Yes\n",
       "2                     MBBS, MS - Otorhinolaryngology                Yes\n",
       "3                                BSc - Zoology, BAMS                 No\n",
       "4                                               BAMS                 No\n",
       "...                                              ...                ...\n",
       "7943                        BAMS, Doctor of Medicine                 No\n",
       "7944  MD - Dermatology , Venereology & Leprosy, MBBS                Yes\n",
       "7945        MBBS, MD / MS - Obstetrics & Gynaecology                Yes\n",
       "7946                                             BDS                 No\n",
       "7947  MBBS, MD - Dermatology , Venereology & Leprosy                Yes\n",
       "\n",
       "[7948 rows x 2 columns]"
      ]
     },
     "execution_count": 2380,
     "metadata": {},
     "output_type": "execute_result"
    }
   ],
   "source": [
    "df.loc[:,['Qualification','Masters completed?']]"
   ]
  },
  {
   "cell_type": "code",
   "execution_count": 2381,
   "metadata": {},
   "outputs": [
    {
     "data": {
      "text/plain": [
       "Yes    4395\n",
       "No     3553\n",
       "Name: Masters completed?, dtype: int64"
      ]
     },
     "execution_count": 2381,
     "metadata": {},
     "output_type": "execute_result"
    }
   ],
   "source": [
    "df[\"Masters completed?\"].value_counts()"
   ]
  },
  {
   "cell_type": "markdown",
   "metadata": {},
   "source": [
    "We have 4395 doctors who have completed masters in this dataframe"
   ]
  },
  {
   "cell_type": "markdown",
   "metadata": {},
   "source": [
    "And 3553 doctors who has only single bachelors degree"
   ]
  },
  {
   "cell_type": "code",
   "execution_count": 2382,
   "metadata": {},
   "outputs": [
    {
     "data": {
      "text/html": [
       "<div>\n",
       "<style scoped>\n",
       "    .dataframe tbody tr th:only-of-type {\n",
       "        vertical-align: middle;\n",
       "    }\n",
       "\n",
       "    .dataframe tbody tr th {\n",
       "        vertical-align: top;\n",
       "    }\n",
       "\n",
       "    .dataframe thead th {\n",
       "        text-align: right;\n",
       "    }\n",
       "</style>\n",
       "<table border=\"1\" class=\"dataframe\">\n",
       "  <thead>\n",
       "    <tr style=\"text-align: right;\">\n",
       "      <th></th>\n",
       "      <th>Fees</th>\n",
       "      <th>Place</th>\n",
       "      <th>Profile</th>\n",
       "      <th>Rating</th>\n",
       "      <th>Temp</th>\n",
       "      <th>Exp</th>\n",
       "      <th>Masters completed?</th>\n",
       "    </tr>\n",
       "  </thead>\n",
       "  <tbody>\n",
       "    <tr>\n",
       "      <td>0</td>\n",
       "      <td>100.0</td>\n",
       "      <td>Kakkanad, Ernakulam</td>\n",
       "      <td>Homeopath</td>\n",
       "      <td>1.599341</td>\n",
       "      <td>Train</td>\n",
       "      <td>0.735295</td>\n",
       "      <td>Yes</td>\n",
       "    </tr>\n",
       "    <tr>\n",
       "      <td>1</td>\n",
       "      <td>350.0</td>\n",
       "      <td>Whitefield, Bangalore</td>\n",
       "      <td>Ayurveda</td>\n",
       "      <td>0.813166</td>\n",
       "      <td>Train</td>\n",
       "      <td>-0.345579</td>\n",
       "      <td>Yes</td>\n",
       "    </tr>\n",
       "    <tr>\n",
       "      <td>2</td>\n",
       "      <td>300.0</td>\n",
       "      <td>Mathikere - BEL, Bangalore</td>\n",
       "      <td>ENT Specialist</td>\n",
       "      <td>-1.373698</td>\n",
       "      <td>Train</td>\n",
       "      <td>-0.709740</td>\n",
       "      <td>Yes</td>\n",
       "    </tr>\n",
       "    <tr>\n",
       "      <td>3</td>\n",
       "      <td>250.0</td>\n",
       "      <td>Bannerghatta Road, Bangalore</td>\n",
       "      <td>Ayurveda</td>\n",
       "      <td>0.157053</td>\n",
       "      <td>Train</td>\n",
       "      <td>-0.345579</td>\n",
       "      <td>No</td>\n",
       "    </tr>\n",
       "    <tr>\n",
       "      <td>4</td>\n",
       "      <td>250.0</td>\n",
       "      <td>Keelkattalai, Chennai</td>\n",
       "      <td>Ayurveda</td>\n",
       "      <td>1.599341</td>\n",
       "      <td>Train</td>\n",
       "      <td>0.420608</td>\n",
       "      <td>No</td>\n",
       "    </tr>\n",
       "  </tbody>\n",
       "</table>\n",
       "</div>"
      ],
      "text/plain": [
       "    Fees                         Place         Profile    Rating   Temp  \\\n",
       "0  100.0           Kakkanad, Ernakulam       Homeopath  1.599341  Train   \n",
       "1  350.0         Whitefield, Bangalore        Ayurveda  0.813166  Train   \n",
       "2  300.0    Mathikere - BEL, Bangalore  ENT Specialist -1.373698  Train   \n",
       "3  250.0  Bannerghatta Road, Bangalore        Ayurveda  0.157053  Train   \n",
       "4  250.0         Keelkattalai, Chennai        Ayurveda  1.599341  Train   \n",
       "\n",
       "        Exp Masters completed?  \n",
       "0  0.735295                Yes  \n",
       "1 -0.345579                Yes  \n",
       "2 -0.709740                Yes  \n",
       "3 -0.345579                 No  \n",
       "4  0.420608                 No  "
      ]
     },
     "execution_count": 2382,
     "metadata": {},
     "output_type": "execute_result"
    }
   ],
   "source": [
    "#now lets drop qualification column as we have extracted the useful data from it\n",
    "df.drop(['Qualification'],axis = 1,inplace = True)\n",
    "df.head()"
   ]
  },
  {
   "cell_type": "code",
   "execution_count": 2383,
   "metadata": {},
   "outputs": [],
   "source": [
    "#lets write function to encode this column\n",
    "def encode(x):\n",
    "    if x == 'No':\n",
    "        return 1\n",
    "    else:\n",
    "        return 2"
   ]
  },
  {
   "cell_type": "code",
   "execution_count": 2384,
   "metadata": {},
   "outputs": [
    {
     "data": {
      "text/plain": [
       "Masters completed?\n",
       "No     256.480733\n",
       "Yes    349.782543\n",
       "Name: Fees, dtype: float64"
      ]
     },
     "execution_count": 2384,
     "metadata": {},
     "output_type": "execute_result"
    }
   ],
   "source": [
    "#lets check for mean for fees upon masters completed doctors\n",
    "df.groupby('Masters completed?')['Fees'].mean()"
   ]
  },
  {
   "cell_type": "markdown",
   "metadata": {},
   "source": [
    "We can clearly see that doctors fee is high who have complted masters"
   ]
  },
  {
   "cell_type": "code",
   "execution_count": 2385,
   "metadata": {},
   "outputs": [
    {
     "data": {
      "image/png": "[encoded data removed]",
      "text/plain": [
       "<Figure size 432x216 with 1 Axes>"
      ]
     },
     "metadata": {
      "needs_background": "light"
     },
     "output_type": "display_data"
    }
   ],
   "source": [
    "plt.figure(figsize= (6,3))\n",
    "sns.barplot(x ='Masters completed?',y = 'Fees' , data = df)\n",
    "plt.show()"
   ]
  },
  {
   "cell_type": "code",
   "execution_count": 2386,
   "metadata": {},
   "outputs": [],
   "source": [
    "#Fees is high for masters complted doctors, where as low for not complted doctor"
   ]
  },
  {
   "cell_type": "code",
   "execution_count": 2387,
   "metadata": {},
   "outputs": [],
   "source": [
    "df['Masters completed?'] = df['Masters completed?'].apply(encode)"
   ]
  },
  {
   "cell_type": "code",
   "execution_count": 2388,
   "metadata": {},
   "outputs": [
    {
     "data": {
      "text/html": [
       "<div>\n",
       "<style scoped>\n",
       "    .dataframe tbody tr th:only-of-type {\n",
       "        vertical-align: middle;\n",
       "    }\n",
       "\n",
       "    .dataframe tbody tr th {\n",
       "        vertical-align: top;\n",
       "    }\n",
       "\n",
       "    .dataframe thead th {\n",
       "        text-align: right;\n",
       "    }\n",
       "</style>\n",
       "<table border=\"1\" class=\"dataframe\">\n",
       "  <thead>\n",
       "    <tr style=\"text-align: right;\">\n",
       "      <th></th>\n",
       "      <th>Fees</th>\n",
       "      <th>Place</th>\n",
       "      <th>Profile</th>\n",
       "      <th>Rating</th>\n",
       "      <th>Temp</th>\n",
       "      <th>Exp</th>\n",
       "      <th>Masters completed?</th>\n",
       "    </tr>\n",
       "  </thead>\n",
       "  <tbody>\n",
       "    <tr>\n",
       "      <td>0</td>\n",
       "      <td>100.0</td>\n",
       "      <td>Kakkanad, Ernakulam</td>\n",
       "      <td>Homeopath</td>\n",
       "      <td>1.599341</td>\n",
       "      <td>Train</td>\n",
       "      <td>0.735295</td>\n",
       "      <td>2</td>\n",
       "    </tr>\n",
       "    <tr>\n",
       "      <td>1</td>\n",
       "      <td>350.0</td>\n",
       "      <td>Whitefield, Bangalore</td>\n",
       "      <td>Ayurveda</td>\n",
       "      <td>0.813166</td>\n",
       "      <td>Train</td>\n",
       "      <td>-0.345579</td>\n",
       "      <td>2</td>\n",
       "    </tr>\n",
       "    <tr>\n",
       "      <td>2</td>\n",
       "      <td>300.0</td>\n",
       "      <td>Mathikere - BEL, Bangalore</td>\n",
       "      <td>ENT Specialist</td>\n",
       "      <td>-1.373698</td>\n",
       "      <td>Train</td>\n",
       "      <td>-0.709740</td>\n",
       "      <td>2</td>\n",
       "    </tr>\n",
       "    <tr>\n",
       "      <td>3</td>\n",
       "      <td>250.0</td>\n",
       "      <td>Bannerghatta Road, Bangalore</td>\n",
       "      <td>Ayurveda</td>\n",
       "      <td>0.157053</td>\n",
       "      <td>Train</td>\n",
       "      <td>-0.345579</td>\n",
       "      <td>1</td>\n",
       "    </tr>\n",
       "    <tr>\n",
       "      <td>4</td>\n",
       "      <td>250.0</td>\n",
       "      <td>Keelkattalai, Chennai</td>\n",
       "      <td>Ayurveda</td>\n",
       "      <td>1.599341</td>\n",
       "      <td>Train</td>\n",
       "      <td>0.420608</td>\n",
       "      <td>1</td>\n",
       "    </tr>\n",
       "  </tbody>\n",
       "</table>\n",
       "</div>"
      ],
      "text/plain": [
       "    Fees                         Place         Profile    Rating   Temp  \\\n",
       "0  100.0           Kakkanad, Ernakulam       Homeopath  1.599341  Train   \n",
       "1  350.0         Whitefield, Bangalore        Ayurveda  0.813166  Train   \n",
       "2  300.0    Mathikere - BEL, Bangalore  ENT Specialist -1.373698  Train   \n",
       "3  250.0  Bannerghatta Road, Bangalore        Ayurveda  0.157053  Train   \n",
       "4  250.0         Keelkattalai, Chennai        Ayurveda  1.599341  Train   \n",
       "\n",
       "        Exp  Masters completed?  \n",
       "0  0.735295                   2  \n",
       "1 -0.345579                   2  \n",
       "2 -0.709740                   2  \n",
       "3 -0.345579                   1  \n",
       "4  0.420608                   1  "
      ]
     },
     "execution_count": 2388,
     "metadata": {},
     "output_type": "execute_result"
    }
   ],
   "source": [
    "#1 if masters not complted\n",
    "#2 if masters is completed\n",
    "df.head()"
   ]
  },
  {
   "cell_type": "markdown",
   "metadata": {},
   "source": [
    "data preprocssing done for Qualification column and useful data is extracted from it"
   ]
  },
  {
   "cell_type": "markdown",
   "metadata": {},
   "source": [
    "### 6. Place column"
   ]
  },
  {
   "cell_type": "code",
   "execution_count": 2389,
   "metadata": {},
   "outputs": [],
   "source": [
    "#There 31 missing values in Place column\n",
    "#df['Place'].fillna()"
   ]
  },
  {
   "cell_type": "code",
   "execution_count": 2390,
   "metadata": {},
   "outputs": [
    {
     "data": {
      "text/plain": [
       "HSR Layout, Bangalore             97\n",
       "Andheri West, Mumbai              97\n",
       "Dwarka, Delhi                     93\n",
       "Banjara Hills, Hyderabad          85\n",
       "Mulund West, Mumbai               81\n",
       "                                  ..\n",
       "Geeta Colony, Delhi                1\n",
       "JP Nagar 8 Phase, Bangalore        1\n",
       "Koramangala 7 Block, Bangalore     1\n",
       "Cherai, Ernakulam                  1\n",
       "Nampally, Hyderabad                1\n",
       "Name: Place, Length: 948, dtype: int64"
      ]
     },
     "execution_count": 2390,
     "metadata": {},
     "output_type": "execute_result"
    }
   ],
   "source": [
    "df.Place.value_counts()"
   ]
  },
  {
   "cell_type": "code",
   "execution_count": 2391,
   "metadata": {},
   "outputs": [
    {
     "data": {
      "text/plain": [
       "948"
      ]
     },
     "execution_count": 2391,
     "metadata": {},
     "output_type": "execute_result"
    }
   ],
   "source": [
    "len(df.Place.value_counts())"
   ]
  },
  {
   "cell_type": "markdown",
   "metadata": {},
   "source": [
    "There are 948 unique values in Place column"
   ]
  },
  {
   "cell_type": "code",
   "execution_count": 2392,
   "metadata": {},
   "outputs": [],
   "source": [
    "#lets create the city list where the clinic is located\n",
    "city_list = ['Bangalore','Chennai','Delhi','Hyderabad','Mumbai'] "
   ]
  },
  {
   "cell_type": "code",
   "execution_count": 2393,
   "metadata": {},
   "outputs": [
    {
     "data": {
      "text/plain": [
       "(7948, 7)"
      ]
     },
     "execution_count": 2393,
     "metadata": {},
     "output_type": "execute_result"
    }
   ],
   "source": [
    "df.shape"
   ]
  },
  {
   "cell_type": "code",
   "execution_count": 2394,
   "metadata": {},
   "outputs": [
    {
     "data": {
      "text/plain": [
       "7314"
      ]
     },
     "execution_count": 2394,
     "metadata": {},
     "output_type": "execute_result"
    }
   ],
   "source": [
    "k = 0\n",
    "for i in df.Place:\n",
    "    for j in city_list: \n",
    "        if j in str(i):\n",
    "            k += 1\n",
    "k       "
   ]
  },
  {
   "cell_type": "markdown",
   "metadata": {},
   "source": [
    "We have 7314 cities out of 7948 with in top 5 cities ['Bangalore','Chennai','Delhi','Hyderabad','Mumbai'] "
   ]
  },
  {
   "cell_type": "markdown",
   "metadata": {},
   "source": [
    "These are top 5 cities, lets consider other cities as other"
   ]
  },
  {
   "cell_type": "code",
   "execution_count": 2395,
   "metadata": {},
   "outputs": [
    {
     "data": {
      "text/plain": [
       "7948"
      ]
     },
     "execution_count": 2395,
     "metadata": {},
     "output_type": "execute_result"
    }
   ],
   "source": [
    "len(df.Place)"
   ]
  },
  {
   "cell_type": "code",
   "execution_count": 2396,
   "metadata": {},
   "outputs": [],
   "source": [
    "df['City'] = 'Other'\n",
    "for i in range(len(df.Place)):\n",
    "    for j in city_list:\n",
    "        if j in str(df.loc[i,'Place']):\n",
    "            df.loc[[i],'City'] = j\n",
    "            break\n",
    "            "
   ]
  },
  {
   "cell_type": "code",
   "execution_count": 2397,
   "metadata": {},
   "outputs": [
    {
     "data": {
      "text/plain": [
       "(7948, 8)"
      ]
     },
     "execution_count": 2397,
     "metadata": {},
     "output_type": "execute_result"
    }
   ],
   "source": [
    "df.shape"
   ]
  },
  {
   "cell_type": "code",
   "execution_count": 2398,
   "metadata": {},
   "outputs": [
    {
     "data": {
      "text/html": [
       "<div>\n",
       "<style scoped>\n",
       "    .dataframe tbody tr th:only-of-type {\n",
       "        vertical-align: middle;\n",
       "    }\n",
       "\n",
       "    .dataframe tbody tr th {\n",
       "        vertical-align: top;\n",
       "    }\n",
       "\n",
       "    .dataframe thead th {\n",
       "        text-align: right;\n",
       "    }\n",
       "</style>\n",
       "<table border=\"1\" class=\"dataframe\">\n",
       "  <thead>\n",
       "    <tr style=\"text-align: right;\">\n",
       "      <th></th>\n",
       "      <th>Place</th>\n",
       "      <th>City</th>\n",
       "    </tr>\n",
       "  </thead>\n",
       "  <tbody>\n",
       "    <tr>\n",
       "      <td>0</td>\n",
       "      <td>Kakkanad, Ernakulam</td>\n",
       "      <td>Other</td>\n",
       "    </tr>\n",
       "    <tr>\n",
       "      <td>1</td>\n",
       "      <td>Whitefield, Bangalore</td>\n",
       "      <td>Bangalore</td>\n",
       "    </tr>\n",
       "    <tr>\n",
       "      <td>2</td>\n",
       "      <td>Mathikere - BEL, Bangalore</td>\n",
       "      <td>Bangalore</td>\n",
       "    </tr>\n",
       "    <tr>\n",
       "      <td>3</td>\n",
       "      <td>Bannerghatta Road, Bangalore</td>\n",
       "      <td>Bangalore</td>\n",
       "    </tr>\n",
       "    <tr>\n",
       "      <td>4</td>\n",
       "      <td>Keelkattalai, Chennai</td>\n",
       "      <td>Chennai</td>\n",
       "    </tr>\n",
       "    <tr>\n",
       "      <td>...</td>\n",
       "      <td>...</td>\n",
       "      <td>...</td>\n",
       "    </tr>\n",
       "    <tr>\n",
       "      <td>7943</td>\n",
       "      <td>Basavanagudi, Bangalore</td>\n",
       "      <td>Bangalore</td>\n",
       "    </tr>\n",
       "    <tr>\n",
       "      <td>7944</td>\n",
       "      <td>Choolai, Chennai</td>\n",
       "      <td>Chennai</td>\n",
       "    </tr>\n",
       "    <tr>\n",
       "      <td>7945</td>\n",
       "      <td>Porur, Chennai</td>\n",
       "      <td>Chennai</td>\n",
       "    </tr>\n",
       "    <tr>\n",
       "      <td>7946</td>\n",
       "      <td>Arekere, Bangalore</td>\n",
       "      <td>Bangalore</td>\n",
       "    </tr>\n",
       "    <tr>\n",
       "      <td>7947</td>\n",
       "      <td>Pallikaranai, Chennai</td>\n",
       "      <td>Chennai</td>\n",
       "    </tr>\n",
       "  </tbody>\n",
       "</table>\n",
       "<p>7948 rows × 2 columns</p>\n",
       "</div>"
      ],
      "text/plain": [
       "                             Place       City\n",
       "0              Kakkanad, Ernakulam      Other\n",
       "1            Whitefield, Bangalore  Bangalore\n",
       "2       Mathikere - BEL, Bangalore  Bangalore\n",
       "3     Bannerghatta Road, Bangalore  Bangalore\n",
       "4            Keelkattalai, Chennai    Chennai\n",
       "...                            ...        ...\n",
       "7943       Basavanagudi, Bangalore  Bangalore\n",
       "7944              Choolai, Chennai    Chennai\n",
       "7945                Porur, Chennai    Chennai\n",
       "7946            Arekere, Bangalore  Bangalore\n",
       "7947         Pallikaranai, Chennai    Chennai\n",
       "\n",
       "[7948 rows x 2 columns]"
      ]
     },
     "execution_count": 2398,
     "metadata": {},
     "output_type": "execute_result"
    }
   ],
   "source": [
    "df.loc[:,['Place','City']]"
   ]
  },
  {
   "cell_type": "code",
   "execution_count": 2399,
   "metadata": {},
   "outputs": [
    {
     "data": {
      "text/plain": [
       "Bangalore    1678\n",
       "Mumbai       1608\n",
       "Delhi        1602\n",
       "Hyderabad    1284\n",
       "Chennai      1142\n",
       "Other         634\n",
       "Name: City, dtype: int64"
      ]
     },
     "execution_count": 2399,
     "metadata": {},
     "output_type": "execute_result"
    }
   ],
   "source": [
    "#now we have extracted the useful information from the place column \n",
    "df.City.value_counts() "
   ]
  },
  {
   "cell_type": "code",
   "execution_count": 2400,
   "metadata": {},
   "outputs": [],
   "source": [
    "#lets drop Place column now as we have extracted the useful information\n",
    "df.drop(['Place'],axis = 1,inplace = True)"
   ]
  },
  {
   "cell_type": "code",
   "execution_count": 2401,
   "metadata": {},
   "outputs": [
    {
     "data": {
      "image/png": "[encoded data removed]",
      "text/plain": [
       "<Figure size 576x288 with 1 Axes>"
      ]
     },
     "metadata": {
      "needs_background": "light"
     },
     "output_type": "display_data"
    }
   ],
   "source": [
    "plt.figure(figsize= (8,4))\n",
    "sns.barplot(x ='City',y = 'Fees' , data = df)\n",
    "plt.show()"
   ]
  },
  {
   "cell_type": "markdown",
   "metadata": {},
   "source": [
    "we can see that fee charged by doctors in delhi is very high"
   ]
  },
  {
   "cell_type": "code",
   "execution_count": 2402,
   "metadata": {},
   "outputs": [
    {
     "data": {
      "text/plain": [
       "City\n",
       "Bangalore    328.842607\n",
       "Chennai      283.602339\n",
       "Delhi        362.911392\n",
       "Hyderabad    307.507886\n",
       "Mumbai       308.292863\n",
       "Other        164.695740\n",
       "Name: Fees, dtype: float64"
      ]
     },
     "execution_count": 2402,
     "metadata": {},
     "output_type": "execute_result"
    }
   ],
   "source": [
    "#Lets check foor the fees of doctors uopn the city they are located\n",
    "city = df.groupby('City')['Fees'].mean()\n",
    "city"
   ]
  },
  {
   "cell_type": "code",
   "execution_count": 2403,
   "metadata": {},
   "outputs": [],
   "source": [
    "#we can see that Delhi city has highest consultation fee compared to other cities"
   ]
  },
  {
   "cell_type": "code",
   "execution_count": 2404,
   "metadata": {},
   "outputs": [],
   "source": [
    "#lets convert the city column based upon the doctor consultation fee\n",
    "df['City'] = df['City'].map(city)"
   ]
  },
  {
   "cell_type": "code",
   "execution_count": 2405,
   "metadata": {},
   "outputs": [
    {
     "data": {
      "text/html": [
       "<div>\n",
       "<style scoped>\n",
       "    .dataframe tbody tr th:only-of-type {\n",
       "        vertical-align: middle;\n",
       "    }\n",
       "\n",
       "    .dataframe tbody tr th {\n",
       "        vertical-align: top;\n",
       "    }\n",
       "\n",
       "    .dataframe thead th {\n",
       "        text-align: right;\n",
       "    }\n",
       "</style>\n",
       "<table border=\"1\" class=\"dataframe\">\n",
       "  <thead>\n",
       "    <tr style=\"text-align: right;\">\n",
       "      <th></th>\n",
       "      <th>Fees</th>\n",
       "      <th>Profile</th>\n",
       "      <th>Rating</th>\n",
       "      <th>Temp</th>\n",
       "      <th>Exp</th>\n",
       "      <th>Masters completed?</th>\n",
       "      <th>City</th>\n",
       "    </tr>\n",
       "  </thead>\n",
       "  <tbody>\n",
       "    <tr>\n",
       "      <td>0</td>\n",
       "      <td>100.0</td>\n",
       "      <td>Homeopath</td>\n",
       "      <td>1.599341</td>\n",
       "      <td>Train</td>\n",
       "      <td>0.735295</td>\n",
       "      <td>2</td>\n",
       "      <td>164.695740</td>\n",
       "    </tr>\n",
       "    <tr>\n",
       "      <td>1</td>\n",
       "      <td>350.0</td>\n",
       "      <td>Ayurveda</td>\n",
       "      <td>0.813166</td>\n",
       "      <td>Train</td>\n",
       "      <td>-0.345579</td>\n",
       "      <td>2</td>\n",
       "      <td>328.842607</td>\n",
       "    </tr>\n",
       "    <tr>\n",
       "      <td>2</td>\n",
       "      <td>300.0</td>\n",
       "      <td>ENT Specialist</td>\n",
       "      <td>-1.373698</td>\n",
       "      <td>Train</td>\n",
       "      <td>-0.709740</td>\n",
       "      <td>2</td>\n",
       "      <td>328.842607</td>\n",
       "    </tr>\n",
       "    <tr>\n",
       "      <td>3</td>\n",
       "      <td>250.0</td>\n",
       "      <td>Ayurveda</td>\n",
       "      <td>0.157053</td>\n",
       "      <td>Train</td>\n",
       "      <td>-0.345579</td>\n",
       "      <td>1</td>\n",
       "      <td>328.842607</td>\n",
       "    </tr>\n",
       "    <tr>\n",
       "      <td>4</td>\n",
       "      <td>250.0</td>\n",
       "      <td>Ayurveda</td>\n",
       "      <td>1.599341</td>\n",
       "      <td>Train</td>\n",
       "      <td>0.420608</td>\n",
       "      <td>1</td>\n",
       "      <td>283.602339</td>\n",
       "    </tr>\n",
       "    <tr>\n",
       "      <td>...</td>\n",
       "      <td>...</td>\n",
       "      <td>...</td>\n",
       "      <td>...</td>\n",
       "      <td>...</td>\n",
       "      <td>...</td>\n",
       "      <td>...</td>\n",
       "      <td>...</td>\n",
       "    </tr>\n",
       "    <tr>\n",
       "      <td>7943</td>\n",
       "      <td>NaN</td>\n",
       "      <td>Ayurveda</td>\n",
       "      <td>0.157053</td>\n",
       "      <td>Test</td>\n",
       "      <td>-0.581592</td>\n",
       "      <td>1</td>\n",
       "      <td>328.842607</td>\n",
       "    </tr>\n",
       "    <tr>\n",
       "      <td>7944</td>\n",
       "      <td>NaN</td>\n",
       "      <td>Dermatologists</td>\n",
       "      <td>-0.625144</td>\n",
       "      <td>Test</td>\n",
       "      <td>-1.515354</td>\n",
       "      <td>2</td>\n",
       "      <td>283.602339</td>\n",
       "    </tr>\n",
       "    <tr>\n",
       "      <td>7945</td>\n",
       "      <td>NaN</td>\n",
       "      <td>General Medicine</td>\n",
       "      <td>-0.840308</td>\n",
       "      <td>Test</td>\n",
       "      <td>-0.709740</td>\n",
       "      <td>2</td>\n",
       "      <td>283.602339</td>\n",
       "    </tr>\n",
       "    <tr>\n",
       "      <td>7946</td>\n",
       "      <td>NaN</td>\n",
       "      <td>Dentist</td>\n",
       "      <td>0.813166</td>\n",
       "      <td>Test</td>\n",
       "      <td>-0.345579</td>\n",
       "      <td>1</td>\n",
       "      <td>328.842607</td>\n",
       "    </tr>\n",
       "    <tr>\n",
       "      <td>7947</td>\n",
       "      <td>NaN</td>\n",
       "      <td>Dermatologists</td>\n",
       "      <td>-0.625144</td>\n",
       "      <td>Test</td>\n",
       "      <td>-0.846150</td>\n",
       "      <td>2</td>\n",
       "      <td>283.602339</td>\n",
       "    </tr>\n",
       "  </tbody>\n",
       "</table>\n",
       "<p>7948 rows × 7 columns</p>\n",
       "</div>"
      ],
      "text/plain": [
       "       Fees           Profile    Rating   Temp       Exp  Masters completed?  \\\n",
       "0     100.0         Homeopath  1.599341  Train  0.735295                   2   \n",
       "1     350.0          Ayurveda  0.813166  Train -0.345579                   2   \n",
       "2     300.0    ENT Specialist -1.373698  Train -0.709740                   2   \n",
       "3     250.0          Ayurveda  0.157053  Train -0.345579                   1   \n",
       "4     250.0          Ayurveda  1.599341  Train  0.420608                   1   \n",
       "...     ...               ...       ...    ...       ...                 ...   \n",
       "7943    NaN          Ayurveda  0.157053   Test -0.581592                   1   \n",
       "7944    NaN    Dermatologists -0.625144   Test -1.515354                   2   \n",
       "7945    NaN  General Medicine -0.840308   Test -0.709740                   2   \n",
       "7946    NaN           Dentist  0.813166   Test -0.345579                   1   \n",
       "7947    NaN    Dermatologists -0.625144   Test -0.846150                   2   \n",
       "\n",
       "            City  \n",
       "0     164.695740  \n",
       "1     328.842607  \n",
       "2     328.842607  \n",
       "3     328.842607  \n",
       "4     283.602339  \n",
       "...          ...  \n",
       "7943  328.842607  \n",
       "7944  283.602339  \n",
       "7945  283.602339  \n",
       "7946  328.842607  \n",
       "7947  283.602339  \n",
       "\n",
       "[7948 rows x 7 columns]"
      ]
     },
     "execution_count": 2405,
     "metadata": {},
     "output_type": "execute_result"
    }
   ],
   "source": [
    "df"
   ]
  },
  {
   "cell_type": "code",
   "execution_count": 2406,
   "metadata": {},
   "outputs": [
    {
     "data": {
      "text/plain": [
       "-1.7214661172695094"
      ]
     },
     "execution_count": 2406,
     "metadata": {},
     "output_type": "execute_result"
    }
   ],
   "source": [
    "#lets check for skewness in this colum\n",
    "df.City.skew()"
   ]
  },
  {
   "cell_type": "code",
   "execution_count": 2407,
   "metadata": {},
   "outputs": [],
   "source": [
    "#lets reduce the skewness\n",
    "df['City'] = power_transform(df['City'].values.reshape(-1,1))"
   ]
  },
  {
   "cell_type": "code",
   "execution_count": 2408,
   "metadata": {},
   "outputs": [
    {
     "data": {
      "text/plain": [
       "-0.1208195274334361"
      ]
     },
     "execution_count": 2408,
     "metadata": {},
     "output_type": "execute_result"
    }
   ],
   "source": [
    "#skewness have been reduced for this column\n",
    "df['City'].skew()"
   ]
  },
  {
   "cell_type": "code",
   "execution_count": 2409,
   "metadata": {},
   "outputs": [],
   "source": [
    "#now we have useful information in this city column"
   ]
  },
  {
   "cell_type": "markdown",
   "metadata": {},
   "source": [
    "### 7.Profile Column"
   ]
  },
  {
   "cell_type": "code",
   "execution_count": 2410,
   "metadata": {},
   "outputs": [
    {
     "data": {
      "text/plain": [
       "Dentist             1838\n",
       "General Medicine    1617\n",
       "Dermatologists      1373\n",
       "Homeopath           1120\n",
       "Ayurveda            1037\n",
       "ENT Specialist       963\n",
       "Name: Profile, dtype: int64"
      ]
     },
     "execution_count": 2410,
     "metadata": {},
     "output_type": "execute_result"
    }
   ],
   "source": [
    "#Lets check the doctor profiles in this dataset\n",
    "df.Profile.value_counts()"
   ]
  },
  {
   "cell_type": "raw",
   "metadata": {},
   "source": [
    "We have six types of profles for doctor :\n",
    "Dentist             1838\n",
    "General Medicine    1617\n",
    "Dermatologists      1373\n",
    "Homeopath           1120\n",
    "Ayurveda            1037\n",
    "ENT Specialist      963"
   ]
  },
  {
   "cell_type": "code",
   "execution_count": 2411,
   "metadata": {},
   "outputs": [
    {
     "data": {
      "text/plain": [
       "Profile\n",
       "Ayurveda            238.968193\n",
       "Dentist             238.199714\n",
       "Dermatologists      393.133462\n",
       "ENT Specialist      387.321429\n",
       "General Medicine    313.908781\n",
       "Homeopath           306.499407\n",
       "Name: Fees, dtype: float64"
      ]
     },
     "execution_count": 2411,
     "metadata": {},
     "output_type": "execute_result"
    }
   ],
   "source": [
    "#lets group Profile columns by using fee column\n",
    "profile = df.groupby(\"Profile\")['Fees'].mean()\n",
    "profile"
   ]
  },
  {
   "cell_type": "code",
   "execution_count": 2412,
   "metadata": {},
   "outputs": [
    {
     "data": {
      "image/png": "[encoded data removed]",
      "text/plain": [
       "<Figure size 720x288 with 1 Axes>"
      ]
     },
     "metadata": {
      "needs_background": "light"
     },
     "output_type": "display_data"
    }
   ],
   "source": [
    "plt.figure(figsize= (10,4))\n",
    "sns.barplot(x ='Profile',y = 'Fees' , data = df)\n",
    "plt.show()"
   ]
  },
  {
   "cell_type": "code",
   "execution_count": 2413,
   "metadata": {},
   "outputs": [],
   "source": [
    "#we can see that ENT specialist and dermetologuist charge highest fee"
   ]
  },
  {
   "cell_type": "code",
   "execution_count": 2414,
   "metadata": {},
   "outputs": [],
   "source": [
    "#Lets transform the profile column with useful information\n",
    "df['Profile'] = df['Profile'].map(profile)"
   ]
  },
  {
   "cell_type": "code",
   "execution_count": 2415,
   "metadata": {},
   "outputs": [
    {
     "data": {
      "text/html": [
       "<div>\n",
       "<style scoped>\n",
       "    .dataframe tbody tr th:only-of-type {\n",
       "        vertical-align: middle;\n",
       "    }\n",
       "\n",
       "    .dataframe tbody tr th {\n",
       "        vertical-align: top;\n",
       "    }\n",
       "\n",
       "    .dataframe thead th {\n",
       "        text-align: right;\n",
       "    }\n",
       "</style>\n",
       "<table border=\"1\" class=\"dataframe\">\n",
       "  <thead>\n",
       "    <tr style=\"text-align: right;\">\n",
       "      <th></th>\n",
       "      <th>Fees</th>\n",
       "      <th>Profile</th>\n",
       "      <th>Rating</th>\n",
       "      <th>Temp</th>\n",
       "      <th>Exp</th>\n",
       "      <th>Masters completed?</th>\n",
       "      <th>City</th>\n",
       "    </tr>\n",
       "  </thead>\n",
       "  <tbody>\n",
       "    <tr>\n",
       "      <td>0</td>\n",
       "      <td>100.0</td>\n",
       "      <td>306.499407</td>\n",
       "      <td>1.599341</td>\n",
       "      <td>Train</td>\n",
       "      <td>0.735295</td>\n",
       "      <td>2</td>\n",
       "      <td>-2.154033</td>\n",
       "    </tr>\n",
       "    <tr>\n",
       "      <td>1</td>\n",
       "      <td>350.0</td>\n",
       "      <td>238.968193</td>\n",
       "      <td>0.813166</td>\n",
       "      <td>Train</td>\n",
       "      <td>-0.345579</td>\n",
       "      <td>2</td>\n",
       "      <td>0.334021</td>\n",
       "    </tr>\n",
       "    <tr>\n",
       "      <td>2</td>\n",
       "      <td>300.0</td>\n",
       "      <td>387.321429</td>\n",
       "      <td>-1.373698</td>\n",
       "      <td>Train</td>\n",
       "      <td>-0.709740</td>\n",
       "      <td>2</td>\n",
       "      <td>0.334021</td>\n",
       "    </tr>\n",
       "    <tr>\n",
       "      <td>3</td>\n",
       "      <td>250.0</td>\n",
       "      <td>238.968193</td>\n",
       "      <td>0.157053</td>\n",
       "      <td>Train</td>\n",
       "      <td>-0.345579</td>\n",
       "      <td>1</td>\n",
       "      <td>0.334021</td>\n",
       "    </tr>\n",
       "    <tr>\n",
       "      <td>4</td>\n",
       "      <td>250.0</td>\n",
       "      <td>238.968193</td>\n",
       "      <td>1.599341</td>\n",
       "      <td>Train</td>\n",
       "      <td>0.420608</td>\n",
       "      <td>1</td>\n",
       "      <td>-0.819238</td>\n",
       "    </tr>\n",
       "  </tbody>\n",
       "</table>\n",
       "</div>"
      ],
      "text/plain": [
       "    Fees     Profile    Rating   Temp       Exp  Masters completed?      City\n",
       "0  100.0  306.499407  1.599341  Train  0.735295                   2 -2.154033\n",
       "1  350.0  238.968193  0.813166  Train -0.345579                   2  0.334021\n",
       "2  300.0  387.321429 -1.373698  Train -0.709740                   2  0.334021\n",
       "3  250.0  238.968193  0.157053  Train -0.345579                   1  0.334021\n",
       "4  250.0  238.968193  1.599341  Train  0.420608                   1 -0.819238"
      ]
     },
     "execution_count": 2415,
     "metadata": {},
     "output_type": "execute_result"
    }
   ],
   "source": [
    "df.head()"
   ]
  },
  {
   "cell_type": "code",
   "execution_count": 2416,
   "metadata": {},
   "outputs": [],
   "source": [
    "#lets check for skewness in this column"
   ]
  },
  {
   "cell_type": "code",
   "execution_count": 2417,
   "metadata": {},
   "outputs": [
    {
     "data": {
      "text/plain": [
       "0.18893671860083708"
      ]
     },
     "execution_count": 2417,
     "metadata": {},
     "output_type": "execute_result"
    }
   ],
   "source": [
    "df.Profile.skew()"
   ]
  },
  {
   "cell_type": "code",
   "execution_count": 2418,
   "metadata": {},
   "outputs": [],
   "source": [
    "#skewness is in range for this column"
   ]
  },
  {
   "cell_type": "code",
   "execution_count": 2419,
   "metadata": {},
   "outputs": [],
   "source": [
    "#now all the columns are processed , Lets go model selection phase"
   ]
  },
  {
   "cell_type": "code",
   "execution_count": 2420,
   "metadata": {},
   "outputs": [
    {
     "data": {
      "text/html": [
       "<div>\n",
       "<style scoped>\n",
       "    .dataframe tbody tr th:only-of-type {\n",
       "        vertical-align: middle;\n",
       "    }\n",
       "\n",
       "    .dataframe tbody tr th {\n",
       "        vertical-align: top;\n",
       "    }\n",
       "\n",
       "    .dataframe thead th {\n",
       "        text-align: right;\n",
       "    }\n",
       "</style>\n",
       "<table border=\"1\" class=\"dataframe\">\n",
       "  <thead>\n",
       "    <tr style=\"text-align: right;\">\n",
       "      <th></th>\n",
       "      <th>Fees</th>\n",
       "      <th>Profile</th>\n",
       "      <th>Rating</th>\n",
       "      <th>Temp</th>\n",
       "      <th>Exp</th>\n",
       "      <th>Masters completed?</th>\n",
       "      <th>City</th>\n",
       "    </tr>\n",
       "  </thead>\n",
       "  <tbody>\n",
       "    <tr>\n",
       "      <td>0</td>\n",
       "      <td>100.0</td>\n",
       "      <td>306.499407</td>\n",
       "      <td>1.599341</td>\n",
       "      <td>Train</td>\n",
       "      <td>0.735295</td>\n",
       "      <td>2</td>\n",
       "      <td>-2.154033</td>\n",
       "    </tr>\n",
       "    <tr>\n",
       "      <td>1</td>\n",
       "      <td>350.0</td>\n",
       "      <td>238.968193</td>\n",
       "      <td>0.813166</td>\n",
       "      <td>Train</td>\n",
       "      <td>-0.345579</td>\n",
       "      <td>2</td>\n",
       "      <td>0.334021</td>\n",
       "    </tr>\n",
       "    <tr>\n",
       "      <td>2</td>\n",
       "      <td>300.0</td>\n",
       "      <td>387.321429</td>\n",
       "      <td>-1.373698</td>\n",
       "      <td>Train</td>\n",
       "      <td>-0.709740</td>\n",
       "      <td>2</td>\n",
       "      <td>0.334021</td>\n",
       "    </tr>\n",
       "    <tr>\n",
       "      <td>3</td>\n",
       "      <td>250.0</td>\n",
       "      <td>238.968193</td>\n",
       "      <td>0.157053</td>\n",
       "      <td>Train</td>\n",
       "      <td>-0.345579</td>\n",
       "      <td>1</td>\n",
       "      <td>0.334021</td>\n",
       "    </tr>\n",
       "    <tr>\n",
       "      <td>4</td>\n",
       "      <td>250.0</td>\n",
       "      <td>238.968193</td>\n",
       "      <td>1.599341</td>\n",
       "      <td>Train</td>\n",
       "      <td>0.420608</td>\n",
       "      <td>1</td>\n",
       "      <td>-0.819238</td>\n",
       "    </tr>\n",
       "    <tr>\n",
       "      <td>...</td>\n",
       "      <td>...</td>\n",
       "      <td>...</td>\n",
       "      <td>...</td>\n",
       "      <td>...</td>\n",
       "      <td>...</td>\n",
       "      <td>...</td>\n",
       "      <td>...</td>\n",
       "    </tr>\n",
       "    <tr>\n",
       "      <td>7943</td>\n",
       "      <td>NaN</td>\n",
       "      <td>238.968193</td>\n",
       "      <td>0.157053</td>\n",
       "      <td>Test</td>\n",
       "      <td>-0.581592</td>\n",
       "      <td>1</td>\n",
       "      <td>0.334021</td>\n",
       "    </tr>\n",
       "    <tr>\n",
       "      <td>7944</td>\n",
       "      <td>NaN</td>\n",
       "      <td>393.133462</td>\n",
       "      <td>-0.625144</td>\n",
       "      <td>Test</td>\n",
       "      <td>-1.515354</td>\n",
       "      <td>2</td>\n",
       "      <td>-0.819238</td>\n",
       "    </tr>\n",
       "    <tr>\n",
       "      <td>7945</td>\n",
       "      <td>NaN</td>\n",
       "      <td>313.908781</td>\n",
       "      <td>-0.840308</td>\n",
       "      <td>Test</td>\n",
       "      <td>-0.709740</td>\n",
       "      <td>2</td>\n",
       "      <td>-0.819238</td>\n",
       "    </tr>\n",
       "    <tr>\n",
       "      <td>7946</td>\n",
       "      <td>NaN</td>\n",
       "      <td>238.199714</td>\n",
       "      <td>0.813166</td>\n",
       "      <td>Test</td>\n",
       "      <td>-0.345579</td>\n",
       "      <td>1</td>\n",
       "      <td>0.334021</td>\n",
       "    </tr>\n",
       "    <tr>\n",
       "      <td>7947</td>\n",
       "      <td>NaN</td>\n",
       "      <td>393.133462</td>\n",
       "      <td>-0.625144</td>\n",
       "      <td>Test</td>\n",
       "      <td>-0.846150</td>\n",
       "      <td>2</td>\n",
       "      <td>-0.819238</td>\n",
       "    </tr>\n",
       "  </tbody>\n",
       "</table>\n",
       "<p>7948 rows × 7 columns</p>\n",
       "</div>"
      ],
      "text/plain": [
       "       Fees     Profile    Rating   Temp       Exp  Masters completed?  \\\n",
       "0     100.0  306.499407  1.599341  Train  0.735295                   2   \n",
       "1     350.0  238.968193  0.813166  Train -0.345579                   2   \n",
       "2     300.0  387.321429 -1.373698  Train -0.709740                   2   \n",
       "3     250.0  238.968193  0.157053  Train -0.345579                   1   \n",
       "4     250.0  238.968193  1.599341  Train  0.420608                   1   \n",
       "...     ...         ...       ...    ...       ...                 ...   \n",
       "7943    NaN  238.968193  0.157053   Test -0.581592                   1   \n",
       "7944    NaN  393.133462 -0.625144   Test -1.515354                   2   \n",
       "7945    NaN  313.908781 -0.840308   Test -0.709740                   2   \n",
       "7946    NaN  238.199714  0.813166   Test -0.345579                   1   \n",
       "7947    NaN  393.133462 -0.625144   Test -0.846150                   2   \n",
       "\n",
       "          City  \n",
       "0    -2.154033  \n",
       "1     0.334021  \n",
       "2     0.334021  \n",
       "3     0.334021  \n",
       "4    -0.819238  \n",
       "...        ...  \n",
       "7943  0.334021  \n",
       "7944 -0.819238  \n",
       "7945 -0.819238  \n",
       "7946  0.334021  \n",
       "7947 -0.819238  \n",
       "\n",
       "[7948 rows x 7 columns]"
      ]
     },
     "execution_count": 2420,
     "metadata": {},
     "output_type": "execute_result"
    }
   ],
   "source": [
    "#This is our dataframe after all the data preprocessing\n",
    "df"
   ]
  },
  {
   "cell_type": "code",
   "execution_count": 2421,
   "metadata": {},
   "outputs": [
    {
     "data": {
      "text/plain": [
       "Fees                  1987\n",
       "Profile                  0\n",
       "Rating                   0\n",
       "Temp                     0\n",
       "Exp                      0\n",
       "Masters completed?       0\n",
       "City                     0\n",
       "dtype: int64"
      ]
     },
     "execution_count": 2421,
     "metadata": {},
     "output_type": "execute_result"
    }
   ],
   "source": [
    "df.isnull().sum()"
   ]
  },
  {
   "cell_type": "markdown",
   "metadata": {},
   "source": [
    "Fees column has 1987 null values which is not provided to us"
   ]
  },
  {
   "cell_type": "code",
   "execution_count": 2422,
   "metadata": {},
   "outputs": [
    {
     "data": {
      "text/html": [
       "<div>\n",
       "<style scoped>\n",
       "    .dataframe tbody tr th:only-of-type {\n",
       "        vertical-align: middle;\n",
       "    }\n",
       "\n",
       "    .dataframe tbody tr th {\n",
       "        vertical-align: top;\n",
       "    }\n",
       "\n",
       "    .dataframe thead th {\n",
       "        text-align: right;\n",
       "    }\n",
       "</style>\n",
       "<table border=\"1\" class=\"dataframe\">\n",
       "  <thead>\n",
       "    <tr style=\"text-align: right;\">\n",
       "      <th></th>\n",
       "      <th>Fees</th>\n",
       "      <th>Profile</th>\n",
       "      <th>Rating</th>\n",
       "      <th>Exp</th>\n",
       "      <th>Masters completed?</th>\n",
       "      <th>City</th>\n",
       "    </tr>\n",
       "  </thead>\n",
       "  <tbody>\n",
       "    <tr>\n",
       "      <td>Fees</td>\n",
       "      <td>1.000000</td>\n",
       "      <td>0.323031</td>\n",
       "      <td>-0.131060</td>\n",
       "      <td>0.039845</td>\n",
       "      <td>0.243064</td>\n",
       "      <td>0.244417</td>\n",
       "    </tr>\n",
       "    <tr>\n",
       "      <td>Profile</td>\n",
       "      <td>0.323031</td>\n",
       "      <td>1.000000</td>\n",
       "      <td>-0.485037</td>\n",
       "      <td>0.099746</td>\n",
       "      <td>0.341262</td>\n",
       "      <td>0.102947</td>\n",
       "    </tr>\n",
       "    <tr>\n",
       "      <td>Rating</td>\n",
       "      <td>-0.131060</td>\n",
       "      <td>-0.485037</td>\n",
       "      <td>1.000000</td>\n",
       "      <td>-0.268763</td>\n",
       "      <td>-0.170498</td>\n",
       "      <td>-0.032167</td>\n",
       "    </tr>\n",
       "    <tr>\n",
       "      <td>Exp</td>\n",
       "      <td>0.039845</td>\n",
       "      <td>0.099746</td>\n",
       "      <td>-0.268763</td>\n",
       "      <td>1.000000</td>\n",
       "      <td>0.028540</td>\n",
       "      <td>0.069370</td>\n",
       "    </tr>\n",
       "    <tr>\n",
       "      <td>Masters completed?</td>\n",
       "      <td>0.243064</td>\n",
       "      <td>0.341262</td>\n",
       "      <td>-0.170498</td>\n",
       "      <td>0.028540</td>\n",
       "      <td>1.000000</td>\n",
       "      <td>0.046513</td>\n",
       "    </tr>\n",
       "    <tr>\n",
       "      <td>City</td>\n",
       "      <td>0.244417</td>\n",
       "      <td>0.102947</td>\n",
       "      <td>-0.032167</td>\n",
       "      <td>0.069370</td>\n",
       "      <td>0.046513</td>\n",
       "      <td>1.000000</td>\n",
       "    </tr>\n",
       "  </tbody>\n",
       "</table>\n",
       "</div>"
      ],
      "text/plain": [
       "                        Fees   Profile    Rating       Exp  \\\n",
       "Fees                1.000000  0.323031 -0.131060  0.039845   \n",
       "Profile             0.323031  1.000000 -0.485037  0.099746   \n",
       "Rating             -0.131060 -0.485037  1.000000 -0.268763   \n",
       "Exp                 0.039845  0.099746 -0.268763  1.000000   \n",
       "Masters completed?  0.243064  0.341262 -0.170498  0.028540   \n",
       "City                0.244417  0.102947 -0.032167  0.069370   \n",
       "\n",
       "                    Masters completed?      City  \n",
       "Fees                          0.243064  0.244417  \n",
       "Profile                       0.341262  0.102947  \n",
       "Rating                       -0.170498 -0.032167  \n",
       "Exp                           0.028540  0.069370  \n",
       "Masters completed?            1.000000  0.046513  \n",
       "City                          0.046513  1.000000  "
      ]
     },
     "execution_count": 2422,
     "metadata": {},
     "output_type": "execute_result"
    }
   ],
   "source": [
    "#lets check the correlation of theses columns  with target vraibale\n",
    "df.corr()"
   ]
  },
  {
   "cell_type": "code",
   "execution_count": 2423,
   "metadata": {},
   "outputs": [
    {
     "data": {
      "image/png": "[encoded data removed]",
      "text/plain": [
       "<Figure size 360x216 with 2 Axes>"
      ]
     },
     "metadata": {
      "needs_background": "light"
     },
     "output_type": "display_data"
    }
   ],
   "source": [
    "#correlation\n",
    "fig = plt.figure(figsize=(5,3))\n",
    "cor_matrix = df.corr(method='pearson')\n",
    "sns.heatmap(cor_matrix,annot = True,cmap = 'Blues')\n",
    "plt.show()"
   ]
  },
  {
   "cell_type": "markdown",
   "metadata": {},
   "source": [
    "We can see that no column is having good correlation with target varibale"
   ]
  },
  {
   "cell_type": "code",
   "execution_count": 2424,
   "metadata": {},
   "outputs": [
    {
     "data": {
      "text/plain": [
       "Fees                  1.000000\n",
       "Profile               0.323031\n",
       "City                  0.244417\n",
       "Masters completed?    0.243064\n",
       "Exp                   0.039845\n",
       "Rating               -0.131060\n",
       "Name: Fees, dtype: float64"
      ]
     },
     "execution_count": 2424,
     "metadata": {},
     "output_type": "execute_result"
    }
   ],
   "source": [
    "#lets check for the correlation of input columns with Target Variable\n",
    "cor_matrix['Fees'].sort_values(ascending = False)"
   ]
  },
  {
   "cell_type": "markdown",
   "metadata": {},
   "source": [
    "All the columns are having very less correlation with target column"
   ]
  },
  {
   "cell_type": "code",
   "execution_count": 2425,
   "metadata": {},
   "outputs": [
    {
     "data": {
      "image/png": "[encoded data removed]",
      "text/plain": [
       "<Figure size 432x288 with 2 Axes>"
      ]
     },
     "metadata": {
      "needs_background": "light"
     },
     "output_type": "display_data"
    }
   ],
   "source": [
    "#checking the missing values with visualization technique\n",
    "plt.figure(figsize=(6,4))\n",
    "sns.heatmap(df.isnull())\n",
    "plt.title('Null values')\n",
    "plt.show()"
   ]
  },
  {
   "cell_type": "code",
   "execution_count": 2426,
   "metadata": {},
   "outputs": [],
   "source": [
    "#we have no null values in any column except Fees column, which (x_test) is not provided to us"
   ]
  },
  {
   "cell_type": "markdown",
   "metadata": {},
   "source": [
    "## Let split our data"
   ]
  },
  {
   "cell_type": "code",
   "execution_count": 2427,
   "metadata": {},
   "outputs": [],
   "source": [
    "#Lets split the target variable\n",
    "Y = df['Fees']\n",
    "X = df.drop('Fees',axis = 1)"
   ]
  },
  {
   "cell_type": "code",
   "execution_count": 2428,
   "metadata": {},
   "outputs": [],
   "source": [
    "#Lets get out Original Train and Test Dataset provided in the project\n",
    "X_train_original = X.loc[df[\"Temp\"] == \"Train\"]\n",
    "X_test_original = X.loc[df[\"Temp\"]==\"Test\"]\n",
    "#X_train_original.reset_index(drop =True, inplace=True)\n",
    "#X_test_original.reset_index(drop = True, inplace=True)"
   ]
  },
  {
   "cell_type": "code",
   "execution_count": 2429,
   "metadata": {},
   "outputs": [
    {
     "data": {
      "text/plain": [
       "(5961,)"
      ]
     },
     "execution_count": 2429,
     "metadata": {},
     "output_type": "execute_result"
    }
   ],
   "source": [
    "#lets drop the null values in the Y column\n",
    "Y.dropna(inplace=True)\n",
    "Y.shape"
   ]
  },
  {
   "cell_type": "code",
   "execution_count": 2430,
   "metadata": {},
   "outputs": [
    {
     "data": {
      "text/plain": [
       "(5961, 6)"
      ]
     },
     "execution_count": 2430,
     "metadata": {},
     "output_type": "execute_result"
    }
   ],
   "source": [
    "#Original X_train dataset\n",
    "X_train_original.shape"
   ]
  },
  {
   "cell_type": "code",
   "execution_count": 2431,
   "metadata": {},
   "outputs": [
    {
     "data": {
      "text/plain": [
       "(1987, 6)"
      ]
     },
     "execution_count": 2431,
     "metadata": {},
     "output_type": "execute_result"
    }
   ],
   "source": [
    "#Original X_test dataset\n",
    "X_test_original.shape"
   ]
  },
  {
   "cell_type": "code",
   "execution_count": 2432,
   "metadata": {},
   "outputs": [
    {
     "data": {
      "text/plain": [
       "0"
      ]
     },
     "execution_count": 2432,
     "metadata": {},
     "output_type": "execute_result"
    }
   ],
   "source": [
    "#no null values in this series\n",
    "Y.isnull().sum()"
   ]
  },
  {
   "cell_type": "code",
   "execution_count": 2433,
   "metadata": {},
   "outputs": [],
   "source": [
    "# Original X train column from 0th row to 5961th row\n",
    "X_train_original.drop('Temp',axis = 1,inplace  =True)"
   ]
  },
  {
   "cell_type": "code",
   "execution_count": 2434,
   "metadata": {},
   "outputs": [],
   "source": [
    "# Original X test column from 5962rd row to the end\n",
    "X_test_original.drop('Temp',axis = 1,inplace  =True)"
   ]
  },
  {
   "cell_type": "code",
   "execution_count": 2435,
   "metadata": {},
   "outputs": [],
   "source": [
    "#lets Ignore thes index now\n",
    "X_train_original.reset_index(drop =True, inplace=True)\n",
    "X_test_original.reset_index(drop = True, inplace=True)"
   ]
  },
  {
   "cell_type": "markdown",
   "metadata": {},
   "source": [
    "## We have provided with X_test data, but Y_test (Label) is not provided"
   ]
  },
  {
   "cell_type": "markdown",
   "metadata": {},
   "source": [
    "So lets use our X_train_original and Y_train_Original  as X and Y for model selection"
   ]
  },
  {
   "cell_type": "markdown",
   "metadata": {},
   "source": [
    "## Best random state"
   ]
  },
  {
   "cell_type": "code",
   "execution_count": 2436,
   "metadata": {},
   "outputs": [
    {
     "name": "stdout",
     "output_type": "stream",
     "text": [
      "Best r2 score is 0.20550574322994786 on random state 27\n"
     ]
    }
   ],
   "source": [
    "max_r2score = 0\n",
    "rand_state = 0\n",
    "for i in range(1,200):\n",
    "    x_train,x_test,y_train,y_test = train_test_split(X_train_original,Y,test_size=.22,random_state= i )\n",
    "    lr = LinearRegression()\n",
    "    lr.fit(x_train,y_train)\n",
    "    pred = lr.predict(x_test)\n",
    "    r2 = r2_score(y_test,pred)\n",
    "    if r2 > max_r2score:\n",
    "        max_r2score = r2\n",
    "        rand_state = i\n",
    "print('Best r2 score is {} on random state {}'.format(max_r2score,rand_state)) "
   ]
  },
  {
   "cell_type": "code",
   "execution_count": 2437,
   "metadata": {},
   "outputs": [
    {
     "name": "stdout",
     "output_type": "stream",
     "text": [
      "We got our best randoms sate as : 27\n"
     ]
    }
   ],
   "source": [
    "print('We got our best randoms sate as :',rand_state)"
   ]
  },
  {
   "cell_type": "code",
   "execution_count": 2438,
   "metadata": {},
   "outputs": [],
   "source": [
    "#Lets split for train and test data\n",
    "x_train,x_test,y_train,y_test = train_test_split(X_train_original,Y,test_size=.22,random_state= rand_state )"
   ]
  },
  {
   "cell_type": "markdown",
   "metadata": {},
   "source": [
    "## Model selection :"
   ]
  },
  {
   "cell_type": "code",
   "execution_count": 2439,
   "metadata": {},
   "outputs": [],
   "source": [
    "#lets Choose Among this Five Models\n",
    "lr = LinearRegression()\n",
    "knn = KNeighborsRegressor(n_neighbors=7)\n",
    "#ensemble technique\n",
    "ada = AdaBoostRegressor()\n"
   ]
  },
  {
   "cell_type": "code",
   "execution_count": 2440,
   "metadata": {},
   "outputs": [
    {
     "name": "stdout",
     "output_type": "stream",
     "text": [
      "\n",
      "\n",
      "LinearRegression()\n",
      "Scores :\n",
      "r2 score: 0.20550574322994786\n",
      "Cross Val score : 0.1668643385104064\n",
      "Error :\n",
      "mean absolute error : 134.96425264735228\n",
      "mean squared error :  28687.5919992213\n",
      "root mean squared error : 169.37411844559162\n",
      "Difference :\n",
      "Diffrence between cross val score and r2 score is : 0.038641404719541445\n",
      "\n",
      "\n",
      "KNeighborsRegressor(n_neighbors=7)\n",
      "Scores :\n",
      "r2 score: 0.11404511384156846\n",
      "Cross Val score : 0.09559914168160426\n",
      "Error :\n",
      "mean absolute error : 139.2661149825784\n",
      "mean squared error :  31990.05164260826\n",
      "root mean squared error : 178.8576295342423\n",
      "Difference :\n",
      "Diffrence between cross val score and r2 score is : 0.0184459721599642\n",
      "\n",
      "\n",
      "AdaBoostRegressor()\n",
      "Scores :\n",
      "r2 score: 0.15293786759989048\n",
      "Cross Val score : 0.15462734056175984\n",
      "Error :\n",
      "mean absolute error : 143.4026255837923\n",
      "mean squared error :  30585.712414177753\n",
      "root mean squared error : 174.8877137313475\n",
      "Difference :\n",
      "Diffrence between cross val score and r2 score is : -0.0016894729618693594\n"
     ]
    }
   ],
   "source": [
    "#checking each model with Cross val score\n",
    "model_list = [lr,knn,ada]\n",
    "least_difference = []\n",
    "for m in model_list:\n",
    "    m.fit(x_train,y_train)\n",
    "    pred = m.predict(x_test)\n",
    "    cvs = cross_val_score(m,X_train_original,Y,cv =5)\n",
    "    print('\\n')\n",
    "    print(m)\n",
    "    print('Scores :')\n",
    "    print('r2 score:',r2_score(y_test,pred))\n",
    "    print('Cross Val score :',cvs.mean())\n",
    "    print('Error :')\n",
    "    print('mean absolute error :',mean_absolute_error(y_test,pred))\n",
    "    print('mean squared error : ', mean_squared_error(y_test,pred))\n",
    "    print('root mean squared error :',np.sqrt(mean_squared_error(y_test,pred)))\n",
    "    print('Difference :')\n",
    "    difference = r2_score(y_test,pred)-cvs.mean()\n",
    "    print('Diffrence between cross val score and r2 score is :',difference)\n",
    "    least_difference.append((m,difference))"
   ]
  },
  {
   "cell_type": "code",
   "execution_count": 2441,
   "metadata": {},
   "outputs": [
    {
     "data": {
      "text/plain": [
       "[(LinearRegression(), 0.038641404719541445),\n",
       " (KNeighborsRegressor(n_neighbors=7), 0.0184459721599642),\n",
       " (AdaBoostRegressor(), -0.0016894729618693594)]"
      ]
     },
     "execution_count": 2441,
     "metadata": {},
     "output_type": "execute_result"
    }
   ],
   "source": [
    "least_difference"
   ]
  },
  {
   "cell_type": "markdown",
   "metadata": {},
   "source": [
    "Even though Adaboost has least diffrence,The diffrence is not much For Linear Regression also, lets choose Linaer regression  as our final model since the R2 score quite high compare to Other model"
   ]
  },
  {
   "cell_type": "markdown",
   "metadata": {},
   "source": [
    "### We can go for hyperparameter tuning and Regularization Linear Regression"
   ]
  },
  {
   "cell_type": "markdown",
   "metadata": {},
   "source": [
    "## Hyperparameter Tuning"
   ]
  },
  {
   "cell_type": "code",
   "execution_count": 2442,
   "metadata": {},
   "outputs": [
    {
     "data": {
      "text/plain": [
       "0.15325132691992446"
      ]
     },
     "execution_count": 2442,
     "metadata": {},
     "output_type": "execute_result"
    }
   ],
   "source": [
    "# lets create the parameter list to pass in GridsearchCv\n",
    "\n",
    "parameters = {'fit_intercept': [True,False],'normalize' : [True,False],'copy_X' :[True,False],'n_jobs' : list(range(1,11))}\n",
    "gsv = GridSearchCV(estimator= lr,param_grid=  parameters,cv =5)\n",
    "gsv.fit(x_train,y_train)\n",
    "gsv.best_score_"
   ]
  },
  {
   "cell_type": "code",
   "execution_count": 2443,
   "metadata": {},
   "outputs": [
    {
     "data": {
      "text/plain": [
       "{'copy_X': True, 'fit_intercept': False, 'n_jobs': 1, 'normalize': True}"
      ]
     },
     "execution_count": 2443,
     "metadata": {},
     "output_type": "execute_result"
    }
   ],
   "source": [
    "gsv.best_params_"
   ]
  },
  {
   "cell_type": "markdown",
   "metadata": {},
   "source": [
    "## Creating a  Linear regression Model:"
   ]
  },
  {
   "cell_type": "code",
   "execution_count": 2444,
   "metadata": {},
   "outputs": [
    {
     "name": "stdout",
     "output_type": "stream",
     "text": [
      "Score\n",
      "R2_score : 0.20550574322994797\n",
      "\n",
      "\n",
      "Error :\n",
      "mean absolute error : 134.96425264735225\n",
      "mean squared error :  28687.59199922129\n",
      "Cross Val score : 0.16686433851040633\n",
      "\n",
      "\n",
      "Difference :\n",
      "Diffrence between cross val score and r2 score error is : 0.03864140471954164\n"
     ]
    }
   ],
   "source": [
    "final_model = LinearRegression(copy_X= True,fit_intercept= True,n_jobs= 1,normalize=True)\n",
    "final_model.fit(x_train,y_train)\n",
    "final_pred = final_model.predict(x_test)\n",
    "print('Score')\n",
    "print('R2_score :',r2_score(y_test,final_pred))\n",
    "print('\\n')\n",
    "print('Error :')\n",
    "print('mean absolute error :',mean_absolute_error(y_test,final_pred))\n",
    "print('mean squared error : ', mean_squared_error(y_test,final_pred))\n",
    "cvs_final = cross_val_score(final_models,X_train_original,Y,cv =5)\n",
    "print('Cross Val score :',cvs_final.mean())\n",
    "print('\\n')\n",
    "print('Difference :')\n",
    "difference = r2_score(y_test,final_pred)- cvs_final.mean()\n",
    "print('Diffrence between cross val score and r2 score error is :',difference)"
   ]
  },
  {
   "cell_type": "markdown",
   "metadata": {},
   "source": [
    "## Regularization : ElasticNet"
   ]
  },
  {
   "cell_type": "code",
   "execution_count": 2445,
   "metadata": {},
   "outputs": [],
   "source": [
    "#Elastic-Net is a linear regression model trained with both l1 and l2 -norm regularization of the coefficients.\n",
    "from sklearn.linear_model import ElasticNet"
   ]
  },
  {
   "cell_type": "code",
   "execution_count": 2446,
   "metadata": {},
   "outputs": [
    {
     "name": "stdout",
     "output_type": "stream",
     "text": [
      "0.15340318452218193\n",
      "{'alpha': 1, 'random_state': 1}\n"
     ]
    }
   ],
   "source": [
    "#Hyperparameter tuning for ElasticNet\n",
    "parameters = {'alpha' : [.0001,.001,.01,.1,1,10],'random_state' : list(range(1,10))}\n",
    "eln = ElasticNet()\n",
    "eln_gsv = GridSearchCV(estimator= ls ,param_grid=  parameters,cv =5)\n",
    "eln_gsv.fit(x_train,y_train)\n",
    "print(eln_gsv.best_score_)\n",
    "print(eln_gsv.best_params_)"
   ]
  },
  {
   "cell_type": "code",
   "execution_count": 2447,
   "metadata": {},
   "outputs": [
    {
     "name": "stdout",
     "output_type": "stream",
     "text": [
      "0.18845767659151835\n"
     ]
    }
   ],
   "source": [
    "Eln_final = ElasticNet(alpha= 1,random_state=1)\n",
    "Eln_final.fit(x_train,y_train)\n",
    "Eln_pred = Eln_final.predict(x_test)\n",
    "print(r2_score(y_test,Eln_pred))"
   ]
  },
  {
   "cell_type": "code",
   "execution_count": 2448,
   "metadata": {},
   "outputs": [
    {
     "data": {
      "text/plain": [
       "array([ 0.8839833 ,  3.41524923,  0.        , 15.64525163, 26.96445308])"
      ]
     },
     "execution_count": 2448,
     "metadata": {},
     "output_type": "execute_result"
    }
   ],
   "source": [
    "#lets check the coffeients of this columns\n",
    "Eln_final.coef_"
   ]
  },
  {
   "cell_type": "code",
   "execution_count": 2449,
   "metadata": {},
   "outputs": [
    {
     "data": {
      "image/png": "[encoded data removed]",
      "text/plain": [
       "<Figure size 432x288 with 1 Axes>"
      ]
     },
     "metadata": {
      "needs_background": "light"
     },
     "output_type": "display_data"
    }
   ],
   "source": [
    "#we can see that coeffients are very high and very low\n",
    "plt.bar(X_train_original.columns,Eln_final.coef_)\n",
    "plt.show()"
   ]
  },
  {
   "cell_type": "markdown",
   "metadata": {},
   "source": [
    "## creating a ElasticNet model"
   ]
  },
  {
   "cell_type": "code",
   "execution_count": 2450,
   "metadata": {},
   "outputs": [
    {
     "name": "stdout",
     "output_type": "stream",
     "text": [
      "Score\n",
      "R2_score : 0.18845767659151835\n",
      "\n",
      "\n",
      "Error :\n",
      "mean absolute error : 137.17672867923977\n",
      "mean squared error :  29303.16344726054\n",
      "Cross Val score : 0.16686433851040633\n",
      "\n",
      "\n",
      "Difference :\n",
      "Diffrence between cross val score and r2 score error is : 0.021593338081112023\n"
     ]
    }
   ],
   "source": [
    "final_model = ElasticNet(alpha= 1,random_state=1)\n",
    "final_model.fit(x_train,y_train)\n",
    "final_pred = final_model.predict(x_test)\n",
    "print('Score')\n",
    "print('R2_score :',r2_score(y_test,final_pred))\n",
    "print('\\n')\n",
    "print('Error :')\n",
    "print('mean absolute error :',mean_absolute_error(y_test,final_pred))\n",
    "print('mean squared error : ', mean_squared_error(y_test,final_pred))\n",
    "cvs_final = cross_val_score(final_models,X_train_original,Y,cv =5)\n",
    "print('Cross Val score :',cvs_final.mean())\n",
    "print('\\n')\n",
    "print('Difference :')\n",
    "difference = r2_score(y_test,final_pred)- cvs_final.mean()\n",
    "print('Diffrence between cross val score and r2 score error is :',difference)"
   ]
  },
  {
   "cell_type": "markdown",
   "metadata": {},
   "source": [
    "## Saving the best model"
   ]
  },
  {
   "cell_type": "code",
   "execution_count": 2451,
   "metadata": {},
   "outputs": [
    {
     "data": {
      "text/plain": [
       "['Doctor_final.obj']"
      ]
     },
     "execution_count": 2451,
     "metadata": {},
     "output_type": "execute_result"
    }
   ],
   "source": [
    "#using joblib for serialization\n",
    "import joblib\n",
    "joblib.dump(final_model,'Doctor_final.obj')"
   ]
  },
  {
   "cell_type": "code",
   "execution_count": 2452,
   "metadata": {},
   "outputs": [],
   "source": [
    "Doctor_final = joblib.load('Doctor_final.obj')"
   ]
  },
  {
   "cell_type": "code",
   "execution_count": 2453,
   "metadata": {},
   "outputs": [
    {
     "data": {
      "text/plain": [
       "0.18845767659151835"
      ]
     },
     "execution_count": 2453,
     "metadata": {},
     "output_type": "execute_result"
    }
   ],
   "source": [
    "pred = Doctor_final.predict(x_test)\n",
    "r2_score(y_test,pred)"
   ]
  },
  {
   "cell_type": "code",
   "execution_count": 2454,
   "metadata": {},
   "outputs": [
    {
     "data": {
      "image/png": "[encoded data removed]",
      "text/plain": [
       "<Figure size 432x288 with 1 Axes>"
      ]
     },
     "metadata": {
      "needs_background": "light"
     },
     "output_type": "display_data"
    }
   ],
   "source": [
    "plt.figure(figsize=(6,4))\n",
    "plt.scatter(x = y_test,y = pred,color = 'r')\n",
    "plt.plot(y_test,y_test,color = 'b')\n",
    "plt.xlabel('Actual charges')\n",
    "plt.ylabel('Predicted charges')\n",
    "plt.title('Linear Regressor')\n",
    "plt.show()"
   ]
  },
  {
   "cell_type": "markdown",
   "metadata": {},
   "source": [
    "## Now Lets Predict Our Original X_test_original"
   ]
  },
  {
   "cell_type": "code",
   "execution_count": 2455,
   "metadata": {},
   "outputs": [
    {
     "name": "stdout",
     "output_type": "stream",
     "text": [
      "[296.71541911 359.24392706 362.85020815 ... 296.98337417 251.15660528\n",
      " 367.75150754]\n"
     ]
    }
   ],
   "source": [
    "final_model.fit(x_train,y_train)\n",
    "final_pred = final_model.predict(X_test_original)\n",
    "print(final_pred)"
   ]
  },
  {
   "cell_type": "markdown",
   "metadata": {},
   "source": [
    "This is the Prediction of our ORIGINAL X_TEST"
   ]
  },
  {
   "cell_type": "markdown",
   "metadata": {},
   "source": [
    "## conclusion"
   ]
  },
  {
   "cell_type": "code",
   "execution_count": 2456,
   "metadata": {},
   "outputs": [
    {
     "data": {
      "text/html": [
       "<div>\n",
       "<style scoped>\n",
       "    .dataframe tbody tr th:only-of-type {\n",
       "        vertical-align: middle;\n",
       "    }\n",
       "\n",
       "    .dataframe tbody tr th {\n",
       "        vertical-align: top;\n",
       "    }\n",
       "\n",
       "    .dataframe thead th {\n",
       "        text-align: right;\n",
       "    }\n",
       "</style>\n",
       "<table border=\"1\" class=\"dataframe\">\n",
       "  <thead>\n",
       "    <tr style=\"text-align: right;\">\n",
       "      <th></th>\n",
       "      <th>0</th>\n",
       "      <th>1</th>\n",
       "      <th>2</th>\n",
       "      <th>3</th>\n",
       "      <th>4</th>\n",
       "      <th>5</th>\n",
       "      <th>6</th>\n",
       "      <th>7</th>\n",
       "      <th>8</th>\n",
       "      <th>9</th>\n",
       "      <th>...</th>\n",
       "      <th>1302</th>\n",
       "      <th>1303</th>\n",
       "      <th>1304</th>\n",
       "      <th>1305</th>\n",
       "      <th>1306</th>\n",
       "      <th>1307</th>\n",
       "      <th>1308</th>\n",
       "      <th>1309</th>\n",
       "      <th>1310</th>\n",
       "      <th>1311</th>\n",
       "    </tr>\n",
       "  </thead>\n",
       "  <tbody>\n",
       "    <tr>\n",
       "      <td>Predicted</td>\n",
       "      <td>343.209562</td>\n",
       "      <td>432.505495</td>\n",
       "      <td>360.261698</td>\n",
       "      <td>358.854814</td>\n",
       "      <td>248.975291</td>\n",
       "      <td>260.991347</td>\n",
       "      <td>184.067571</td>\n",
       "      <td>345.283838</td>\n",
       "      <td>374.889179</td>\n",
       "      <td>312.55012</td>\n",
       "      <td>...</td>\n",
       "      <td>282.443847</td>\n",
       "      <td>383.128804</td>\n",
       "      <td>233.875428</td>\n",
       "      <td>184.067571</td>\n",
       "      <td>367.751508</td>\n",
       "      <td>233.330039</td>\n",
       "      <td>360.92909</td>\n",
       "      <td>233.875428</td>\n",
       "      <td>374.889179</td>\n",
       "      <td>295.546649</td>\n",
       "    </tr>\n",
       "    <tr>\n",
       "      <td>Actual</td>\n",
       "      <td>500.000000</td>\n",
       "      <td>600.000000</td>\n",
       "      <td>500.000000</td>\n",
       "      <td>100.000000</td>\n",
       "      <td>200.000000</td>\n",
       "      <td>200.000000</td>\n",
       "      <td>200.000000</td>\n",
       "      <td>180.000000</td>\n",
       "      <td>200.000000</td>\n",
       "      <td>300.00000</td>\n",
       "      <td>...</td>\n",
       "      <td>200.000000</td>\n",
       "      <td>100.000000</td>\n",
       "      <td>300.000000</td>\n",
       "      <td>100.000000</td>\n",
       "      <td>200.000000</td>\n",
       "      <td>100.000000</td>\n",
       "      <td>100.00000</td>\n",
       "      <td>100.000000</td>\n",
       "      <td>500.000000</td>\n",
       "      <td>400.000000</td>\n",
       "    </tr>\n",
       "  </tbody>\n",
       "</table>\n",
       "<p>2 rows × 1312 columns</p>\n",
       "</div>"
      ],
      "text/plain": [
       "                 0           1           2           3           4     \\\n",
       "Predicted  343.209562  432.505495  360.261698  358.854814  248.975291   \n",
       "Actual     500.000000  600.000000  500.000000  100.000000  200.000000   \n",
       "\n",
       "                 5           6           7           8          9     ...  \\\n",
       "Predicted  260.991347  184.067571  345.283838  374.889179  312.55012  ...   \n",
       "Actual     200.000000  200.000000  180.000000  200.000000  300.00000  ...   \n",
       "\n",
       "                 1302        1303        1304        1305        1306  \\\n",
       "Predicted  282.443847  383.128804  233.875428  184.067571  367.751508   \n",
       "Actual     200.000000  100.000000  300.000000  100.000000  200.000000   \n",
       "\n",
       "                 1307       1308        1309        1310        1311  \n",
       "Predicted  233.330039  360.92909  233.875428  374.889179  295.546649  \n",
       "Actual     100.000000  100.00000  100.000000  500.000000  400.000000  \n",
       "\n",
       "[2 rows x 1312 columns]"
      ]
     },
     "execution_count": 2456,
     "metadata": {},
     "output_type": "execute_result"
    }
   ],
   "source": [
    "conclusion = pd.DataFrame((Doctor_final.predict(x_test)[:],y_test[:]),index= ['Predicted','Actual'])\n",
    "conclusion"
   ]
  },
  {
   "cell_type": "code",
   "execution_count": null,
   "metadata": {},
   "outputs": [],
   "source": []
  }
 ],
 "metadata": {
  "kernelspec": {
   "display_name": "Python 3",
   "language": "python",
   "name": "python3"
  },
  "language_info": {
   "codemirror_mode": {
    "name": "ipython",
    "version": 3
   },
   "file_extension": ".py",
   "mimetype": "text/x-python",
   "name": "python",
   "nbconvert_exporter": "python",
   "pygments_lexer": "ipython3",
   "version": "3.7.4"
  }
 },
 "nbformat": 4,
 "nbformat_minor": 2
}
